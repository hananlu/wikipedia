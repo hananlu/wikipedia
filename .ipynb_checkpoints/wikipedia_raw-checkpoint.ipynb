{
 "cells": [
  {
   "cell_type": "code",
   "execution_count": 1,
   "id": "04051b2f",
   "metadata": {
    "id": "04051b2f"
   },
   "outputs": [],
   "source": [
    "import pandas as pd\n",
    "import numpy as np\n",
    "import matplotlib.pyplot as plt\n",
    "import seaborn as sns\n",
    "\n",
    "import warnings\n",
    "warnings.simplefilter(action='ignore', category=FutureWarning)"
   ]
  },
  {
   "cell_type": "code",
   "execution_count": 2,
   "id": "ab92350e",
   "metadata": {
    "colab": {
     "base_uri": "https://localhost:8080/",
     "height": 206
    },
    "id": "ab92350e",
    "outputId": "34a5cb14-2f10-473e-dc1e-75a38e906e76"
   },
   "outputs": [
    {
     "data": {
      "text/html": [
       "<div>\n",
       "<style scoped>\n",
       "    .dataframe tbody tr th:only-of-type {\n",
       "        vertical-align: middle;\n",
       "    }\n",
       "\n",
       "    .dataframe tbody tr th {\n",
       "        vertical-align: top;\n",
       "    }\n",
       "\n",
       "    .dataframe thead th {\n",
       "        text-align: right;\n",
       "    }\n",
       "</style>\n",
       "<table border=\"1\" class=\"dataframe\">\n",
       "  <thead>\n",
       "    <tr style=\"text-align: right;\">\n",
       "      <th></th>\n",
       "      <th>0</th>\n",
       "      <th>1</th>\n",
       "      <th>2</th>\n",
       "      <th>3</th>\n",
       "      <th>4</th>\n",
       "    </tr>\n",
       "  </thead>\n",
       "  <tbody>\n",
       "    <tr>\n",
       "      <th>0</th>\n",
       "      <td>929840853</td>\n",
       "      <td>1190146243326</td>\n",
       "      <td>http://upload.wikimedia.org/wikipedia/en/thumb...</td>\n",
       "      <td>-</td>\n",
       "      <td>NaN</td>\n",
       "    </tr>\n",
       "    <tr>\n",
       "      <th>1</th>\n",
       "      <td>929840856</td>\n",
       "      <td>1190146243321</td>\n",
       "      <td>http://en.wikipedia.org/images/wiki-en.png</td>\n",
       "      <td>-</td>\n",
       "      <td>NaN</td>\n",
       "    </tr>\n",
       "    <tr>\n",
       "      <th>2</th>\n",
       "      <td>929840854</td>\n",
       "      <td>1190146243311</td>\n",
       "      <td>http://upload.wikimedia.org/wikipedia/commons/...</td>\n",
       "      <td>-</td>\n",
       "      <td>NaN</td>\n",
       "    </tr>\n",
       "    <tr>\n",
       "      <th>3</th>\n",
       "      <td>929840855</td>\n",
       "      <td>1190146243301</td>\n",
       "      <td>http://es.wikipedia.org/w/index.php?title=-&amp;ac...</td>\n",
       "      <td>-</td>\n",
       "      <td>NaN</td>\n",
       "    </tr>\n",
       "    <tr>\n",
       "      <th>4</th>\n",
       "      <td>929840857</td>\n",
       "      <td>1190146243303</td>\n",
       "      <td>http://en.wikipedia.org/w/index.php?title=Medi...</td>\n",
       "      <td>-</td>\n",
       "      <td>NaN</td>\n",
       "    </tr>\n",
       "  </tbody>\n",
       "</table>\n",
       "</div>"
      ],
      "text/plain": [
       "           0              1  \\\n",
       "0  929840853  1190146243326   \n",
       "1  929840856  1190146243321   \n",
       "2  929840854  1190146243311   \n",
       "3  929840855  1190146243301   \n",
       "4  929840857  1190146243303   \n",
       "\n",
       "                                                   2  3    4  \n",
       "0  http://upload.wikimedia.org/wikipedia/en/thumb...  -  NaN  \n",
       "1         http://en.wikipedia.org/images/wiki-en.png  -  NaN  \n",
       "2  http://upload.wikimedia.org/wikipedia/commons/...  -  NaN  \n",
       "3  http://es.wikipedia.org/w/index.php?title=-&ac...  -  NaN  \n",
       "4  http://en.wikipedia.org/w/index.php?title=Medi...  -  NaN  "
      ]
     },
     "execution_count": 2,
     "metadata": {},
     "output_type": "execute_result"
    }
   ],
   "source": [
    "df = pd.read_csv('https://raw.githubusercontent.com/hananlu/wikipedia/master/dataset/sampledata.csv', on_bad_lines='skip', header=None, sep='\\t', encoding='latin-1')\n",
    "df.head()"
   ]
  },
  {
   "cell_type": "code",
   "execution_count": 3,
   "id": "1ec8ba34",
   "metadata": {
    "colab": {
     "base_uri": "https://localhost:8080/"
    },
    "id": "1ec8ba34",
    "outputId": "cb1f7aa9-8fda-4592-acf5-84572c1427e5"
   },
   "outputs": [
    {
     "data": {
      "text/plain": [
       "(1036, 5)"
      ]
     },
     "execution_count": 3,
     "metadata": {},
     "output_type": "execute_result"
    }
   ],
   "source": [
    "df.shape"
   ]
  },
  {
   "cell_type": "code",
   "execution_count": 4,
   "id": "8GmhotNvbnDH",
   "metadata": {
    "id": "8GmhotNvbnDH"
   },
   "outputs": [],
   "source": [
    "df.drop(columns=4, inplace=True)"
   ]
  },
  {
   "cell_type": "code",
   "execution_count": 5,
   "id": "6eab9fa4",
   "metadata": {
    "id": "6eab9fa4"
   },
   "outputs": [],
   "source": [
    "df.columns = ['monotonic', 'timestamp', 'url', 'flag']"
   ]
  },
  {
   "cell_type": "code",
   "execution_count": 6,
   "id": "bd588ca0",
   "metadata": {
    "colab": {
     "base_uri": "https://localhost:8080/",
     "height": 112
    },
    "id": "bd588ca0",
    "outputId": "063545a7-073a-4533-db2e-89f476cfe944"
   },
   "outputs": [
    {
     "data": {
      "text/html": [
       "<div>\n",
       "<style scoped>\n",
       "    .dataframe tbody tr th:only-of-type {\n",
       "        vertical-align: middle;\n",
       "    }\n",
       "\n",
       "    .dataframe tbody tr th {\n",
       "        vertical-align: top;\n",
       "    }\n",
       "\n",
       "    .dataframe thead th {\n",
       "        text-align: right;\n",
       "    }\n",
       "</style>\n",
       "<table border=\"1\" class=\"dataframe\">\n",
       "  <thead>\n",
       "    <tr style=\"text-align: right;\">\n",
       "      <th></th>\n",
       "      <th>monotonic</th>\n",
       "      <th>timestamp</th>\n",
       "      <th>url</th>\n",
       "      <th>flag</th>\n",
       "    </tr>\n",
       "  </thead>\n",
       "  <tbody>\n",
       "    <tr>\n",
       "      <th>0</th>\n",
       "      <td>929840853</td>\n",
       "      <td>1190146243326</td>\n",
       "      <td>http://upload.wikimedia.org/wikipedia/en/thumb...</td>\n",
       "      <td>-</td>\n",
       "    </tr>\n",
       "    <tr>\n",
       "      <th>1</th>\n",
       "      <td>929840856</td>\n",
       "      <td>1190146243321</td>\n",
       "      <td>http://en.wikipedia.org/images/wiki-en.png</td>\n",
       "      <td>-</td>\n",
       "    </tr>\n",
       "  </tbody>\n",
       "</table>\n",
       "</div>"
      ],
      "text/plain": [
       "   monotonic      timestamp  \\\n",
       "0  929840853  1190146243326   \n",
       "1  929840856  1190146243321   \n",
       "\n",
       "                                                 url flag  \n",
       "0  http://upload.wikimedia.org/wikipedia/en/thumb...    -  \n",
       "1         http://en.wikipedia.org/images/wiki-en.png    -  "
      ]
     },
     "execution_count": 6,
     "metadata": {},
     "output_type": "execute_result"
    }
   ],
   "source": [
    "df.head(2)"
   ]
  },
  {
   "cell_type": "code",
   "execution_count": 7,
   "id": "8198bb90",
   "metadata": {
    "colab": {
     "base_uri": "https://localhost:8080/"
    },
    "id": "8198bb90",
    "outputId": "8c187e8d-c3e1-4d21-bb9f-5a761ef3249f"
   },
   "outputs": [
    {
     "data": {
      "text/plain": [
       "http://upload.wikimedia.org/wikipedia/en/1/18/Monobook-bullet.png                                                                     19\n",
       "http://en.wikipedia.org/w/index.php?title=MediaWiki:Common.css&usemsgcache=yes&action=raw&ctype=text/css&smaxage=2678400              17\n",
       "http://en.wikipedia.org/skins-1.5/common/shared.css?99                                                                                15\n",
       "http://meta.wikimedia.org/w/index.php?title=MediaWiki:Wikiminiatlas.js&action=raw&ctype=text/javascript&smaxage=21600&maxage=86400    15\n",
       "http://en.wikipedia.org/w/index.php?title=-&action=raw&gen=js&useskin=monobook                                                        14\n",
       "                                                                                                                                      ..\n",
       "http://upload.wikimedia.org/wikipedia/commons/thumb/c/cb/Nuvola_apps_clock.png/23px-Nuvola_apps_clock.png                              1\n",
       "http://upload.wikimedia.org/wikipedia/en/7/7f/Wikibooks-logo-35px.png                                                                  1\n",
       "http://upload.wikimedia.org/wikipedia/commons/thumb/f/fb/Gyrus_Dentatus_40x.jpg/250px-Gyrus_Dentatus_40x.jpg                           1\n",
       "http://upload.wikimedia.org/wikipedia/en/thumb/e/ec/Deutschlandlied-Geographie.png/250px-Deutschlandlied-Geographie.png                1\n",
       "http://en.wikipedia.org/wiki/List_of_The_4400_episodes                                                                                 1\n",
       "Name: url, Length: 755, dtype: int64"
      ]
     },
     "execution_count": 7,
     "metadata": {},
     "output_type": "execute_result"
    }
   ],
   "source": [
    "df.url.value_counts()[:1000]"
   ]
  },
  {
   "cell_type": "code",
   "execution_count": 8,
   "id": "620003c5",
   "metadata": {
    "colab": {
     "base_uri": "https://localhost:8080/"
    },
    "id": "620003c5",
    "outputId": "116309db-1126-467a-9364-b9fc41ee4fa1"
   },
   "outputs": [
    {
     "data": {
      "text/plain": [
       "0"
      ]
     },
     "execution_count": 8,
     "metadata": {},
     "output_type": "execute_result"
    }
   ],
   "source": [
    "df.duplicated().sum()"
   ]
  },
  {
   "cell_type": "code",
   "execution_count": 9,
   "id": "1890495b",
   "metadata": {
    "id": "1890495b"
   },
   "outputs": [],
   "source": [
    "dataset = df.copy()"
   ]
  },
  {
   "cell_type": "code",
   "execution_count": 10,
   "id": "5358c8f8",
   "metadata": {
    "colab": {
     "base_uri": "https://localhost:8080/",
     "height": 424
    },
    "id": "5358c8f8",
    "outputId": "8e907e12-2f27-410f-d52c-26006a6942b0"
   },
   "outputs": [
    {
     "data": {
      "text/html": [
       "<div>\n",
       "<style scoped>\n",
       "    .dataframe tbody tr th:only-of-type {\n",
       "        vertical-align: middle;\n",
       "    }\n",
       "\n",
       "    .dataframe tbody tr th {\n",
       "        vertical-align: top;\n",
       "    }\n",
       "\n",
       "    .dataframe thead th {\n",
       "        text-align: right;\n",
       "    }\n",
       "</style>\n",
       "<table border=\"1\" class=\"dataframe\">\n",
       "  <thead>\n",
       "    <tr style=\"text-align: right;\">\n",
       "      <th></th>\n",
       "      <th>monotonic</th>\n",
       "      <th>timestamp</th>\n",
       "      <th>url</th>\n",
       "      <th>flag</th>\n",
       "    </tr>\n",
       "  </thead>\n",
       "  <tbody>\n",
       "    <tr>\n",
       "      <th>0</th>\n",
       "      <td>929840853</td>\n",
       "      <td>1190146243326</td>\n",
       "      <td>http://upload.wikimedia.org/wikipedia/en/thumb...</td>\n",
       "      <td>-</td>\n",
       "    </tr>\n",
       "    <tr>\n",
       "      <th>1</th>\n",
       "      <td>929840856</td>\n",
       "      <td>1190146243321</td>\n",
       "      <td>http://en.wikipedia.org/images/wiki-en.png</td>\n",
       "      <td>-</td>\n",
       "    </tr>\n",
       "    <tr>\n",
       "      <th>2</th>\n",
       "      <td>929840854</td>\n",
       "      <td>1190146243311</td>\n",
       "      <td>http://upload.wikimedia.org/wikipedia/commons/...</td>\n",
       "      <td>-</td>\n",
       "    </tr>\n",
       "    <tr>\n",
       "      <th>3</th>\n",
       "      <td>929840855</td>\n",
       "      <td>1190146243301</td>\n",
       "      <td>http://es.wikipedia.org/w/index.php?title=-&amp;ac...</td>\n",
       "      <td>-</td>\n",
       "    </tr>\n",
       "    <tr>\n",
       "      <th>4</th>\n",
       "      <td>929840857</td>\n",
       "      <td>1190146243303</td>\n",
       "      <td>http://en.wikipedia.org/w/index.php?title=Medi...</td>\n",
       "      <td>-</td>\n",
       "    </tr>\n",
       "    <tr>\n",
       "      <th>...</th>\n",
       "      <td>...</td>\n",
       "      <td>...</td>\n",
       "      <td>...</td>\n",
       "      <td>...</td>\n",
       "    </tr>\n",
       "    <tr>\n",
       "      <th>1031</th>\n",
       "      <td>929841885</td>\n",
       "      <td>119014624366</td>\n",
       "      <td>http://en.wikipedia.org/wiki/Florence_Nightingale</td>\n",
       "      <td>-</td>\n",
       "    </tr>\n",
       "    <tr>\n",
       "      <th>1032</th>\n",
       "      <td>929841884</td>\n",
       "      <td>1190146243652</td>\n",
       "      <td>http://upload.wikimedia.org/wikipedia/commons/...</td>\n",
       "      <td>-</td>\n",
       "    </tr>\n",
       "    <tr>\n",
       "      <th>1033</th>\n",
       "      <td>929841887</td>\n",
       "      <td>1190146243628</td>\n",
       "      <td>http://commons.wikimedia.org/w/index.php?title...</td>\n",
       "      <td>-</td>\n",
       "    </tr>\n",
       "    <tr>\n",
       "      <th>1034</th>\n",
       "      <td>929841890</td>\n",
       "      <td>1190146243655</td>\n",
       "      <td>http://en.wikipedia.org/wiki/List_of_The_4400_...</td>\n",
       "      <td>-</td>\n",
       "    </tr>\n",
       "    <tr>\n",
       "      <th>1035</th>\n",
       "      <td>929841892</td>\n",
       "      <td>1190146243656</td>\n",
       "      <td>http://meta.wikimedia.org/w/index.php?title=Me...</td>\n",
       "      <td>-</td>\n",
       "    </tr>\n",
       "  </tbody>\n",
       "</table>\n",
       "<p>1036 rows × 4 columns</p>\n",
       "</div>"
      ],
      "text/plain": [
       "      monotonic      timestamp  \\\n",
       "0     929840853  1190146243326   \n",
       "1     929840856  1190146243321   \n",
       "2     929840854  1190146243311   \n",
       "3     929840855  1190146243301   \n",
       "4     929840857  1190146243303   \n",
       "...         ...            ...   \n",
       "1031  929841885   119014624366   \n",
       "1032  929841884  1190146243652   \n",
       "1033  929841887  1190146243628   \n",
       "1034  929841890  1190146243655   \n",
       "1035  929841892  1190146243656   \n",
       "\n",
       "                                                    url flag  \n",
       "0     http://upload.wikimedia.org/wikipedia/en/thumb...    -  \n",
       "1            http://en.wikipedia.org/images/wiki-en.png    -  \n",
       "2     http://upload.wikimedia.org/wikipedia/commons/...    -  \n",
       "3     http://es.wikipedia.org/w/index.php?title=-&ac...    -  \n",
       "4     http://en.wikipedia.org/w/index.php?title=Medi...    -  \n",
       "...                                                 ...  ...  \n",
       "1031  http://en.wikipedia.org/wiki/Florence_Nightingale    -  \n",
       "1032  http://upload.wikimedia.org/wikipedia/commons/...    -  \n",
       "1033  http://commons.wikimedia.org/w/index.php?title...    -  \n",
       "1034  http://en.wikipedia.org/wiki/List_of_The_4400_...    -  \n",
       "1035  http://meta.wikimedia.org/w/index.php?title=Me...    -  \n",
       "\n",
       "[1036 rows x 4 columns]"
      ]
     },
     "execution_count": 10,
     "metadata": {},
     "output_type": "execute_result"
    }
   ],
   "source": [
    "dataset"
   ]
  },
  {
   "cell_type": "code",
   "execution_count": 11,
   "id": "a2bb1c80",
   "metadata": {
    "id": "a2bb1c80"
   },
   "outputs": [],
   "source": [
    "# dataset.to_csv('./dataset/wikipedia_trace.csv', index=False)"
   ]
  },
  {
   "cell_type": "code",
   "execution_count": 12,
   "id": "7df782b0",
   "metadata": {
    "id": "7df782b0"
   },
   "outputs": [],
   "source": [
    "# dataset = pd.read_csv('./dataset/wikipedia_trace.csv')\n",
    "# dataset.head()"
   ]
  },
  {
   "cell_type": "code",
   "execution_count": 13,
   "id": "cd0096a7",
   "metadata": {
    "colab": {
     "base_uri": "https://localhost:8080/"
    },
    "id": "cd0096a7",
    "outputId": "e86a15e1-ba29-4ba5-aad0-210c8a6fabaa"
   },
   "outputs": [
    {
     "data": {
      "text/plain": [
       "monotonic     int64\n",
       "timestamp     int64\n",
       "url          object\n",
       "flag         object\n",
       "dtype: object"
      ]
     },
     "execution_count": 13,
     "metadata": {},
     "output_type": "execute_result"
    }
   ],
   "source": [
    "dataset.dtypes"
   ]
  },
  {
   "cell_type": "code",
   "execution_count": 14,
   "id": "d6e0ab40",
   "metadata": {
    "colab": {
     "base_uri": "https://localhost:8080/"
    },
    "id": "d6e0ab40",
    "outputId": "6c4b4a1b-9434-4a9f-8aab-b3bf41cd6af2"
   },
   "outputs": [
    {
     "data": {
      "text/plain": [
       "monotonic    0\n",
       "timestamp    0\n",
       "url          0\n",
       "flag         0\n",
       "dtype: int64"
      ]
     },
     "execution_count": 14,
     "metadata": {},
     "output_type": "execute_result"
    }
   ],
   "source": [
    "dataset.isnull().sum()"
   ]
  },
  {
   "cell_type": "code",
   "execution_count": 15,
   "id": "09bb8ee6",
   "metadata": {
    "id": "09bb8ee6"
   },
   "outputs": [],
   "source": [
    "dataset.loc[:,'url'] = dataset.url.str.replace('//', '*')"
   ]
  },
  {
   "cell_type": "code",
   "execution_count": 16,
   "id": "c530fe60",
   "metadata": {
    "colab": {
     "base_uri": "https://localhost:8080/",
     "height": 206
    },
    "id": "c530fe60",
    "outputId": "ab0a18e9-3d5e-4367-f573-65f25daf50a2"
   },
   "outputs": [
    {
     "data": {
      "text/html": [
       "<div>\n",
       "<style scoped>\n",
       "    .dataframe tbody tr th:only-of-type {\n",
       "        vertical-align: middle;\n",
       "    }\n",
       "\n",
       "    .dataframe tbody tr th {\n",
       "        vertical-align: top;\n",
       "    }\n",
       "\n",
       "    .dataframe thead th {\n",
       "        text-align: right;\n",
       "    }\n",
       "</style>\n",
       "<table border=\"1\" class=\"dataframe\">\n",
       "  <thead>\n",
       "    <tr style=\"text-align: right;\">\n",
       "      <th></th>\n",
       "      <th>monotonic</th>\n",
       "      <th>timestamp</th>\n",
       "      <th>url</th>\n",
       "      <th>flag</th>\n",
       "    </tr>\n",
       "  </thead>\n",
       "  <tbody>\n",
       "    <tr>\n",
       "      <th>0</th>\n",
       "      <td>929840853</td>\n",
       "      <td>1190146243326</td>\n",
       "      <td>http:*upload.wikimedia.org/wikipedia/en/thumb/...</td>\n",
       "      <td>-</td>\n",
       "    </tr>\n",
       "    <tr>\n",
       "      <th>1</th>\n",
       "      <td>929840856</td>\n",
       "      <td>1190146243321</td>\n",
       "      <td>http:*en.wikipedia.org/images/wiki-en.png</td>\n",
       "      <td>-</td>\n",
       "    </tr>\n",
       "    <tr>\n",
       "      <th>2</th>\n",
       "      <td>929840854</td>\n",
       "      <td>1190146243311</td>\n",
       "      <td>http:*upload.wikimedia.org/wikipedia/commons/t...</td>\n",
       "      <td>-</td>\n",
       "    </tr>\n",
       "    <tr>\n",
       "      <th>3</th>\n",
       "      <td>929840855</td>\n",
       "      <td>1190146243301</td>\n",
       "      <td>http:*es.wikipedia.org/w/index.php?title=-&amp;act...</td>\n",
       "      <td>-</td>\n",
       "    </tr>\n",
       "    <tr>\n",
       "      <th>4</th>\n",
       "      <td>929840857</td>\n",
       "      <td>1190146243303</td>\n",
       "      <td>http:*en.wikipedia.org/w/index.php?title=Media...</td>\n",
       "      <td>-</td>\n",
       "    </tr>\n",
       "  </tbody>\n",
       "</table>\n",
       "</div>"
      ],
      "text/plain": [
       "   monotonic      timestamp  \\\n",
       "0  929840853  1190146243326   \n",
       "1  929840856  1190146243321   \n",
       "2  929840854  1190146243311   \n",
       "3  929840855  1190146243301   \n",
       "4  929840857  1190146243303   \n",
       "\n",
       "                                                 url flag  \n",
       "0  http:*upload.wikimedia.org/wikipedia/en/thumb/...    -  \n",
       "1          http:*en.wikipedia.org/images/wiki-en.png    -  \n",
       "2  http:*upload.wikimedia.org/wikipedia/commons/t...    -  \n",
       "3  http:*es.wikipedia.org/w/index.php?title=-&act...    -  \n",
       "4  http:*en.wikipedia.org/w/index.php?title=Media...    -  "
      ]
     },
     "execution_count": 16,
     "metadata": {},
     "output_type": "execute_result"
    }
   ],
   "source": [
    "dataset.head()"
   ]
  },
  {
   "cell_type": "code",
   "execution_count": 17,
   "id": "62329634",
   "metadata": {
    "id": "62329634",
    "scrolled": true
   },
   "outputs": [],
   "source": [
    "dataset[['a', 'b', 'c', 'd', 'e', 'f', 'g', 'h']] = dataset.url.str.split('/', expand=True)"
   ]
  },
  {
   "cell_type": "code",
   "execution_count": 18,
   "id": "19e2b620",
   "metadata": {
    "colab": {
     "base_uri": "https://localhost:8080/",
     "height": 302
    },
    "id": "19e2b620",
    "outputId": "50f6ff4e-750d-4365-f00a-57b0a0729029"
   },
   "outputs": [
    {
     "data": {
      "text/html": [
       "<div>\n",
       "<style scoped>\n",
       "    .dataframe tbody tr th:only-of-type {\n",
       "        vertical-align: middle;\n",
       "    }\n",
       "\n",
       "    .dataframe tbody tr th {\n",
       "        vertical-align: top;\n",
       "    }\n",
       "\n",
       "    .dataframe thead th {\n",
       "        text-align: right;\n",
       "    }\n",
       "</style>\n",
       "<table border=\"1\" class=\"dataframe\">\n",
       "  <thead>\n",
       "    <tr style=\"text-align: right;\">\n",
       "      <th></th>\n",
       "      <th>monotonic</th>\n",
       "      <th>timestamp</th>\n",
       "      <th>url</th>\n",
       "      <th>flag</th>\n",
       "      <th>a</th>\n",
       "      <th>b</th>\n",
       "      <th>c</th>\n",
       "      <th>d</th>\n",
       "      <th>e</th>\n",
       "      <th>f</th>\n",
       "      <th>g</th>\n",
       "      <th>h</th>\n",
       "    </tr>\n",
       "  </thead>\n",
       "  <tbody>\n",
       "    <tr>\n",
       "      <th>0</th>\n",
       "      <td>929840853</td>\n",
       "      <td>1190146243326</td>\n",
       "      <td>http:*upload.wikimedia.org/wikipedia/en/thumb/...</td>\n",
       "      <td>-</td>\n",
       "      <td>http:*upload.wikimedia.org</td>\n",
       "      <td>wikipedia</td>\n",
       "      <td>en</td>\n",
       "      <td>thumb</td>\n",
       "      <td>e</td>\n",
       "      <td>e4</td>\n",
       "      <td>James_Johnson.jpg</td>\n",
       "      <td>200px-James_Johnson.jpg</td>\n",
       "    </tr>\n",
       "    <tr>\n",
       "      <th>1</th>\n",
       "      <td>929840856</td>\n",
       "      <td>1190146243321</td>\n",
       "      <td>http:*en.wikipedia.org/images/wiki-en.png</td>\n",
       "      <td>-</td>\n",
       "      <td>http:*en.wikipedia.org</td>\n",
       "      <td>images</td>\n",
       "      <td>wiki-en.png</td>\n",
       "      <td>None</td>\n",
       "      <td>None</td>\n",
       "      <td>None</td>\n",
       "      <td>None</td>\n",
       "      <td>None</td>\n",
       "    </tr>\n",
       "    <tr>\n",
       "      <th>2</th>\n",
       "      <td>929840854</td>\n",
       "      <td>1190146243311</td>\n",
       "      <td>http:*upload.wikimedia.org/wikipedia/commons/t...</td>\n",
       "      <td>-</td>\n",
       "      <td>http:*upload.wikimedia.org</td>\n",
       "      <td>wikipedia</td>\n",
       "      <td>commons</td>\n",
       "      <td>thumb</td>\n",
       "      <td>b</td>\n",
       "      <td>b9</td>\n",
       "      <td>Flag_of_Australia.svg</td>\n",
       "      <td>22px-Flag_of_Australia.svg.png</td>\n",
       "    </tr>\n",
       "    <tr>\n",
       "      <th>3</th>\n",
       "      <td>929840855</td>\n",
       "      <td>1190146243301</td>\n",
       "      <td>http:*es.wikipedia.org/w/index.php?title=-&amp;act...</td>\n",
       "      <td>-</td>\n",
       "      <td>http:*es.wikipedia.org</td>\n",
       "      <td>w</td>\n",
       "      <td>index.php?title=-&amp;action=raw&amp;gen=js&amp;useskin=mo...</td>\n",
       "      <td>None</td>\n",
       "      <td>None</td>\n",
       "      <td>None</td>\n",
       "      <td>None</td>\n",
       "      <td>None</td>\n",
       "    </tr>\n",
       "    <tr>\n",
       "      <th>4</th>\n",
       "      <td>929840857</td>\n",
       "      <td>1190146243303</td>\n",
       "      <td>http:*en.wikipedia.org/w/index.php?title=Media...</td>\n",
       "      <td>-</td>\n",
       "      <td>http:*en.wikipedia.org</td>\n",
       "      <td>w</td>\n",
       "      <td>index.php?title=MediaWiki:Monobook.css&amp;usemsgc...</td>\n",
       "      <td>css&amp;smaxage=2678400</td>\n",
       "      <td>None</td>\n",
       "      <td>None</td>\n",
       "      <td>None</td>\n",
       "      <td>None</td>\n",
       "    </tr>\n",
       "  </tbody>\n",
       "</table>\n",
       "</div>"
      ],
      "text/plain": [
       "   monotonic      timestamp  \\\n",
       "0  929840853  1190146243326   \n",
       "1  929840856  1190146243321   \n",
       "2  929840854  1190146243311   \n",
       "3  929840855  1190146243301   \n",
       "4  929840857  1190146243303   \n",
       "\n",
       "                                                 url flag  \\\n",
       "0  http:*upload.wikimedia.org/wikipedia/en/thumb/...    -   \n",
       "1          http:*en.wikipedia.org/images/wiki-en.png    -   \n",
       "2  http:*upload.wikimedia.org/wikipedia/commons/t...    -   \n",
       "3  http:*es.wikipedia.org/w/index.php?title=-&act...    -   \n",
       "4  http:*en.wikipedia.org/w/index.php?title=Media...    -   \n",
       "\n",
       "                            a          b  \\\n",
       "0  http:*upload.wikimedia.org  wikipedia   \n",
       "1      http:*en.wikipedia.org     images   \n",
       "2  http:*upload.wikimedia.org  wikipedia   \n",
       "3      http:*es.wikipedia.org          w   \n",
       "4      http:*en.wikipedia.org          w   \n",
       "\n",
       "                                                   c                    d  \\\n",
       "0                                                 en                thumb   \n",
       "1                                        wiki-en.png                 None   \n",
       "2                                            commons                thumb   \n",
       "3  index.php?title=-&action=raw&gen=js&useskin=mo...                 None   \n",
       "4  index.php?title=MediaWiki:Monobook.css&usemsgc...  css&smaxage=2678400   \n",
       "\n",
       "      e     f                      g                               h  \n",
       "0     e    e4      James_Johnson.jpg         200px-James_Johnson.jpg  \n",
       "1  None  None                   None                            None  \n",
       "2     b    b9  Flag_of_Australia.svg  22px-Flag_of_Australia.svg.png  \n",
       "3  None  None                   None                            None  \n",
       "4  None  None                   None                            None  "
      ]
     },
     "execution_count": 18,
     "metadata": {},
     "output_type": "execute_result"
    }
   ],
   "source": [
    "dataset.head()"
   ]
  },
  {
   "cell_type": "code",
   "execution_count": 19,
   "id": "7d0170a7",
   "metadata": {
    "id": "7d0170a7"
   },
   "outputs": [],
   "source": [
    "dataset.url = dataset.url.str.replace('*', '//')"
   ]
  },
  {
   "cell_type": "code",
   "execution_count": 20,
   "id": "7bb1864b",
   "metadata": {
    "id": "7bb1864b"
   },
   "outputs": [],
   "source": [
    "dataset.a = dataset.a.str.replace('*', '//')"
   ]
  },
  {
   "cell_type": "code",
   "execution_count": 21,
   "id": "77f7c8a0",
   "metadata": {
    "colab": {
     "base_uri": "https://localhost:8080/",
     "height": 302
    },
    "id": "77f7c8a0",
    "outputId": "e5d043fe-88d2-494f-83ee-80cb7dc67fb3"
   },
   "outputs": [
    {
     "data": {
      "text/html": [
       "<div>\n",
       "<style scoped>\n",
       "    .dataframe tbody tr th:only-of-type {\n",
       "        vertical-align: middle;\n",
       "    }\n",
       "\n",
       "    .dataframe tbody tr th {\n",
       "        vertical-align: top;\n",
       "    }\n",
       "\n",
       "    .dataframe thead th {\n",
       "        text-align: right;\n",
       "    }\n",
       "</style>\n",
       "<table border=\"1\" class=\"dataframe\">\n",
       "  <thead>\n",
       "    <tr style=\"text-align: right;\">\n",
       "      <th></th>\n",
       "      <th>monotonic</th>\n",
       "      <th>timestamp</th>\n",
       "      <th>url</th>\n",
       "      <th>flag</th>\n",
       "      <th>a</th>\n",
       "      <th>b</th>\n",
       "      <th>c</th>\n",
       "      <th>d</th>\n",
       "      <th>e</th>\n",
       "      <th>f</th>\n",
       "      <th>g</th>\n",
       "      <th>h</th>\n",
       "    </tr>\n",
       "  </thead>\n",
       "  <tbody>\n",
       "    <tr>\n",
       "      <th>0</th>\n",
       "      <td>929840853</td>\n",
       "      <td>1190146243326</td>\n",
       "      <td>http://upload.wikimedia.org/wikipedia/en/thumb...</td>\n",
       "      <td>-</td>\n",
       "      <td>http://upload.wikimedia.org</td>\n",
       "      <td>wikipedia</td>\n",
       "      <td>en</td>\n",
       "      <td>thumb</td>\n",
       "      <td>e</td>\n",
       "      <td>e4</td>\n",
       "      <td>James_Johnson.jpg</td>\n",
       "      <td>200px-James_Johnson.jpg</td>\n",
       "    </tr>\n",
       "    <tr>\n",
       "      <th>1</th>\n",
       "      <td>929840856</td>\n",
       "      <td>1190146243321</td>\n",
       "      <td>http://en.wikipedia.org/images/wiki-en.png</td>\n",
       "      <td>-</td>\n",
       "      <td>http://en.wikipedia.org</td>\n",
       "      <td>images</td>\n",
       "      <td>wiki-en.png</td>\n",
       "      <td>None</td>\n",
       "      <td>None</td>\n",
       "      <td>None</td>\n",
       "      <td>None</td>\n",
       "      <td>None</td>\n",
       "    </tr>\n",
       "    <tr>\n",
       "      <th>2</th>\n",
       "      <td>929840854</td>\n",
       "      <td>1190146243311</td>\n",
       "      <td>http://upload.wikimedia.org/wikipedia/commons/...</td>\n",
       "      <td>-</td>\n",
       "      <td>http://upload.wikimedia.org</td>\n",
       "      <td>wikipedia</td>\n",
       "      <td>commons</td>\n",
       "      <td>thumb</td>\n",
       "      <td>b</td>\n",
       "      <td>b9</td>\n",
       "      <td>Flag_of_Australia.svg</td>\n",
       "      <td>22px-Flag_of_Australia.svg.png</td>\n",
       "    </tr>\n",
       "    <tr>\n",
       "      <th>3</th>\n",
       "      <td>929840855</td>\n",
       "      <td>1190146243301</td>\n",
       "      <td>http://es.wikipedia.org/w/index.php?title=-&amp;ac...</td>\n",
       "      <td>-</td>\n",
       "      <td>http://es.wikipedia.org</td>\n",
       "      <td>w</td>\n",
       "      <td>index.php?title=-&amp;action=raw&amp;gen=js&amp;useskin=mo...</td>\n",
       "      <td>None</td>\n",
       "      <td>None</td>\n",
       "      <td>None</td>\n",
       "      <td>None</td>\n",
       "      <td>None</td>\n",
       "    </tr>\n",
       "    <tr>\n",
       "      <th>4</th>\n",
       "      <td>929840857</td>\n",
       "      <td>1190146243303</td>\n",
       "      <td>http://en.wikipedia.org/w/index.php?title=Medi...</td>\n",
       "      <td>-</td>\n",
       "      <td>http://en.wikipedia.org</td>\n",
       "      <td>w</td>\n",
       "      <td>index.php?title=MediaWiki:Monobook.css&amp;usemsgc...</td>\n",
       "      <td>css&amp;smaxage=2678400</td>\n",
       "      <td>None</td>\n",
       "      <td>None</td>\n",
       "      <td>None</td>\n",
       "      <td>None</td>\n",
       "    </tr>\n",
       "  </tbody>\n",
       "</table>\n",
       "</div>"
      ],
      "text/plain": [
       "   monotonic      timestamp  \\\n",
       "0  929840853  1190146243326   \n",
       "1  929840856  1190146243321   \n",
       "2  929840854  1190146243311   \n",
       "3  929840855  1190146243301   \n",
       "4  929840857  1190146243303   \n",
       "\n",
       "                                                 url flag  \\\n",
       "0  http://upload.wikimedia.org/wikipedia/en/thumb...    -   \n",
       "1         http://en.wikipedia.org/images/wiki-en.png    -   \n",
       "2  http://upload.wikimedia.org/wikipedia/commons/...    -   \n",
       "3  http://es.wikipedia.org/w/index.php?title=-&ac...    -   \n",
       "4  http://en.wikipedia.org/w/index.php?title=Medi...    -   \n",
       "\n",
       "                             a          b  \\\n",
       "0  http://upload.wikimedia.org  wikipedia   \n",
       "1      http://en.wikipedia.org     images   \n",
       "2  http://upload.wikimedia.org  wikipedia   \n",
       "3      http://es.wikipedia.org          w   \n",
       "4      http://en.wikipedia.org          w   \n",
       "\n",
       "                                                   c                    d  \\\n",
       "0                                                 en                thumb   \n",
       "1                                        wiki-en.png                 None   \n",
       "2                                            commons                thumb   \n",
       "3  index.php?title=-&action=raw&gen=js&useskin=mo...                 None   \n",
       "4  index.php?title=MediaWiki:Monobook.css&usemsgc...  css&smaxage=2678400   \n",
       "\n",
       "      e     f                      g                               h  \n",
       "0     e    e4      James_Johnson.jpg         200px-James_Johnson.jpg  \n",
       "1  None  None                   None                            None  \n",
       "2     b    b9  Flag_of_Australia.svg  22px-Flag_of_Australia.svg.png  \n",
       "3  None  None                   None                            None  \n",
       "4  None  None                   None                            None  "
      ]
     },
     "execution_count": 21,
     "metadata": {},
     "output_type": "execute_result"
    }
   ],
   "source": [
    "dataset.head()"
   ]
  },
  {
   "cell_type": "code",
   "execution_count": 22,
   "id": "95bb8e7e",
   "metadata": {
    "id": "95bb8e7e"
   },
   "outputs": [],
   "source": [
    "dataset.rename(columns={'a':'prefix_1',\n",
    "                       'b':'prefix_2',\n",
    "                       'c':'prefix_3',\n",
    "                       'd':'prefix_4',\n",
    "                       'e':'prefix_5',\n",
    "                       'f':'prefix_6',\n",
    "                       'g':'prefix_7',\n",
    "                       'h':'prefix_8'}, inplace=True)"
   ]
  },
  {
   "cell_type": "code",
   "execution_count": 23,
   "id": "c22fbd04",
   "metadata": {
    "colab": {
     "base_uri": "https://localhost:8080/",
     "height": 320
    },
    "id": "c22fbd04",
    "outputId": "b3fcc842-7ae7-478c-e892-9096fe10ee8a"
   },
   "outputs": [
    {
     "data": {
      "text/html": [
       "<div>\n",
       "<style scoped>\n",
       "    .dataframe tbody tr th:only-of-type {\n",
       "        vertical-align: middle;\n",
       "    }\n",
       "\n",
       "    .dataframe tbody tr th {\n",
       "        vertical-align: top;\n",
       "    }\n",
       "\n",
       "    .dataframe thead th {\n",
       "        text-align: right;\n",
       "    }\n",
       "</style>\n",
       "<table border=\"1\" class=\"dataframe\">\n",
       "  <thead>\n",
       "    <tr style=\"text-align: right;\">\n",
       "      <th></th>\n",
       "      <th>monotonic</th>\n",
       "      <th>timestamp</th>\n",
       "      <th>url</th>\n",
       "      <th>flag</th>\n",
       "      <th>prefix_1</th>\n",
       "      <th>prefix_2</th>\n",
       "      <th>prefix_3</th>\n",
       "      <th>prefix_4</th>\n",
       "      <th>prefix_5</th>\n",
       "      <th>prefix_6</th>\n",
       "      <th>prefix_7</th>\n",
       "      <th>prefix_8</th>\n",
       "    </tr>\n",
       "  </thead>\n",
       "  <tbody>\n",
       "    <tr>\n",
       "      <th>0</th>\n",
       "      <td>929840853</td>\n",
       "      <td>1190146243326</td>\n",
       "      <td>http://upload.wikimedia.org/wikipedia/en/thumb...</td>\n",
       "      <td>-</td>\n",
       "      <td>http://upload.wikimedia.org</td>\n",
       "      <td>wikipedia</td>\n",
       "      <td>en</td>\n",
       "      <td>thumb</td>\n",
       "      <td>e</td>\n",
       "      <td>e4</td>\n",
       "      <td>James_Johnson.jpg</td>\n",
       "      <td>200px-James_Johnson.jpg</td>\n",
       "    </tr>\n",
       "    <tr>\n",
       "      <th>1</th>\n",
       "      <td>929840856</td>\n",
       "      <td>1190146243321</td>\n",
       "      <td>http://en.wikipedia.org/images/wiki-en.png</td>\n",
       "      <td>-</td>\n",
       "      <td>http://en.wikipedia.org</td>\n",
       "      <td>images</td>\n",
       "      <td>wiki-en.png</td>\n",
       "      <td>None</td>\n",
       "      <td>None</td>\n",
       "      <td>None</td>\n",
       "      <td>None</td>\n",
       "      <td>None</td>\n",
       "    </tr>\n",
       "    <tr>\n",
       "      <th>2</th>\n",
       "      <td>929840854</td>\n",
       "      <td>1190146243311</td>\n",
       "      <td>http://upload.wikimedia.org/wikipedia/commons/...</td>\n",
       "      <td>-</td>\n",
       "      <td>http://upload.wikimedia.org</td>\n",
       "      <td>wikipedia</td>\n",
       "      <td>commons</td>\n",
       "      <td>thumb</td>\n",
       "      <td>b</td>\n",
       "      <td>b9</td>\n",
       "      <td>Flag_of_Australia.svg</td>\n",
       "      <td>22px-Flag_of_Australia.svg.png</td>\n",
       "    </tr>\n",
       "    <tr>\n",
       "      <th>3</th>\n",
       "      <td>929840855</td>\n",
       "      <td>1190146243301</td>\n",
       "      <td>http://es.wikipedia.org/w/index.php?title=-&amp;ac...</td>\n",
       "      <td>-</td>\n",
       "      <td>http://es.wikipedia.org</td>\n",
       "      <td>w</td>\n",
       "      <td>index.php?title=-&amp;action=raw&amp;gen=js&amp;useskin=mo...</td>\n",
       "      <td>None</td>\n",
       "      <td>None</td>\n",
       "      <td>None</td>\n",
       "      <td>None</td>\n",
       "      <td>None</td>\n",
       "    </tr>\n",
       "    <tr>\n",
       "      <th>4</th>\n",
       "      <td>929840857</td>\n",
       "      <td>1190146243303</td>\n",
       "      <td>http://en.wikipedia.org/w/index.php?title=Medi...</td>\n",
       "      <td>-</td>\n",
       "      <td>http://en.wikipedia.org</td>\n",
       "      <td>w</td>\n",
       "      <td>index.php?title=MediaWiki:Monobook.css&amp;usemsgc...</td>\n",
       "      <td>css&amp;smaxage=2678400</td>\n",
       "      <td>None</td>\n",
       "      <td>None</td>\n",
       "      <td>None</td>\n",
       "      <td>None</td>\n",
       "    </tr>\n",
       "  </tbody>\n",
       "</table>\n",
       "</div>"
      ],
      "text/plain": [
       "   monotonic      timestamp  \\\n",
       "0  929840853  1190146243326   \n",
       "1  929840856  1190146243321   \n",
       "2  929840854  1190146243311   \n",
       "3  929840855  1190146243301   \n",
       "4  929840857  1190146243303   \n",
       "\n",
       "                                                 url flag  \\\n",
       "0  http://upload.wikimedia.org/wikipedia/en/thumb...    -   \n",
       "1         http://en.wikipedia.org/images/wiki-en.png    -   \n",
       "2  http://upload.wikimedia.org/wikipedia/commons/...    -   \n",
       "3  http://es.wikipedia.org/w/index.php?title=-&ac...    -   \n",
       "4  http://en.wikipedia.org/w/index.php?title=Medi...    -   \n",
       "\n",
       "                      prefix_1   prefix_2  \\\n",
       "0  http://upload.wikimedia.org  wikipedia   \n",
       "1      http://en.wikipedia.org     images   \n",
       "2  http://upload.wikimedia.org  wikipedia   \n",
       "3      http://es.wikipedia.org          w   \n",
       "4      http://en.wikipedia.org          w   \n",
       "\n",
       "                                            prefix_3             prefix_4  \\\n",
       "0                                                 en                thumb   \n",
       "1                                        wiki-en.png                 None   \n",
       "2                                            commons                thumb   \n",
       "3  index.php?title=-&action=raw&gen=js&useskin=mo...                 None   \n",
       "4  index.php?title=MediaWiki:Monobook.css&usemsgc...  css&smaxage=2678400   \n",
       "\n",
       "  prefix_5 prefix_6               prefix_7                        prefix_8  \n",
       "0        e       e4      James_Johnson.jpg         200px-James_Johnson.jpg  \n",
       "1     None     None                   None                            None  \n",
       "2        b       b9  Flag_of_Australia.svg  22px-Flag_of_Australia.svg.png  \n",
       "3     None     None                   None                            None  \n",
       "4     None     None                   None                            None  "
      ]
     },
     "execution_count": 23,
     "metadata": {},
     "output_type": "execute_result"
    }
   ],
   "source": [
    "dataset.head()"
   ]
  },
  {
   "cell_type": "code",
   "execution_count": 24,
   "id": "cb5fa7fb",
   "metadata": {
    "id": "cb5fa7fb"
   },
   "outputs": [],
   "source": [
    "cek_data = dataset[['prefix_1', 'prefix_2', 'prefix_3', 'prefix_4', 'prefix_5', 'prefix_6', 'prefix_7', 'prefix_8']]"
   ]
  },
  {
   "cell_type": "code",
   "execution_count": 25,
   "id": "0e856582",
   "metadata": {
    "colab": {
     "base_uri": "https://localhost:8080/"
    },
    "id": "0e856582",
    "outputId": "7a78ff32-2fb7-4610-c7f0-dc97db9adb15"
   },
   "outputs": [
    {
     "data": {
      "text/plain": [
       "(1036, 8)"
      ]
     },
     "execution_count": 25,
     "metadata": {},
     "output_type": "execute_result"
    }
   ],
   "source": [
    "cek_data.shape"
   ]
  },
  {
   "cell_type": "code",
   "execution_count": 26,
   "id": "aaff7a7b",
   "metadata": {
    "colab": {
     "base_uri": "https://localhost:8080/",
     "height": 206
    },
    "id": "aaff7a7b",
    "outputId": "4ac55fdf-d0f1-44bf-fd57-8913e5ad9607"
   },
   "outputs": [
    {
     "data": {
      "text/html": [
       "<div>\n",
       "<style scoped>\n",
       "    .dataframe tbody tr th:only-of-type {\n",
       "        vertical-align: middle;\n",
       "    }\n",
       "\n",
       "    .dataframe tbody tr th {\n",
       "        vertical-align: top;\n",
       "    }\n",
       "\n",
       "    .dataframe thead th {\n",
       "        text-align: right;\n",
       "    }\n",
       "</style>\n",
       "<table border=\"1\" class=\"dataframe\">\n",
       "  <thead>\n",
       "    <tr style=\"text-align: right;\">\n",
       "      <th></th>\n",
       "      <th>prefix_1</th>\n",
       "      <th>prefix_2</th>\n",
       "      <th>prefix_3</th>\n",
       "      <th>prefix_4</th>\n",
       "      <th>prefix_5</th>\n",
       "      <th>prefix_6</th>\n",
       "      <th>prefix_7</th>\n",
       "      <th>prefix_8</th>\n",
       "    </tr>\n",
       "  </thead>\n",
       "  <tbody>\n",
       "    <tr>\n",
       "      <th>0</th>\n",
       "      <td>http://upload.wikimedia.org</td>\n",
       "      <td>wikipedia</td>\n",
       "      <td>en</td>\n",
       "      <td>thumb</td>\n",
       "      <td>e</td>\n",
       "      <td>e4</td>\n",
       "      <td>James_Johnson.jpg</td>\n",
       "      <td>200px-James_Johnson.jpg</td>\n",
       "    </tr>\n",
       "    <tr>\n",
       "      <th>1</th>\n",
       "      <td>http://en.wikipedia.org</td>\n",
       "      <td>images</td>\n",
       "      <td>wiki-en.png</td>\n",
       "      <td>None</td>\n",
       "      <td>None</td>\n",
       "      <td>None</td>\n",
       "      <td>None</td>\n",
       "      <td>None</td>\n",
       "    </tr>\n",
       "    <tr>\n",
       "      <th>2</th>\n",
       "      <td>http://upload.wikimedia.org</td>\n",
       "      <td>wikipedia</td>\n",
       "      <td>commons</td>\n",
       "      <td>thumb</td>\n",
       "      <td>b</td>\n",
       "      <td>b9</td>\n",
       "      <td>Flag_of_Australia.svg</td>\n",
       "      <td>22px-Flag_of_Australia.svg.png</td>\n",
       "    </tr>\n",
       "    <tr>\n",
       "      <th>3</th>\n",
       "      <td>http://es.wikipedia.org</td>\n",
       "      <td>w</td>\n",
       "      <td>index.php?title=-&amp;action=raw&amp;gen=js&amp;useskin=mo...</td>\n",
       "      <td>None</td>\n",
       "      <td>None</td>\n",
       "      <td>None</td>\n",
       "      <td>None</td>\n",
       "      <td>None</td>\n",
       "    </tr>\n",
       "    <tr>\n",
       "      <th>4</th>\n",
       "      <td>http://en.wikipedia.org</td>\n",
       "      <td>w</td>\n",
       "      <td>index.php?title=MediaWiki:Monobook.css&amp;usemsgc...</td>\n",
       "      <td>css&amp;smaxage=2678400</td>\n",
       "      <td>None</td>\n",
       "      <td>None</td>\n",
       "      <td>None</td>\n",
       "      <td>None</td>\n",
       "    </tr>\n",
       "  </tbody>\n",
       "</table>\n",
       "</div>"
      ],
      "text/plain": [
       "                      prefix_1   prefix_2  \\\n",
       "0  http://upload.wikimedia.org  wikipedia   \n",
       "1      http://en.wikipedia.org     images   \n",
       "2  http://upload.wikimedia.org  wikipedia   \n",
       "3      http://es.wikipedia.org          w   \n",
       "4      http://en.wikipedia.org          w   \n",
       "\n",
       "                                            prefix_3             prefix_4  \\\n",
       "0                                                 en                thumb   \n",
       "1                                        wiki-en.png                 None   \n",
       "2                                            commons                thumb   \n",
       "3  index.php?title=-&action=raw&gen=js&useskin=mo...                 None   \n",
       "4  index.php?title=MediaWiki:Monobook.css&usemsgc...  css&smaxage=2678400   \n",
       "\n",
       "  prefix_5 prefix_6               prefix_7                        prefix_8  \n",
       "0        e       e4      James_Johnson.jpg         200px-James_Johnson.jpg  \n",
       "1     None     None                   None                            None  \n",
       "2        b       b9  Flag_of_Australia.svg  22px-Flag_of_Australia.svg.png  \n",
       "3     None     None                   None                            None  \n",
       "4     None     None                   None                            None  "
      ]
     },
     "execution_count": 26,
     "metadata": {},
     "output_type": "execute_result"
    }
   ],
   "source": [
    "cek_data.head()"
   ]
  },
  {
   "cell_type": "code",
   "execution_count": 27,
   "id": "7b137f98",
   "metadata": {
    "colab": {
     "base_uri": "https://localhost:8080/"
    },
    "id": "7b137f98",
    "outputId": "191ee4e0-6eb6-407c-a5ad-86f53f9c9e93"
   },
   "outputs": [
    {
     "data": {
      "text/plain": [
       "0       wikipedia\n",
       "1          images\n",
       "2       wikipedia\n",
       "3               w\n",
       "4               w\n",
       "          ...    \n",
       "1031         wiki\n",
       "1032    wikipedia\n",
       "1033            w\n",
       "1034         wiki\n",
       "1035            w\n",
       "Name: prefix_2, Length: 1036, dtype: object"
      ]
     },
     "execution_count": 27,
     "metadata": {},
     "output_type": "execute_result"
    }
   ],
   "source": [
    "cek_data.prefix_2"
   ]
  },
  {
   "cell_type": "code",
   "execution_count": 28,
   "id": "d596b5d1",
   "metadata": {
    "id": "d596b5d1"
   },
   "outputs": [],
   "source": [
    "prefix = list(cek_data.columns)"
   ]
  },
  {
   "cell_type": "code",
   "execution_count": 29,
   "id": "480e7a88",
   "metadata": {
    "colab": {
     "base_uri": "https://localhost:8080/"
    },
    "id": "480e7a88",
    "outputId": "3c5ce3b4-1507-42c0-a841-78abada8fd66"
   },
   "outputs": [
    {
     "data": {
      "text/plain": [
       "['prefix_1',\n",
       " 'prefix_2',\n",
       " 'prefix_3',\n",
       " 'prefix_4',\n",
       " 'prefix_5',\n",
       " 'prefix_6',\n",
       " 'prefix_7',\n",
       " 'prefix_8']"
      ]
     },
     "execution_count": 29,
     "metadata": {},
     "output_type": "execute_result"
    }
   ],
   "source": [
    "prefix"
   ]
  },
  {
   "cell_type": "code",
   "execution_count": 30,
   "id": "a7381ed2",
   "metadata": {
    "colab": {
     "base_uri": "https://localhost:8080/"
    },
    "id": "a7381ed2",
    "outputId": "1e860509-f26a-4a4f-8423-6ebed623265f"
   },
   "outputs": [
    {
     "data": {
      "text/plain": [
       "array(['http://upload.wikimedia.org', 'http://en.wikipedia.org',\n",
       "       'http://es.wikipedia.org', 'http://pl.wikipedia.org',\n",
       "       'http://de.wikipedia.org', 'http://en.wiktionary.org',\n",
       "       'http://pt.wikipedia.org', 'http://hu.wikipedia.org',\n",
       "       'http://ca.wikipedia.org', 'http://fr.wikipedia.org',\n",
       "       'http://sv.wikipedia.org', 'http://fi.wikipedia.org',\n",
       "       'http://it.wikipedia.org', 'http://meta.wikimedia.org',\n",
       "       'http://www.wikipedia.com', 'http://hi.wikipedia.org',\n",
       "       'http://ja.wikipedia.org', 'http://en.wikibooks.org',\n",
       "       'http://www.wikipedia.org', 'http://war.wikipedia.org',\n",
       "       'http://fr.wiktionary.org', 'http://sk.wikipedia.org',\n",
       "       'http://no.wikipedia.org', 'http://it.wikiquote.org',\n",
       "       'http://bn.wikipedia.org', 'http://et.wikipedia.org',\n",
       "       'http://he.wikipedia.org', 'http://commons.wikimedia.org',\n",
       "       'http://ar.wikipedia.org', 'http://nl.wikipedia.org',\n",
       "       'http://de.wiktionary.org', 'http://wikimediafoundation.org',\n",
       "       'http://tr.wikipedia.org', 'http://en.wikinews.org',\n",
       "       'http://csb.wikipedia.org', 'http://www.wikimedia.org',\n",
       "       'http://lt.wikipedia.org'], dtype=object)"
      ]
     },
     "execution_count": 30,
     "metadata": {},
     "output_type": "execute_result"
    }
   ],
   "source": [
    "cek_data.prefix_1.unique()"
   ]
  },
  {
   "cell_type": "code",
   "execution_count": 31,
   "id": "60bd1200",
   "metadata": {
    "colab": {
     "base_uri": "https://localhost:8080/"
    },
    "id": "60bd1200",
    "outputId": "d130c7a7-f966-4b2a-e7b2-1004d68ea9aa"
   },
   "outputs": [
    {
     "name": "stdout",
     "output_type": "stream",
     "text": [
      "prefix_1\n",
      "Nama Preifix \n",
      "['http://upload.wikimedia.org' 'http://en.wikipedia.org'\n",
      " 'http://es.wikipedia.org' 'http://pl.wikipedia.org'\n",
      " 'http://de.wikipedia.org']\n",
      "37\n",
      "\n",
      "prefix_2\n",
      "Nama Preifix \n",
      "['wikipedia' 'images' 'w' 'skins-1.5' 'wiki']\n",
      "12\n",
      "\n",
      "prefix_3\n",
      "Nama Preifix \n",
      "['en' 'wiki-en.png' 'commons'\n",
      " 'index.php?title=-&action=raw&gen=js&useskin=monobook'\n",
      " 'index.php?title=MediaWiki:Monobook.css&usemsgcache=yes&action=raw&ctype=text']\n",
      "167\n",
      "\n",
      "prefix_4\n",
      "Nama Preifix \n",
      "['thumb' None 'css&smaxage=2678400' 'IE60Fixes.css?99' 'images']\n",
      "58\n",
      "\n",
      "prefix_5\n",
      "Nama Preifix \n",
      "['e' None 'b' '4' '9']\n",
      "83\n",
      "\n",
      "prefix_6\n",
      "Nama Preifix \n",
      "['e4' None 'b9' '4a' '9a']\n",
      "268\n",
      "\n",
      "prefix_7\n",
      "Nama Preifix \n",
      "['James_Johnson.jpg' None 'Flag_of_Australia.svg' 'Commons-logo.svg'\n",
      " 'Flag_of_Spain.svg']\n",
      "334\n",
      "\n",
      "prefix_8\n",
      "Nama Preifix \n",
      "['200px-James_Johnson.jpg' None '22px-Flag_of_Australia.svg.png'\n",
      " '50px-Commons-logo.svg.png' '20px-Flag_of_Spain.svg.png']\n",
      "357\n",
      "\n"
     ]
    }
   ],
   "source": [
    "for i in cek_data:\n",
    "    print(i)\n",
    "    print(f'Nama Preifix \\n{cek_data[i].unique()[:5]}')\n",
    "    print(cek_data[i].nunique())\n",
    "    print()"
   ]
  },
  {
   "cell_type": "code",
   "execution_count": 32,
   "id": "04f05c88",
   "metadata": {
    "id": "04f05c88"
   },
   "outputs": [],
   "source": [
    "dic_prefix_1_key = list(cek_data.prefix_1.unique())"
   ]
  },
  {
   "cell_type": "code",
   "execution_count": 33,
   "id": "6ae91540",
   "metadata": {
    "colab": {
     "base_uri": "https://localhost:8080/"
    },
    "id": "6ae91540",
    "outputId": "75e9cecc-287b-4091-e203-ed21b309876b"
   },
   "outputs": [
    {
     "data": {
      "text/plain": [
       "['http://upload.wikimedia.org',\n",
       " 'http://en.wikipedia.org',\n",
       " 'http://es.wikipedia.org',\n",
       " 'http://pl.wikipedia.org',\n",
       " 'http://de.wikipedia.org',\n",
       " 'http://en.wiktionary.org',\n",
       " 'http://pt.wikipedia.org',\n",
       " 'http://hu.wikipedia.org',\n",
       " 'http://ca.wikipedia.org',\n",
       " 'http://fr.wikipedia.org',\n",
       " 'http://sv.wikipedia.org',\n",
       " 'http://fi.wikipedia.org',\n",
       " 'http://it.wikipedia.org',\n",
       " 'http://meta.wikimedia.org',\n",
       " 'http://www.wikipedia.com',\n",
       " 'http://hi.wikipedia.org',\n",
       " 'http://ja.wikipedia.org',\n",
       " 'http://en.wikibooks.org',\n",
       " 'http://www.wikipedia.org',\n",
       " 'http://war.wikipedia.org',\n",
       " 'http://fr.wiktionary.org',\n",
       " 'http://sk.wikipedia.org',\n",
       " 'http://no.wikipedia.org',\n",
       " 'http://it.wikiquote.org',\n",
       " 'http://bn.wikipedia.org',\n",
       " 'http://et.wikipedia.org',\n",
       " 'http://he.wikipedia.org',\n",
       " 'http://commons.wikimedia.org',\n",
       " 'http://ar.wikipedia.org',\n",
       " 'http://nl.wikipedia.org',\n",
       " 'http://de.wiktionary.org',\n",
       " 'http://wikimediafoundation.org',\n",
       " 'http://tr.wikipedia.org',\n",
       " 'http://en.wikinews.org',\n",
       " 'http://csb.wikipedia.org',\n",
       " 'http://www.wikimedia.org',\n",
       " 'http://lt.wikipedia.org']"
      ]
     },
     "execution_count": 33,
     "metadata": {},
     "output_type": "execute_result"
    }
   ],
   "source": [
    "dic_prefix_1_key"
   ]
  },
  {
   "cell_type": "code",
   "execution_count": 34,
   "id": "328cf42f",
   "metadata": {
    "id": "328cf42f"
   },
   "outputs": [],
   "source": [
    "dic_prefix_1_value = list(pd.Series(range(1,50)))"
   ]
  },
  {
   "cell_type": "code",
   "execution_count": 35,
   "id": "9ee708df",
   "metadata": {
    "colab": {
     "base_uri": "https://localhost:8080/"
    },
    "id": "9ee708df",
    "outputId": "a07955a9-dac2-44a1-f570-76a978706c28"
   },
   "outputs": [
    {
     "data": {
      "text/plain": [
       "37"
      ]
     },
     "execution_count": 35,
     "metadata": {},
     "output_type": "execute_result"
    }
   ],
   "source": [
    "len(dic_prefix_1_key)"
   ]
  },
  {
   "cell_type": "code",
   "execution_count": 36,
   "id": "0364a58b",
   "metadata": {
    "id": "0364a58b"
   },
   "outputs": [],
   "source": [
    "prefix_1_dictionary = dict(zip(dic_prefix_1_key, dic_prefix_1_value))"
   ]
  },
  {
   "cell_type": "code",
   "execution_count": 37,
   "id": "ed00897f",
   "metadata": {
    "colab": {
     "base_uri": "https://localhost:8080/"
    },
    "id": "ed00897f",
    "outputId": "7413fd5c-e756-45fd-b239-f10a5ad8a05d"
   },
   "outputs": [
    {
     "data": {
      "text/plain": [
       "{'http://upload.wikimedia.org': 1,\n",
       " 'http://en.wikipedia.org': 2,\n",
       " 'http://es.wikipedia.org': 3,\n",
       " 'http://pl.wikipedia.org': 4,\n",
       " 'http://de.wikipedia.org': 5,\n",
       " 'http://en.wiktionary.org': 6,\n",
       " 'http://pt.wikipedia.org': 7,\n",
       " 'http://hu.wikipedia.org': 8,\n",
       " 'http://ca.wikipedia.org': 9,\n",
       " 'http://fr.wikipedia.org': 10,\n",
       " 'http://sv.wikipedia.org': 11,\n",
       " 'http://fi.wikipedia.org': 12,\n",
       " 'http://it.wikipedia.org': 13,\n",
       " 'http://meta.wikimedia.org': 14,\n",
       " 'http://www.wikipedia.com': 15,\n",
       " 'http://hi.wikipedia.org': 16,\n",
       " 'http://ja.wikipedia.org': 17,\n",
       " 'http://en.wikibooks.org': 18,\n",
       " 'http://www.wikipedia.org': 19,\n",
       " 'http://war.wikipedia.org': 20,\n",
       " 'http://fr.wiktionary.org': 21,\n",
       " 'http://sk.wikipedia.org': 22,\n",
       " 'http://no.wikipedia.org': 23,\n",
       " 'http://it.wikiquote.org': 24,\n",
       " 'http://bn.wikipedia.org': 25,\n",
       " 'http://et.wikipedia.org': 26,\n",
       " 'http://he.wikipedia.org': 27,\n",
       " 'http://commons.wikimedia.org': 28,\n",
       " 'http://ar.wikipedia.org': 29,\n",
       " 'http://nl.wikipedia.org': 30,\n",
       " 'http://de.wiktionary.org': 31,\n",
       " 'http://wikimediafoundation.org': 32,\n",
       " 'http://tr.wikipedia.org': 33,\n",
       " 'http://en.wikinews.org': 34,\n",
       " 'http://csb.wikipedia.org': 35,\n",
       " 'http://www.wikimedia.org': 36,\n",
       " 'http://lt.wikipedia.org': 37}"
      ]
     },
     "execution_count": 37,
     "metadata": {},
     "output_type": "execute_result"
    }
   ],
   "source": [
    "prefix_1_dictionary"
   ]
  },
  {
   "cell_type": "code",
   "execution_count": 38,
   "id": "4956fda9",
   "metadata": {
    "colab": {
     "base_uri": "https://localhost:8080/",
     "height": 320
    },
    "id": "4956fda9",
    "outputId": "3a647912-765d-4330-d339-80e87a99e5d6"
   },
   "outputs": [
    {
     "data": {
      "text/html": [
       "<div>\n",
       "<style scoped>\n",
       "    .dataframe tbody tr th:only-of-type {\n",
       "        vertical-align: middle;\n",
       "    }\n",
       "\n",
       "    .dataframe tbody tr th {\n",
       "        vertical-align: top;\n",
       "    }\n",
       "\n",
       "    .dataframe thead th {\n",
       "        text-align: right;\n",
       "    }\n",
       "</style>\n",
       "<table border=\"1\" class=\"dataframe\">\n",
       "  <thead>\n",
       "    <tr style=\"text-align: right;\">\n",
       "      <th></th>\n",
       "      <th>monotonic</th>\n",
       "      <th>timestamp</th>\n",
       "      <th>url</th>\n",
       "      <th>flag</th>\n",
       "      <th>prefix_1</th>\n",
       "      <th>prefix_2</th>\n",
       "      <th>prefix_3</th>\n",
       "      <th>prefix_4</th>\n",
       "      <th>prefix_5</th>\n",
       "      <th>prefix_6</th>\n",
       "      <th>prefix_7</th>\n",
       "      <th>prefix_8</th>\n",
       "    </tr>\n",
       "  </thead>\n",
       "  <tbody>\n",
       "    <tr>\n",
       "      <th>0</th>\n",
       "      <td>929840853</td>\n",
       "      <td>1190146243326</td>\n",
       "      <td>http://upload.wikimedia.org/wikipedia/en/thumb...</td>\n",
       "      <td>-</td>\n",
       "      <td>http://upload.wikimedia.org</td>\n",
       "      <td>wikipedia</td>\n",
       "      <td>en</td>\n",
       "      <td>thumb</td>\n",
       "      <td>e</td>\n",
       "      <td>e4</td>\n",
       "      <td>James_Johnson.jpg</td>\n",
       "      <td>200px-James_Johnson.jpg</td>\n",
       "    </tr>\n",
       "    <tr>\n",
       "      <th>1</th>\n",
       "      <td>929840856</td>\n",
       "      <td>1190146243321</td>\n",
       "      <td>http://en.wikipedia.org/images/wiki-en.png</td>\n",
       "      <td>-</td>\n",
       "      <td>http://en.wikipedia.org</td>\n",
       "      <td>images</td>\n",
       "      <td>wiki-en.png</td>\n",
       "      <td>None</td>\n",
       "      <td>None</td>\n",
       "      <td>None</td>\n",
       "      <td>None</td>\n",
       "      <td>None</td>\n",
       "    </tr>\n",
       "    <tr>\n",
       "      <th>2</th>\n",
       "      <td>929840854</td>\n",
       "      <td>1190146243311</td>\n",
       "      <td>http://upload.wikimedia.org/wikipedia/commons/...</td>\n",
       "      <td>-</td>\n",
       "      <td>http://upload.wikimedia.org</td>\n",
       "      <td>wikipedia</td>\n",
       "      <td>commons</td>\n",
       "      <td>thumb</td>\n",
       "      <td>b</td>\n",
       "      <td>b9</td>\n",
       "      <td>Flag_of_Australia.svg</td>\n",
       "      <td>22px-Flag_of_Australia.svg.png</td>\n",
       "    </tr>\n",
       "    <tr>\n",
       "      <th>3</th>\n",
       "      <td>929840855</td>\n",
       "      <td>1190146243301</td>\n",
       "      <td>http://es.wikipedia.org/w/index.php?title=-&amp;ac...</td>\n",
       "      <td>-</td>\n",
       "      <td>http://es.wikipedia.org</td>\n",
       "      <td>w</td>\n",
       "      <td>index.php?title=-&amp;action=raw&amp;gen=js&amp;useskin=mo...</td>\n",
       "      <td>None</td>\n",
       "      <td>None</td>\n",
       "      <td>None</td>\n",
       "      <td>None</td>\n",
       "      <td>None</td>\n",
       "    </tr>\n",
       "    <tr>\n",
       "      <th>4</th>\n",
       "      <td>929840857</td>\n",
       "      <td>1190146243303</td>\n",
       "      <td>http://en.wikipedia.org/w/index.php?title=Medi...</td>\n",
       "      <td>-</td>\n",
       "      <td>http://en.wikipedia.org</td>\n",
       "      <td>w</td>\n",
       "      <td>index.php?title=MediaWiki:Monobook.css&amp;usemsgc...</td>\n",
       "      <td>css&amp;smaxage=2678400</td>\n",
       "      <td>None</td>\n",
       "      <td>None</td>\n",
       "      <td>None</td>\n",
       "      <td>None</td>\n",
       "    </tr>\n",
       "  </tbody>\n",
       "</table>\n",
       "</div>"
      ],
      "text/plain": [
       "   monotonic      timestamp  \\\n",
       "0  929840853  1190146243326   \n",
       "1  929840856  1190146243321   \n",
       "2  929840854  1190146243311   \n",
       "3  929840855  1190146243301   \n",
       "4  929840857  1190146243303   \n",
       "\n",
       "                                                 url flag  \\\n",
       "0  http://upload.wikimedia.org/wikipedia/en/thumb...    -   \n",
       "1         http://en.wikipedia.org/images/wiki-en.png    -   \n",
       "2  http://upload.wikimedia.org/wikipedia/commons/...    -   \n",
       "3  http://es.wikipedia.org/w/index.php?title=-&ac...    -   \n",
       "4  http://en.wikipedia.org/w/index.php?title=Medi...    -   \n",
       "\n",
       "                      prefix_1   prefix_2  \\\n",
       "0  http://upload.wikimedia.org  wikipedia   \n",
       "1      http://en.wikipedia.org     images   \n",
       "2  http://upload.wikimedia.org  wikipedia   \n",
       "3      http://es.wikipedia.org          w   \n",
       "4      http://en.wikipedia.org          w   \n",
       "\n",
       "                                            prefix_3             prefix_4  \\\n",
       "0                                                 en                thumb   \n",
       "1                                        wiki-en.png                 None   \n",
       "2                                            commons                thumb   \n",
       "3  index.php?title=-&action=raw&gen=js&useskin=mo...                 None   \n",
       "4  index.php?title=MediaWiki:Monobook.css&usemsgc...  css&smaxage=2678400   \n",
       "\n",
       "  prefix_5 prefix_6               prefix_7                        prefix_8  \n",
       "0        e       e4      James_Johnson.jpg         200px-James_Johnson.jpg  \n",
       "1     None     None                   None                            None  \n",
       "2        b       b9  Flag_of_Australia.svg  22px-Flag_of_Australia.svg.png  \n",
       "3     None     None                   None                            None  \n",
       "4     None     None                   None                            None  "
      ]
     },
     "execution_count": 38,
     "metadata": {},
     "output_type": "execute_result"
    }
   ],
   "source": [
    "dataset.head()"
   ]
  },
  {
   "cell_type": "code",
   "execution_count": 39,
   "id": "5f771493",
   "metadata": {
    "id": "5f771493"
   },
   "outputs": [],
   "source": [
    "dataset[['prefix_1', 'prefix_2', 'prefix_3', 'prefix_4', 'prefix_5', 'prefix_6', 'prefix_7', 'prefix_8']] = dataset[['prefix_1', 'prefix_2', 'prefix_3', 'prefix_4', 'prefix_5', 'prefix_6', 'prefix_7', 'prefix_8']].fillna(value='*edit*')"
   ]
  },
  {
   "cell_type": "code",
   "execution_count": 40,
   "id": "0e070b56",
   "metadata": {
    "colab": {
     "base_uri": "https://localhost:8080/",
     "height": 320
    },
    "id": "0e070b56",
    "outputId": "f93292b3-c971-426e-ba29-e82627b361d8"
   },
   "outputs": [
    {
     "data": {
      "text/html": [
       "<div>\n",
       "<style scoped>\n",
       "    .dataframe tbody tr th:only-of-type {\n",
       "        vertical-align: middle;\n",
       "    }\n",
       "\n",
       "    .dataframe tbody tr th {\n",
       "        vertical-align: top;\n",
       "    }\n",
       "\n",
       "    .dataframe thead th {\n",
       "        text-align: right;\n",
       "    }\n",
       "</style>\n",
       "<table border=\"1\" class=\"dataframe\">\n",
       "  <thead>\n",
       "    <tr style=\"text-align: right;\">\n",
       "      <th></th>\n",
       "      <th>monotonic</th>\n",
       "      <th>timestamp</th>\n",
       "      <th>url</th>\n",
       "      <th>flag</th>\n",
       "      <th>prefix_1</th>\n",
       "      <th>prefix_2</th>\n",
       "      <th>prefix_3</th>\n",
       "      <th>prefix_4</th>\n",
       "      <th>prefix_5</th>\n",
       "      <th>prefix_6</th>\n",
       "      <th>prefix_7</th>\n",
       "      <th>prefix_8</th>\n",
       "    </tr>\n",
       "  </thead>\n",
       "  <tbody>\n",
       "    <tr>\n",
       "      <th>0</th>\n",
       "      <td>929840853</td>\n",
       "      <td>1190146243326</td>\n",
       "      <td>http://upload.wikimedia.org/wikipedia/en/thumb...</td>\n",
       "      <td>-</td>\n",
       "      <td>http://upload.wikimedia.org</td>\n",
       "      <td>wikipedia</td>\n",
       "      <td>en</td>\n",
       "      <td>thumb</td>\n",
       "      <td>e</td>\n",
       "      <td>e4</td>\n",
       "      <td>James_Johnson.jpg</td>\n",
       "      <td>200px-James_Johnson.jpg</td>\n",
       "    </tr>\n",
       "    <tr>\n",
       "      <th>1</th>\n",
       "      <td>929840856</td>\n",
       "      <td>1190146243321</td>\n",
       "      <td>http://en.wikipedia.org/images/wiki-en.png</td>\n",
       "      <td>-</td>\n",
       "      <td>http://en.wikipedia.org</td>\n",
       "      <td>images</td>\n",
       "      <td>wiki-en.png</td>\n",
       "      <td>*edit*</td>\n",
       "      <td>*edit*</td>\n",
       "      <td>*edit*</td>\n",
       "      <td>*edit*</td>\n",
       "      <td>*edit*</td>\n",
       "    </tr>\n",
       "    <tr>\n",
       "      <th>2</th>\n",
       "      <td>929840854</td>\n",
       "      <td>1190146243311</td>\n",
       "      <td>http://upload.wikimedia.org/wikipedia/commons/...</td>\n",
       "      <td>-</td>\n",
       "      <td>http://upload.wikimedia.org</td>\n",
       "      <td>wikipedia</td>\n",
       "      <td>commons</td>\n",
       "      <td>thumb</td>\n",
       "      <td>b</td>\n",
       "      <td>b9</td>\n",
       "      <td>Flag_of_Australia.svg</td>\n",
       "      <td>22px-Flag_of_Australia.svg.png</td>\n",
       "    </tr>\n",
       "    <tr>\n",
       "      <th>3</th>\n",
       "      <td>929840855</td>\n",
       "      <td>1190146243301</td>\n",
       "      <td>http://es.wikipedia.org/w/index.php?title=-&amp;ac...</td>\n",
       "      <td>-</td>\n",
       "      <td>http://es.wikipedia.org</td>\n",
       "      <td>w</td>\n",
       "      <td>index.php?title=-&amp;action=raw&amp;gen=js&amp;useskin=mo...</td>\n",
       "      <td>*edit*</td>\n",
       "      <td>*edit*</td>\n",
       "      <td>*edit*</td>\n",
       "      <td>*edit*</td>\n",
       "      <td>*edit*</td>\n",
       "    </tr>\n",
       "    <tr>\n",
       "      <th>4</th>\n",
       "      <td>929840857</td>\n",
       "      <td>1190146243303</td>\n",
       "      <td>http://en.wikipedia.org/w/index.php?title=Medi...</td>\n",
       "      <td>-</td>\n",
       "      <td>http://en.wikipedia.org</td>\n",
       "      <td>w</td>\n",
       "      <td>index.php?title=MediaWiki:Monobook.css&amp;usemsgc...</td>\n",
       "      <td>css&amp;smaxage=2678400</td>\n",
       "      <td>*edit*</td>\n",
       "      <td>*edit*</td>\n",
       "      <td>*edit*</td>\n",
       "      <td>*edit*</td>\n",
       "    </tr>\n",
       "  </tbody>\n",
       "</table>\n",
       "</div>"
      ],
      "text/plain": [
       "   monotonic      timestamp  \\\n",
       "0  929840853  1190146243326   \n",
       "1  929840856  1190146243321   \n",
       "2  929840854  1190146243311   \n",
       "3  929840855  1190146243301   \n",
       "4  929840857  1190146243303   \n",
       "\n",
       "                                                 url flag  \\\n",
       "0  http://upload.wikimedia.org/wikipedia/en/thumb...    -   \n",
       "1         http://en.wikipedia.org/images/wiki-en.png    -   \n",
       "2  http://upload.wikimedia.org/wikipedia/commons/...    -   \n",
       "3  http://es.wikipedia.org/w/index.php?title=-&ac...    -   \n",
       "4  http://en.wikipedia.org/w/index.php?title=Medi...    -   \n",
       "\n",
       "                      prefix_1   prefix_2  \\\n",
       "0  http://upload.wikimedia.org  wikipedia   \n",
       "1      http://en.wikipedia.org     images   \n",
       "2  http://upload.wikimedia.org  wikipedia   \n",
       "3      http://es.wikipedia.org          w   \n",
       "4      http://en.wikipedia.org          w   \n",
       "\n",
       "                                            prefix_3             prefix_4  \\\n",
       "0                                                 en                thumb   \n",
       "1                                        wiki-en.png               *edit*   \n",
       "2                                            commons                thumb   \n",
       "3  index.php?title=-&action=raw&gen=js&useskin=mo...               *edit*   \n",
       "4  index.php?title=MediaWiki:Monobook.css&usemsgc...  css&smaxage=2678400   \n",
       "\n",
       "  prefix_5 prefix_6               prefix_7                        prefix_8  \n",
       "0        e       e4      James_Johnson.jpg         200px-James_Johnson.jpg  \n",
       "1   *edit*   *edit*                 *edit*                          *edit*  \n",
       "2        b       b9  Flag_of_Australia.svg  22px-Flag_of_Australia.svg.png  \n",
       "3   *edit*   *edit*                 *edit*                          *edit*  \n",
       "4   *edit*   *edit*                 *edit*                          *edit*  "
      ]
     },
     "execution_count": 40,
     "metadata": {},
     "output_type": "execute_result"
    }
   ],
   "source": [
    "dataset.head()"
   ]
  },
  {
   "cell_type": "code",
   "execution_count": 41,
   "id": "42f7309d",
   "metadata": {
    "id": "42f7309d"
   },
   "outputs": [],
   "source": [
    "dic_prefix_2_key = list(dataset.prefix_2.unique())"
   ]
  },
  {
   "cell_type": "code",
   "execution_count": 42,
   "id": "2795694a",
   "metadata": {
    "colab": {
     "base_uri": "https://localhost:8080/"
    },
    "id": "2795694a",
    "outputId": "c6c56b0b-7338-4e5b-d6e7-49107bba7c18"
   },
   "outputs": [
    {
     "data": {
      "text/plain": [
       "12"
      ]
     },
     "execution_count": 42,
     "metadata": {},
     "output_type": "execute_result"
    }
   ],
   "source": [
    "len(dic_prefix_2_key)"
   ]
  },
  {
   "cell_type": "code",
   "execution_count": 43,
   "id": "4985f9db",
   "metadata": {
    "id": "4985f9db"
   },
   "outputs": [],
   "source": [
    "dic_prefix_2_value = list(pd.Series(range(1,21)))"
   ]
  },
  {
   "cell_type": "code",
   "execution_count": 44,
   "id": "3ccc4902",
   "metadata": {
    "id": "3ccc4902"
   },
   "outputs": [],
   "source": [
    "prefix_2_dictionary = dict(zip(dic_prefix_2_key, dic_prefix_2_value))"
   ]
  },
  {
   "cell_type": "code",
   "execution_count": 45,
   "id": "acf9f089",
   "metadata": {
    "colab": {
     "base_uri": "https://localhost:8080/"
    },
    "id": "acf9f089",
    "outputId": "e5f18338-05fa-43a1-e6ad-aeb93376ec49"
   },
   "outputs": [
    {
     "name": "stdout",
     "output_type": "stream",
     "text": [
      "False\n",
      "False\n",
      "True\n",
      "True\n",
      "True\n",
      "True\n",
      "True\n",
      "True\n"
     ]
    }
   ],
   "source": [
    "print('*edit*' in dataset.prefix_1.values)\n",
    "print('*edit*' in dataset.prefix_2.values)\n",
    "print('*edit*' in dataset.prefix_3.values)\n",
    "print('*edit*' in dataset.prefix_4.values)\n",
    "print('*edit*' in dataset.prefix_5.values)\n",
    "print('*edit*' in dataset.prefix_6.values)\n",
    "print('*edit*' in dataset.prefix_7.values)\n",
    "print('*edit*' in dataset.prefix_8.values)"
   ]
  },
  {
   "cell_type": "code",
   "execution_count": 46,
   "id": "685f6fdd",
   "metadata": {
    "id": "685f6fdd"
   },
   "outputs": [],
   "source": [
    "dic_prefix_3_key = list(dataset.prefix_3.unique())"
   ]
  },
  {
   "cell_type": "code",
   "execution_count": 47,
   "id": "7ce33a0c",
   "metadata": {
    "id": "7ce33a0c"
   },
   "outputs": [],
   "source": [
    "dic_prefix_3_key.remove('*edit*')"
   ]
  },
  {
   "cell_type": "code",
   "execution_count": 48,
   "id": "4cdb3833",
   "metadata": {
    "colab": {
     "base_uri": "https://localhost:8080/"
    },
    "id": "4cdb3833",
    "outputId": "36832b24-7cdd-410c-d4fd-e131f49a2d34"
   },
   "outputs": [
    {
     "data": {
      "text/plain": [
       "167"
      ]
     },
     "execution_count": 48,
     "metadata": {},
     "output_type": "execute_result"
    }
   ],
   "source": [
    "len(dic_prefix_3_key)"
   ]
  },
  {
   "cell_type": "code",
   "execution_count": 49,
   "id": "6c23ce27",
   "metadata": {
    "id": "6c23ce27"
   },
   "outputs": [],
   "source": [
    "dic_prfix_3_value = list(pd.Series(range(1, 337)))"
   ]
  },
  {
   "cell_type": "code",
   "execution_count": 50,
   "id": "d6aefae3",
   "metadata": {
    "id": "d6aefae3"
   },
   "outputs": [],
   "source": [
    "prefix_3_dictionary = dict(zip(dic_prefix_3_key, dic_prfix_3_value))"
   ]
  },
  {
   "cell_type": "code",
   "execution_count": 51,
   "id": "2cb2b378",
   "metadata": {
    "id": "2cb2b378"
   },
   "outputs": [],
   "source": [
    "dic_prefix_4_key = list(dataset.prefix_4.unique())"
   ]
  },
  {
   "cell_type": "code",
   "execution_count": 52,
   "id": "891e2d38",
   "metadata": {
    "id": "891e2d38"
   },
   "outputs": [],
   "source": [
    "dic_prefix_4_key.remove('*edit*')"
   ]
  },
  {
   "cell_type": "code",
   "execution_count": 53,
   "id": "54e10f12",
   "metadata": {
    "colab": {
     "base_uri": "https://localhost:8080/"
    },
    "id": "54e10f12",
    "outputId": "0438c947-502c-42ac-aa3f-a6b658cee340"
   },
   "outputs": [
    {
     "data": {
      "text/plain": [
       "58"
      ]
     },
     "execution_count": 53,
     "metadata": {},
     "output_type": "execute_result"
    }
   ],
   "source": [
    "len(dic_prefix_4_key)"
   ]
  },
  {
   "cell_type": "code",
   "execution_count": 54,
   "id": "bb024144",
   "metadata": {
    "id": "bb024144"
   },
   "outputs": [],
   "source": [
    "dic_prefix_4_value = list(pd.Series(range(1,70)))"
   ]
  },
  {
   "cell_type": "code",
   "execution_count": 55,
   "id": "1766f648",
   "metadata": {
    "id": "1766f648"
   },
   "outputs": [],
   "source": [
    "prefix_4_dictionary = dict(zip(dic_prefix_4_key, dic_prefix_4_value))"
   ]
  },
  {
   "cell_type": "code",
   "execution_count": 56,
   "id": "c5b1bc4d",
   "metadata": {
    "id": "c5b1bc4d"
   },
   "outputs": [],
   "source": [
    "dic_prefix_5_key = list(dataset.prefix_5.unique())"
   ]
  },
  {
   "cell_type": "code",
   "execution_count": 57,
   "id": "92301b0a",
   "metadata": {
    "id": "92301b0a"
   },
   "outputs": [],
   "source": [
    "dic_prefix_5_key.remove('*edit*')"
   ]
  },
  {
   "cell_type": "code",
   "execution_count": 58,
   "id": "e138046f",
   "metadata": {
    "colab": {
     "base_uri": "https://localhost:8080/"
    },
    "id": "e138046f",
    "outputId": "655f895a-9dc1-4cfb-c2d2-1082fae05d7b"
   },
   "outputs": [
    {
     "data": {
      "text/plain": [
       "83"
      ]
     },
     "execution_count": 58,
     "metadata": {},
     "output_type": "execute_result"
    }
   ],
   "source": [
    "len(dic_prefix_5_key)"
   ]
  },
  {
   "cell_type": "code",
   "execution_count": 59,
   "id": "eb1da833",
   "metadata": {
    "id": "eb1da833"
   },
   "outputs": [],
   "source": [
    "dic_prefix_5_value = list(pd.Series(range(1, 112)))"
   ]
  },
  {
   "cell_type": "code",
   "execution_count": 60,
   "id": "0e64a0d1",
   "metadata": {
    "id": "0e64a0d1"
   },
   "outputs": [],
   "source": [
    "prefix_5_dictionary = dict(zip(dic_prefix_5_key, dic_prefix_5_value))"
   ]
  },
  {
   "cell_type": "code",
   "execution_count": 61,
   "id": "1e7040d1",
   "metadata": {
    "id": "1e7040d1"
   },
   "outputs": [],
   "source": [
    "dic_prefix_6_key = list(dataset.prefix_6.unique())"
   ]
  },
  {
   "cell_type": "code",
   "execution_count": 62,
   "id": "213e9218",
   "metadata": {
    "id": "213e9218"
   },
   "outputs": [],
   "source": [
    "dic_prefix_6_key.remove('*edit*')"
   ]
  },
  {
   "cell_type": "code",
   "execution_count": 63,
   "id": "5a856873",
   "metadata": {
    "colab": {
     "base_uri": "https://localhost:8080/"
    },
    "id": "5a856873",
    "outputId": "a18b8f89-a89d-4461-c7ff-f414df4becaa"
   },
   "outputs": [
    {
     "data": {
      "text/plain": [
       "268"
      ]
     },
     "execution_count": 63,
     "metadata": {},
     "output_type": "execute_result"
    }
   ],
   "source": [
    "len(dic_prefix_6_key)"
   ]
  },
  {
   "cell_type": "code",
   "execution_count": 64,
   "id": "9ee882c5",
   "metadata": {
    "id": "9ee882c5"
   },
   "outputs": [],
   "source": [
    "dic_prefix_6_value = list(pd.Series(range(1, 376)))"
   ]
  },
  {
   "cell_type": "code",
   "execution_count": 65,
   "id": "27471847",
   "metadata": {
    "id": "27471847"
   },
   "outputs": [],
   "source": [
    "prefix_6_dictionary = dict(zip(dic_prefix_6_key, dic_prefix_6_value))"
   ]
  },
  {
   "cell_type": "code",
   "execution_count": 66,
   "id": "866c26cc",
   "metadata": {
    "id": "866c26cc"
   },
   "outputs": [],
   "source": [
    "dic_prefix_7_key = list(dataset.prefix_7.unique())"
   ]
  },
  {
   "cell_type": "code",
   "execution_count": 67,
   "id": "231cc655",
   "metadata": {
    "id": "231cc655"
   },
   "outputs": [],
   "source": [
    "dic_prefix_7_key.remove('*edit*')"
   ]
  },
  {
   "cell_type": "code",
   "execution_count": 68,
   "id": "e32de3d6",
   "metadata": {
    "colab": {
     "base_uri": "https://localhost:8080/"
    },
    "id": "e32de3d6",
    "outputId": "f1107415-28ab-4f6d-ef4e-523949096bf6"
   },
   "outputs": [
    {
     "data": {
      "text/plain": [
       "334"
      ]
     },
     "execution_count": 68,
     "metadata": {},
     "output_type": "execute_result"
    }
   ],
   "source": [
    "len(dic_prefix_7_key)"
   ]
  },
  {
   "cell_type": "code",
   "execution_count": 69,
   "id": "98d83ef8",
   "metadata": {
    "id": "98d83ef8"
   },
   "outputs": [],
   "source": [
    "dic_prefix_7_value = list(pd.Series(range(1, 609)))"
   ]
  },
  {
   "cell_type": "code",
   "execution_count": 70,
   "id": "6003b88c",
   "metadata": {
    "id": "6003b88c"
   },
   "outputs": [],
   "source": [
    "prefix_7_dictionary = dict(zip(dic_prefix_7_key, dic_prefix_7_value))"
   ]
  },
  {
   "cell_type": "code",
   "execution_count": 71,
   "id": "5f98045c",
   "metadata": {
    "id": "5f98045c"
   },
   "outputs": [],
   "source": [
    "dic_prefix_8_key = list(dataset.prefix_8.unique())"
   ]
  },
  {
   "cell_type": "code",
   "execution_count": 72,
   "id": "00c14719",
   "metadata": {
    "id": "00c14719"
   },
   "outputs": [],
   "source": [
    "dic_prefix_8_key.remove('*edit*')"
   ]
  },
  {
   "cell_type": "code",
   "execution_count": 73,
   "id": "c4815a44",
   "metadata": {
    "colab": {
     "base_uri": "https://localhost:8080/"
    },
    "id": "c4815a44",
    "outputId": "7dd36902-d361-4857-9c9c-eef919f47c65"
   },
   "outputs": [
    {
     "data": {
      "text/plain": [
       "357"
      ]
     },
     "execution_count": 73,
     "metadata": {},
     "output_type": "execute_result"
    }
   ],
   "source": [
    "len(dic_prefix_8_key)"
   ]
  },
  {
   "cell_type": "code",
   "execution_count": 74,
   "id": "b8191028",
   "metadata": {
    "id": "b8191028"
   },
   "outputs": [],
   "source": [
    "dic_prefix_8_value = list(pd.Series(range(1, 669)))"
   ]
  },
  {
   "cell_type": "code",
   "execution_count": 75,
   "id": "0fd743a0",
   "metadata": {
    "id": "0fd743a0"
   },
   "outputs": [],
   "source": [
    "prefix_8_dictionary = dict(zip(dic_prefix_8_key, dic_prefix_8_value))"
   ]
  },
  {
   "cell_type": "code",
   "execution_count": 76,
   "id": "5c947ba3",
   "metadata": {
    "id": "5c947ba3"
   },
   "outputs": [],
   "source": [
    "# dataset[['prefix_1', 'prefix_2', 'prefix_3', 'prefix_4', 'prefix_5', 'prefix_6', 'prefix_7', 'prefix_8']] = dataset[['prefix_1', 'prefix_2', 'prefix_3', 'prefix_4', 'prefix_5', 'prefix_6', 'prefix_7', 'prefix_8']].replace('*edit*', 0)"
   ]
  },
  {
   "cell_type": "code",
   "execution_count": 77,
   "id": "ecc6df94",
   "metadata": {
    "id": "ecc6df94"
   },
   "outputs": [],
   "source": [
    "dataset['prefix_1'] = dataset['prefix_1'].map(prefix_1_dictionary)\n",
    "dataset['prefix_2'] = dataset['prefix_2'].map(prefix_2_dictionary)\n",
    "dataset['prefix_3'] = dataset['prefix_3'].map(prefix_3_dictionary)\n",
    "dataset['prefix_4'] = dataset['prefix_4'].map(prefix_4_dictionary)\n",
    "dataset['prefix_5'] = dataset['prefix_5'].map(prefix_5_dictionary)\n",
    "dataset['prefix_6'] = dataset['prefix_6'].map(prefix_6_dictionary)\n",
    "dataset['prefix_7'] = dataset['prefix_7'].map(prefix_7_dictionary)\n",
    "dataset['prefix_8'] = dataset['prefix_8'].map(prefix_8_dictionary)"
   ]
  },
  {
   "cell_type": "code",
   "execution_count": 78,
   "id": "55c9caf5",
   "metadata": {
    "colab": {
     "base_uri": "https://localhost:8080/",
     "height": 520
    },
    "id": "55c9caf5",
    "outputId": "6cc92f30-f7ae-436b-b1e8-6892fa2e4ec0"
   },
   "outputs": [
    {
     "data": {
      "text/html": [
       "<div>\n",
       "<style scoped>\n",
       "    .dataframe tbody tr th:only-of-type {\n",
       "        vertical-align: middle;\n",
       "    }\n",
       "\n",
       "    .dataframe tbody tr th {\n",
       "        vertical-align: top;\n",
       "    }\n",
       "\n",
       "    .dataframe thead th {\n",
       "        text-align: right;\n",
       "    }\n",
       "</style>\n",
       "<table border=\"1\" class=\"dataframe\">\n",
       "  <thead>\n",
       "    <tr style=\"text-align: right;\">\n",
       "      <th></th>\n",
       "      <th>monotonic</th>\n",
       "      <th>timestamp</th>\n",
       "      <th>url</th>\n",
       "      <th>flag</th>\n",
       "      <th>prefix_1</th>\n",
       "      <th>prefix_2</th>\n",
       "      <th>prefix_3</th>\n",
       "      <th>prefix_4</th>\n",
       "      <th>prefix_5</th>\n",
       "      <th>prefix_6</th>\n",
       "      <th>prefix_7</th>\n",
       "      <th>prefix_8</th>\n",
       "    </tr>\n",
       "  </thead>\n",
       "  <tbody>\n",
       "    <tr>\n",
       "      <th>0</th>\n",
       "      <td>929840853</td>\n",
       "      <td>1190146243326</td>\n",
       "      <td>http://upload.wikimedia.org/wikipedia/en/thumb...</td>\n",
       "      <td>-</td>\n",
       "      <td>1</td>\n",
       "      <td>1</td>\n",
       "      <td>1.0</td>\n",
       "      <td>1.0</td>\n",
       "      <td>1.0</td>\n",
       "      <td>1.0</td>\n",
       "      <td>1.0</td>\n",
       "      <td>1.0</td>\n",
       "    </tr>\n",
       "    <tr>\n",
       "      <th>1</th>\n",
       "      <td>929840856</td>\n",
       "      <td>1190146243321</td>\n",
       "      <td>http://en.wikipedia.org/images/wiki-en.png</td>\n",
       "      <td>-</td>\n",
       "      <td>2</td>\n",
       "      <td>2</td>\n",
       "      <td>2.0</td>\n",
       "      <td>NaN</td>\n",
       "      <td>NaN</td>\n",
       "      <td>NaN</td>\n",
       "      <td>NaN</td>\n",
       "      <td>NaN</td>\n",
       "    </tr>\n",
       "    <tr>\n",
       "      <th>2</th>\n",
       "      <td>929840854</td>\n",
       "      <td>1190146243311</td>\n",
       "      <td>http://upload.wikimedia.org/wikipedia/commons/...</td>\n",
       "      <td>-</td>\n",
       "      <td>1</td>\n",
       "      <td>1</td>\n",
       "      <td>3.0</td>\n",
       "      <td>1.0</td>\n",
       "      <td>2.0</td>\n",
       "      <td>2.0</td>\n",
       "      <td>2.0</td>\n",
       "      <td>2.0</td>\n",
       "    </tr>\n",
       "    <tr>\n",
       "      <th>3</th>\n",
       "      <td>929840855</td>\n",
       "      <td>1190146243301</td>\n",
       "      <td>http://es.wikipedia.org/w/index.php?title=-&amp;ac...</td>\n",
       "      <td>-</td>\n",
       "      <td>3</td>\n",
       "      <td>3</td>\n",
       "      <td>4.0</td>\n",
       "      <td>NaN</td>\n",
       "      <td>NaN</td>\n",
       "      <td>NaN</td>\n",
       "      <td>NaN</td>\n",
       "      <td>NaN</td>\n",
       "    </tr>\n",
       "    <tr>\n",
       "      <th>4</th>\n",
       "      <td>929840857</td>\n",
       "      <td>1190146243303</td>\n",
       "      <td>http://en.wikipedia.org/w/index.php?title=Medi...</td>\n",
       "      <td>-</td>\n",
       "      <td>2</td>\n",
       "      <td>3</td>\n",
       "      <td>5.0</td>\n",
       "      <td>2.0</td>\n",
       "      <td>NaN</td>\n",
       "      <td>NaN</td>\n",
       "      <td>NaN</td>\n",
       "      <td>NaN</td>\n",
       "    </tr>\n",
       "    <tr>\n",
       "      <th>5</th>\n",
       "      <td>929840858</td>\n",
       "      <td>1190146243314</td>\n",
       "      <td>http://upload.wikimedia.org/wikipedia/en/thumb...</td>\n",
       "      <td>-</td>\n",
       "      <td>1</td>\n",
       "      <td>1</td>\n",
       "      <td>1.0</td>\n",
       "      <td>1.0</td>\n",
       "      <td>3.0</td>\n",
       "      <td>3.0</td>\n",
       "      <td>3.0</td>\n",
       "      <td>3.0</td>\n",
       "    </tr>\n",
       "    <tr>\n",
       "      <th>6</th>\n",
       "      <td>929840860</td>\n",
       "      <td>1190146243325</td>\n",
       "      <td>http://en.wikipedia.org/skins-1.5/monobook/IE6...</td>\n",
       "      <td>-</td>\n",
       "      <td>2</td>\n",
       "      <td>4</td>\n",
       "      <td>6.0</td>\n",
       "      <td>3.0</td>\n",
       "      <td>NaN</td>\n",
       "      <td>NaN</td>\n",
       "      <td>NaN</td>\n",
       "      <td>NaN</td>\n",
       "    </tr>\n",
       "    <tr>\n",
       "      <th>7</th>\n",
       "      <td>929840859</td>\n",
       "      <td>1190146243296</td>\n",
       "      <td>http://upload.wikimedia.org/wikipedia/commons/...</td>\n",
       "      <td>-</td>\n",
       "      <td>1</td>\n",
       "      <td>1</td>\n",
       "      <td>3.0</td>\n",
       "      <td>1.0</td>\n",
       "      <td>4.0</td>\n",
       "      <td>4.0</td>\n",
       "      <td>4.0</td>\n",
       "      <td>4.0</td>\n",
       "    </tr>\n",
       "    <tr>\n",
       "      <th>8</th>\n",
       "      <td>929840862</td>\n",
       "      <td>1190146243297</td>\n",
       "      <td>http://pl.wikipedia.org/skins-1.5/common/image...</td>\n",
       "      <td>-</td>\n",
       "      <td>4</td>\n",
       "      <td>4</td>\n",
       "      <td>7.0</td>\n",
       "      <td>4.0</td>\n",
       "      <td>5.0</td>\n",
       "      <td>NaN</td>\n",
       "      <td>NaN</td>\n",
       "      <td>NaN</td>\n",
       "    </tr>\n",
       "    <tr>\n",
       "      <th>9</th>\n",
       "      <td>929840861</td>\n",
       "      <td>1190146243292</td>\n",
       "      <td>http://upload.wikimedia.org/wikipedia/commons/...</td>\n",
       "      <td>-</td>\n",
       "      <td>1</td>\n",
       "      <td>1</td>\n",
       "      <td>3.0</td>\n",
       "      <td>1.0</td>\n",
       "      <td>6.0</td>\n",
       "      <td>5.0</td>\n",
       "      <td>5.0</td>\n",
       "      <td>5.0</td>\n",
       "    </tr>\n",
       "    <tr>\n",
       "      <th>10</th>\n",
       "      <td>929840868</td>\n",
       "      <td>1190146243307</td>\n",
       "      <td>http://pl.wikipedia.org/skins-1.5/common/commo...</td>\n",
       "      <td>-</td>\n",
       "      <td>4</td>\n",
       "      <td>4</td>\n",
       "      <td>7.0</td>\n",
       "      <td>5.0</td>\n",
       "      <td>NaN</td>\n",
       "      <td>NaN</td>\n",
       "      <td>NaN</td>\n",
       "      <td>NaN</td>\n",
       "    </tr>\n",
       "    <tr>\n",
       "      <th>11</th>\n",
       "      <td>929840863</td>\n",
       "      <td>1190146243333</td>\n",
       "      <td>http://upload.wikimedia.org/wikipedia/commons/...</td>\n",
       "      <td>-</td>\n",
       "      <td>1</td>\n",
       "      <td>1</td>\n",
       "      <td>3.0</td>\n",
       "      <td>1.0</td>\n",
       "      <td>7.0</td>\n",
       "      <td>6.0</td>\n",
       "      <td>6.0</td>\n",
       "      <td>6.0</td>\n",
       "    </tr>\n",
       "    <tr>\n",
       "      <th>12</th>\n",
       "      <td>929840864</td>\n",
       "      <td>1190146243324</td>\n",
       "      <td>http://upload.wikimedia.org/wikipedia/commons/...</td>\n",
       "      <td>-</td>\n",
       "      <td>1</td>\n",
       "      <td>1</td>\n",
       "      <td>3.0</td>\n",
       "      <td>1.0</td>\n",
       "      <td>6.0</td>\n",
       "      <td>7.0</td>\n",
       "      <td>7.0</td>\n",
       "      <td>7.0</td>\n",
       "    </tr>\n",
       "    <tr>\n",
       "      <th>13</th>\n",
       "      <td>929840867</td>\n",
       "      <td>1190146243302</td>\n",
       "      <td>http://de.wikipedia.org/skins-1.5/monobook/mai...</td>\n",
       "      <td>-</td>\n",
       "      <td>5</td>\n",
       "      <td>4</td>\n",
       "      <td>6.0</td>\n",
       "      <td>6.0</td>\n",
       "      <td>NaN</td>\n",
       "      <td>NaN</td>\n",
       "      <td>NaN</td>\n",
       "      <td>NaN</td>\n",
       "    </tr>\n",
       "    <tr>\n",
       "      <th>14</th>\n",
       "      <td>929840865</td>\n",
       "      <td>1190146243305</td>\n",
       "      <td>http://en.wikipedia.org/skins-1.5/common/image...</td>\n",
       "      <td>-</td>\n",
       "      <td>2</td>\n",
       "      <td>4</td>\n",
       "      <td>7.0</td>\n",
       "      <td>4.0</td>\n",
       "      <td>8.0</td>\n",
       "      <td>NaN</td>\n",
       "      <td>NaN</td>\n",
       "      <td>NaN</td>\n",
       "    </tr>\n",
       "  </tbody>\n",
       "</table>\n",
       "</div>"
      ],
      "text/plain": [
       "    monotonic      timestamp  \\\n",
       "0   929840853  1190146243326   \n",
       "1   929840856  1190146243321   \n",
       "2   929840854  1190146243311   \n",
       "3   929840855  1190146243301   \n",
       "4   929840857  1190146243303   \n",
       "5   929840858  1190146243314   \n",
       "6   929840860  1190146243325   \n",
       "7   929840859  1190146243296   \n",
       "8   929840862  1190146243297   \n",
       "9   929840861  1190146243292   \n",
       "10  929840868  1190146243307   \n",
       "11  929840863  1190146243333   \n",
       "12  929840864  1190146243324   \n",
       "13  929840867  1190146243302   \n",
       "14  929840865  1190146243305   \n",
       "\n",
       "                                                  url flag  prefix_1  \\\n",
       "0   http://upload.wikimedia.org/wikipedia/en/thumb...    -         1   \n",
       "1          http://en.wikipedia.org/images/wiki-en.png    -         2   \n",
       "2   http://upload.wikimedia.org/wikipedia/commons/...    -         1   \n",
       "3   http://es.wikipedia.org/w/index.php?title=-&ac...    -         3   \n",
       "4   http://en.wikipedia.org/w/index.php?title=Medi...    -         2   \n",
       "5   http://upload.wikimedia.org/wikipedia/en/thumb...    -         1   \n",
       "6   http://en.wikipedia.org/skins-1.5/monobook/IE6...    -         2   \n",
       "7   http://upload.wikimedia.org/wikipedia/commons/...    -         1   \n",
       "8   http://pl.wikipedia.org/skins-1.5/common/image...    -         4   \n",
       "9   http://upload.wikimedia.org/wikipedia/commons/...    -         1   \n",
       "10  http://pl.wikipedia.org/skins-1.5/common/commo...    -         4   \n",
       "11  http://upload.wikimedia.org/wikipedia/commons/...    -         1   \n",
       "12  http://upload.wikimedia.org/wikipedia/commons/...    -         1   \n",
       "13  http://de.wikipedia.org/skins-1.5/monobook/mai...    -         5   \n",
       "14  http://en.wikipedia.org/skins-1.5/common/image...    -         2   \n",
       "\n",
       "    prefix_2  prefix_3  prefix_4  prefix_5  prefix_6  prefix_7  prefix_8  \n",
       "0          1       1.0       1.0       1.0       1.0       1.0       1.0  \n",
       "1          2       2.0       NaN       NaN       NaN       NaN       NaN  \n",
       "2          1       3.0       1.0       2.0       2.0       2.0       2.0  \n",
       "3          3       4.0       NaN       NaN       NaN       NaN       NaN  \n",
       "4          3       5.0       2.0       NaN       NaN       NaN       NaN  \n",
       "5          1       1.0       1.0       3.0       3.0       3.0       3.0  \n",
       "6          4       6.0       3.0       NaN       NaN       NaN       NaN  \n",
       "7          1       3.0       1.0       4.0       4.0       4.0       4.0  \n",
       "8          4       7.0       4.0       5.0       NaN       NaN       NaN  \n",
       "9          1       3.0       1.0       6.0       5.0       5.0       5.0  \n",
       "10         4       7.0       5.0       NaN       NaN       NaN       NaN  \n",
       "11         1       3.0       1.0       7.0       6.0       6.0       6.0  \n",
       "12         1       3.0       1.0       6.0       7.0       7.0       7.0  \n",
       "13         4       6.0       6.0       NaN       NaN       NaN       NaN  \n",
       "14         4       7.0       4.0       8.0       NaN       NaN       NaN  "
      ]
     },
     "execution_count": 78,
     "metadata": {},
     "output_type": "execute_result"
    }
   ],
   "source": [
    "dataset.head(15)"
   ]
  },
  {
   "cell_type": "code",
   "execution_count": 79,
   "id": "4e7dfd3d",
   "metadata": {
    "colab": {
     "base_uri": "https://localhost:8080/"
    },
    "id": "4e7dfd3d",
    "outputId": "7edc13fb-7791-4181-9d7f-21d9a64846b3"
   },
   "outputs": [
    {
     "data": {
      "text/plain": [
       "dtype('int64')"
      ]
     },
     "execution_count": 79,
     "metadata": {},
     "output_type": "execute_result"
    }
   ],
   "source": [
    "dataset.prefix_1.dtypes"
   ]
  },
  {
   "cell_type": "code",
   "execution_count": 80,
   "id": "adf6b814",
   "metadata": {
    "id": "adf6b814"
   },
   "outputs": [],
   "source": [
    "dataset[['prefix_1', 'prefix_2', 'prefix_3', 'prefix_4', 'prefix_5', 'prefix_6', 'prefix_7', 'prefix_8']] = dataset[['prefix_1', 'prefix_2', 'prefix_3', 'prefix_4', 'prefix_5', 'prefix_6', 'prefix_7', 'prefix_8']].fillna(value=0)"
   ]
  },
  {
   "cell_type": "code",
   "execution_count": 81,
   "id": "b1883486",
   "metadata": {
    "colab": {
     "base_uri": "https://localhost:8080/",
     "height": 520
    },
    "id": "b1883486",
    "outputId": "4cba63a5-0c2d-4741-b0d9-86191e6f8424"
   },
   "outputs": [
    {
     "data": {
      "text/html": [
       "<div>\n",
       "<style scoped>\n",
       "    .dataframe tbody tr th:only-of-type {\n",
       "        vertical-align: middle;\n",
       "    }\n",
       "\n",
       "    .dataframe tbody tr th {\n",
       "        vertical-align: top;\n",
       "    }\n",
       "\n",
       "    .dataframe thead th {\n",
       "        text-align: right;\n",
       "    }\n",
       "</style>\n",
       "<table border=\"1\" class=\"dataframe\">\n",
       "  <thead>\n",
       "    <tr style=\"text-align: right;\">\n",
       "      <th></th>\n",
       "      <th>monotonic</th>\n",
       "      <th>timestamp</th>\n",
       "      <th>url</th>\n",
       "      <th>flag</th>\n",
       "      <th>prefix_1</th>\n",
       "      <th>prefix_2</th>\n",
       "      <th>prefix_3</th>\n",
       "      <th>prefix_4</th>\n",
       "      <th>prefix_5</th>\n",
       "      <th>prefix_6</th>\n",
       "      <th>prefix_7</th>\n",
       "      <th>prefix_8</th>\n",
       "    </tr>\n",
       "  </thead>\n",
       "  <tbody>\n",
       "    <tr>\n",
       "      <th>0</th>\n",
       "      <td>929840853</td>\n",
       "      <td>1190146243326</td>\n",
       "      <td>http://upload.wikimedia.org/wikipedia/en/thumb...</td>\n",
       "      <td>-</td>\n",
       "      <td>1</td>\n",
       "      <td>1</td>\n",
       "      <td>1.0</td>\n",
       "      <td>1.0</td>\n",
       "      <td>1.0</td>\n",
       "      <td>1.0</td>\n",
       "      <td>1.0</td>\n",
       "      <td>1.0</td>\n",
       "    </tr>\n",
       "    <tr>\n",
       "      <th>1</th>\n",
       "      <td>929840856</td>\n",
       "      <td>1190146243321</td>\n",
       "      <td>http://en.wikipedia.org/images/wiki-en.png</td>\n",
       "      <td>-</td>\n",
       "      <td>2</td>\n",
       "      <td>2</td>\n",
       "      <td>2.0</td>\n",
       "      <td>0.0</td>\n",
       "      <td>0.0</td>\n",
       "      <td>0.0</td>\n",
       "      <td>0.0</td>\n",
       "      <td>0.0</td>\n",
       "    </tr>\n",
       "    <tr>\n",
       "      <th>2</th>\n",
       "      <td>929840854</td>\n",
       "      <td>1190146243311</td>\n",
       "      <td>http://upload.wikimedia.org/wikipedia/commons/...</td>\n",
       "      <td>-</td>\n",
       "      <td>1</td>\n",
       "      <td>1</td>\n",
       "      <td>3.0</td>\n",
       "      <td>1.0</td>\n",
       "      <td>2.0</td>\n",
       "      <td>2.0</td>\n",
       "      <td>2.0</td>\n",
       "      <td>2.0</td>\n",
       "    </tr>\n",
       "    <tr>\n",
       "      <th>3</th>\n",
       "      <td>929840855</td>\n",
       "      <td>1190146243301</td>\n",
       "      <td>http://es.wikipedia.org/w/index.php?title=-&amp;ac...</td>\n",
       "      <td>-</td>\n",
       "      <td>3</td>\n",
       "      <td>3</td>\n",
       "      <td>4.0</td>\n",
       "      <td>0.0</td>\n",
       "      <td>0.0</td>\n",
       "      <td>0.0</td>\n",
       "      <td>0.0</td>\n",
       "      <td>0.0</td>\n",
       "    </tr>\n",
       "    <tr>\n",
       "      <th>4</th>\n",
       "      <td>929840857</td>\n",
       "      <td>1190146243303</td>\n",
       "      <td>http://en.wikipedia.org/w/index.php?title=Medi...</td>\n",
       "      <td>-</td>\n",
       "      <td>2</td>\n",
       "      <td>3</td>\n",
       "      <td>5.0</td>\n",
       "      <td>2.0</td>\n",
       "      <td>0.0</td>\n",
       "      <td>0.0</td>\n",
       "      <td>0.0</td>\n",
       "      <td>0.0</td>\n",
       "    </tr>\n",
       "    <tr>\n",
       "      <th>5</th>\n",
       "      <td>929840858</td>\n",
       "      <td>1190146243314</td>\n",
       "      <td>http://upload.wikimedia.org/wikipedia/en/thumb...</td>\n",
       "      <td>-</td>\n",
       "      <td>1</td>\n",
       "      <td>1</td>\n",
       "      <td>1.0</td>\n",
       "      <td>1.0</td>\n",
       "      <td>3.0</td>\n",
       "      <td>3.0</td>\n",
       "      <td>3.0</td>\n",
       "      <td>3.0</td>\n",
       "    </tr>\n",
       "    <tr>\n",
       "      <th>6</th>\n",
       "      <td>929840860</td>\n",
       "      <td>1190146243325</td>\n",
       "      <td>http://en.wikipedia.org/skins-1.5/monobook/IE6...</td>\n",
       "      <td>-</td>\n",
       "      <td>2</td>\n",
       "      <td>4</td>\n",
       "      <td>6.0</td>\n",
       "      <td>3.0</td>\n",
       "      <td>0.0</td>\n",
       "      <td>0.0</td>\n",
       "      <td>0.0</td>\n",
       "      <td>0.0</td>\n",
       "    </tr>\n",
       "    <tr>\n",
       "      <th>7</th>\n",
       "      <td>929840859</td>\n",
       "      <td>1190146243296</td>\n",
       "      <td>http://upload.wikimedia.org/wikipedia/commons/...</td>\n",
       "      <td>-</td>\n",
       "      <td>1</td>\n",
       "      <td>1</td>\n",
       "      <td>3.0</td>\n",
       "      <td>1.0</td>\n",
       "      <td>4.0</td>\n",
       "      <td>4.0</td>\n",
       "      <td>4.0</td>\n",
       "      <td>4.0</td>\n",
       "    </tr>\n",
       "    <tr>\n",
       "      <th>8</th>\n",
       "      <td>929840862</td>\n",
       "      <td>1190146243297</td>\n",
       "      <td>http://pl.wikipedia.org/skins-1.5/common/image...</td>\n",
       "      <td>-</td>\n",
       "      <td>4</td>\n",
       "      <td>4</td>\n",
       "      <td>7.0</td>\n",
       "      <td>4.0</td>\n",
       "      <td>5.0</td>\n",
       "      <td>0.0</td>\n",
       "      <td>0.0</td>\n",
       "      <td>0.0</td>\n",
       "    </tr>\n",
       "    <tr>\n",
       "      <th>9</th>\n",
       "      <td>929840861</td>\n",
       "      <td>1190146243292</td>\n",
       "      <td>http://upload.wikimedia.org/wikipedia/commons/...</td>\n",
       "      <td>-</td>\n",
       "      <td>1</td>\n",
       "      <td>1</td>\n",
       "      <td>3.0</td>\n",
       "      <td>1.0</td>\n",
       "      <td>6.0</td>\n",
       "      <td>5.0</td>\n",
       "      <td>5.0</td>\n",
       "      <td>5.0</td>\n",
       "    </tr>\n",
       "    <tr>\n",
       "      <th>10</th>\n",
       "      <td>929840868</td>\n",
       "      <td>1190146243307</td>\n",
       "      <td>http://pl.wikipedia.org/skins-1.5/common/commo...</td>\n",
       "      <td>-</td>\n",
       "      <td>4</td>\n",
       "      <td>4</td>\n",
       "      <td>7.0</td>\n",
       "      <td>5.0</td>\n",
       "      <td>0.0</td>\n",
       "      <td>0.0</td>\n",
       "      <td>0.0</td>\n",
       "      <td>0.0</td>\n",
       "    </tr>\n",
       "    <tr>\n",
       "      <th>11</th>\n",
       "      <td>929840863</td>\n",
       "      <td>1190146243333</td>\n",
       "      <td>http://upload.wikimedia.org/wikipedia/commons/...</td>\n",
       "      <td>-</td>\n",
       "      <td>1</td>\n",
       "      <td>1</td>\n",
       "      <td>3.0</td>\n",
       "      <td>1.0</td>\n",
       "      <td>7.0</td>\n",
       "      <td>6.0</td>\n",
       "      <td>6.0</td>\n",
       "      <td>6.0</td>\n",
       "    </tr>\n",
       "    <tr>\n",
       "      <th>12</th>\n",
       "      <td>929840864</td>\n",
       "      <td>1190146243324</td>\n",
       "      <td>http://upload.wikimedia.org/wikipedia/commons/...</td>\n",
       "      <td>-</td>\n",
       "      <td>1</td>\n",
       "      <td>1</td>\n",
       "      <td>3.0</td>\n",
       "      <td>1.0</td>\n",
       "      <td>6.0</td>\n",
       "      <td>7.0</td>\n",
       "      <td>7.0</td>\n",
       "      <td>7.0</td>\n",
       "    </tr>\n",
       "    <tr>\n",
       "      <th>13</th>\n",
       "      <td>929840867</td>\n",
       "      <td>1190146243302</td>\n",
       "      <td>http://de.wikipedia.org/skins-1.5/monobook/mai...</td>\n",
       "      <td>-</td>\n",
       "      <td>5</td>\n",
       "      <td>4</td>\n",
       "      <td>6.0</td>\n",
       "      <td>6.0</td>\n",
       "      <td>0.0</td>\n",
       "      <td>0.0</td>\n",
       "      <td>0.0</td>\n",
       "      <td>0.0</td>\n",
       "    </tr>\n",
       "    <tr>\n",
       "      <th>14</th>\n",
       "      <td>929840865</td>\n",
       "      <td>1190146243305</td>\n",
       "      <td>http://en.wikipedia.org/skins-1.5/common/image...</td>\n",
       "      <td>-</td>\n",
       "      <td>2</td>\n",
       "      <td>4</td>\n",
       "      <td>7.0</td>\n",
       "      <td>4.0</td>\n",
       "      <td>8.0</td>\n",
       "      <td>0.0</td>\n",
       "      <td>0.0</td>\n",
       "      <td>0.0</td>\n",
       "    </tr>\n",
       "  </tbody>\n",
       "</table>\n",
       "</div>"
      ],
      "text/plain": [
       "    monotonic      timestamp  \\\n",
       "0   929840853  1190146243326   \n",
       "1   929840856  1190146243321   \n",
       "2   929840854  1190146243311   \n",
       "3   929840855  1190146243301   \n",
       "4   929840857  1190146243303   \n",
       "5   929840858  1190146243314   \n",
       "6   929840860  1190146243325   \n",
       "7   929840859  1190146243296   \n",
       "8   929840862  1190146243297   \n",
       "9   929840861  1190146243292   \n",
       "10  929840868  1190146243307   \n",
       "11  929840863  1190146243333   \n",
       "12  929840864  1190146243324   \n",
       "13  929840867  1190146243302   \n",
       "14  929840865  1190146243305   \n",
       "\n",
       "                                                  url flag  prefix_1  \\\n",
       "0   http://upload.wikimedia.org/wikipedia/en/thumb...    -         1   \n",
       "1          http://en.wikipedia.org/images/wiki-en.png    -         2   \n",
       "2   http://upload.wikimedia.org/wikipedia/commons/...    -         1   \n",
       "3   http://es.wikipedia.org/w/index.php?title=-&ac...    -         3   \n",
       "4   http://en.wikipedia.org/w/index.php?title=Medi...    -         2   \n",
       "5   http://upload.wikimedia.org/wikipedia/en/thumb...    -         1   \n",
       "6   http://en.wikipedia.org/skins-1.5/monobook/IE6...    -         2   \n",
       "7   http://upload.wikimedia.org/wikipedia/commons/...    -         1   \n",
       "8   http://pl.wikipedia.org/skins-1.5/common/image...    -         4   \n",
       "9   http://upload.wikimedia.org/wikipedia/commons/...    -         1   \n",
       "10  http://pl.wikipedia.org/skins-1.5/common/commo...    -         4   \n",
       "11  http://upload.wikimedia.org/wikipedia/commons/...    -         1   \n",
       "12  http://upload.wikimedia.org/wikipedia/commons/...    -         1   \n",
       "13  http://de.wikipedia.org/skins-1.5/monobook/mai...    -         5   \n",
       "14  http://en.wikipedia.org/skins-1.5/common/image...    -         2   \n",
       "\n",
       "    prefix_2  prefix_3  prefix_4  prefix_5  prefix_6  prefix_7  prefix_8  \n",
       "0          1       1.0       1.0       1.0       1.0       1.0       1.0  \n",
       "1          2       2.0       0.0       0.0       0.0       0.0       0.0  \n",
       "2          1       3.0       1.0       2.0       2.0       2.0       2.0  \n",
       "3          3       4.0       0.0       0.0       0.0       0.0       0.0  \n",
       "4          3       5.0       2.0       0.0       0.0       0.0       0.0  \n",
       "5          1       1.0       1.0       3.0       3.0       3.0       3.0  \n",
       "6          4       6.0       3.0       0.0       0.0       0.0       0.0  \n",
       "7          1       3.0       1.0       4.0       4.0       4.0       4.0  \n",
       "8          4       7.0       4.0       5.0       0.0       0.0       0.0  \n",
       "9          1       3.0       1.0       6.0       5.0       5.0       5.0  \n",
       "10         4       7.0       5.0       0.0       0.0       0.0       0.0  \n",
       "11         1       3.0       1.0       7.0       6.0       6.0       6.0  \n",
       "12         1       3.0       1.0       6.0       7.0       7.0       7.0  \n",
       "13         4       6.0       6.0       0.0       0.0       0.0       0.0  \n",
       "14         4       7.0       4.0       8.0       0.0       0.0       0.0  "
      ]
     },
     "execution_count": 81,
     "metadata": {},
     "output_type": "execute_result"
    }
   ],
   "source": [
    "dataset.head(15)"
   ]
  },
  {
   "cell_type": "code",
   "execution_count": 82,
   "id": "6e39b6d4",
   "metadata": {
    "id": "6e39b6d4"
   },
   "outputs": [],
   "source": [
    "dataset[['prefix_3', 'prefix_4', 'prefix_5', 'prefix_6', 'prefix_7', 'prefix_8']] = dataset[['prefix_3', 'prefix_4', 'prefix_5', 'prefix_6', 'prefix_7', 'prefix_8']].astype('int64')"
   ]
  },
  {
   "cell_type": "code",
   "execution_count": 83,
   "id": "60d3c960",
   "metadata": {
    "colab": {
     "base_uri": "https://localhost:8080/",
     "height": 363
    },
    "id": "60d3c960",
    "outputId": "8c1cd924-83bc-4d08-9ce7-36ebe5cdb42b"
   },
   "outputs": [
    {
     "data": {
      "text/html": [
       "<div>\n",
       "<style scoped>\n",
       "    .dataframe tbody tr th:only-of-type {\n",
       "        vertical-align: middle;\n",
       "    }\n",
       "\n",
       "    .dataframe tbody tr th {\n",
       "        vertical-align: top;\n",
       "    }\n",
       "\n",
       "    .dataframe thead th {\n",
       "        text-align: right;\n",
       "    }\n",
       "</style>\n",
       "<table border=\"1\" class=\"dataframe\">\n",
       "  <thead>\n",
       "    <tr style=\"text-align: right;\">\n",
       "      <th></th>\n",
       "      <th>monotonic</th>\n",
       "      <th>timestamp</th>\n",
       "      <th>url</th>\n",
       "      <th>flag</th>\n",
       "      <th>prefix_1</th>\n",
       "      <th>prefix_2</th>\n",
       "      <th>prefix_3</th>\n",
       "      <th>prefix_4</th>\n",
       "      <th>prefix_5</th>\n",
       "      <th>prefix_6</th>\n",
       "      <th>prefix_7</th>\n",
       "      <th>prefix_8</th>\n",
       "    </tr>\n",
       "  </thead>\n",
       "  <tbody>\n",
       "    <tr>\n",
       "      <th>1026</th>\n",
       "      <td>929841879</td>\n",
       "      <td>1190146243636</td>\n",
       "      <td>http://upload.wikimedia.org/wikipedia/en/thumb...</td>\n",
       "      <td>-</td>\n",
       "      <td>1</td>\n",
       "      <td>1</td>\n",
       "      <td>1</td>\n",
       "      <td>1</td>\n",
       "      <td>2</td>\n",
       "      <td>215</td>\n",
       "      <td>331</td>\n",
       "      <td>353</td>\n",
       "    </tr>\n",
       "    <tr>\n",
       "      <th>1027</th>\n",
       "      <td>929841880</td>\n",
       "      <td>1190146243628</td>\n",
       "      <td>http://en.wikipedia.org/w/index.php?title=-&amp;ac...</td>\n",
       "      <td>-</td>\n",
       "      <td>2</td>\n",
       "      <td>3</td>\n",
       "      <td>4</td>\n",
       "      <td>0</td>\n",
       "      <td>0</td>\n",
       "      <td>0</td>\n",
       "      <td>0</td>\n",
       "      <td>0</td>\n",
       "    </tr>\n",
       "    <tr>\n",
       "      <th>1028</th>\n",
       "      <td>929841881</td>\n",
       "      <td>1190146243635</td>\n",
       "      <td>http://upload.wikimedia.org/wikipedia/commons/...</td>\n",
       "      <td>-</td>\n",
       "      <td>1</td>\n",
       "      <td>1</td>\n",
       "      <td>3</td>\n",
       "      <td>1</td>\n",
       "      <td>4</td>\n",
       "      <td>176</td>\n",
       "      <td>263</td>\n",
       "      <td>354</td>\n",
       "    </tr>\n",
       "    <tr>\n",
       "      <th>1029</th>\n",
       "      <td>929841882</td>\n",
       "      <td>1190146243645</td>\n",
       "      <td>http://upload.wikimedia.org/wikipedia/en/thumb...</td>\n",
       "      <td>-</td>\n",
       "      <td>1</td>\n",
       "      <td>1</td>\n",
       "      <td>1</td>\n",
       "      <td>1</td>\n",
       "      <td>6</td>\n",
       "      <td>5</td>\n",
       "      <td>332</td>\n",
       "      <td>355</td>\n",
       "    </tr>\n",
       "    <tr>\n",
       "      <th>1030</th>\n",
       "      <td>929841883</td>\n",
       "      <td>1190146243658</td>\n",
       "      <td>http://upload.wikimedia.org/wikipedia/commons/...</td>\n",
       "      <td>-</td>\n",
       "      <td>1</td>\n",
       "      <td>1</td>\n",
       "      <td>3</td>\n",
       "      <td>1</td>\n",
       "      <td>13</td>\n",
       "      <td>86</td>\n",
       "      <td>333</td>\n",
       "      <td>356</td>\n",
       "    </tr>\n",
       "    <tr>\n",
       "      <th>1031</th>\n",
       "      <td>929841885</td>\n",
       "      <td>119014624366</td>\n",
       "      <td>http://en.wikipedia.org/wiki/Florence_Nightingale</td>\n",
       "      <td>-</td>\n",
       "      <td>2</td>\n",
       "      <td>5</td>\n",
       "      <td>165</td>\n",
       "      <td>0</td>\n",
       "      <td>0</td>\n",
       "      <td>0</td>\n",
       "      <td>0</td>\n",
       "      <td>0</td>\n",
       "    </tr>\n",
       "    <tr>\n",
       "      <th>1032</th>\n",
       "      <td>929841884</td>\n",
       "      <td>1190146243652</td>\n",
       "      <td>http://upload.wikimedia.org/wikipedia/commons/...</td>\n",
       "      <td>-</td>\n",
       "      <td>1</td>\n",
       "      <td>1</td>\n",
       "      <td>3</td>\n",
       "      <td>1</td>\n",
       "      <td>16</td>\n",
       "      <td>38</td>\n",
       "      <td>334</td>\n",
       "      <td>357</td>\n",
       "    </tr>\n",
       "    <tr>\n",
       "      <th>1033</th>\n",
       "      <td>929841887</td>\n",
       "      <td>1190146243628</td>\n",
       "      <td>http://commons.wikimedia.org/w/index.php?title...</td>\n",
       "      <td>-</td>\n",
       "      <td>28</td>\n",
       "      <td>3</td>\n",
       "      <td>166</td>\n",
       "      <td>32</td>\n",
       "      <td>0</td>\n",
       "      <td>0</td>\n",
       "      <td>0</td>\n",
       "      <td>0</td>\n",
       "    </tr>\n",
       "    <tr>\n",
       "      <th>1034</th>\n",
       "      <td>929841890</td>\n",
       "      <td>1190146243655</td>\n",
       "      <td>http://en.wikipedia.org/wiki/List_of_The_4400_...</td>\n",
       "      <td>-</td>\n",
       "      <td>2</td>\n",
       "      <td>5</td>\n",
       "      <td>167</td>\n",
       "      <td>0</td>\n",
       "      <td>0</td>\n",
       "      <td>0</td>\n",
       "      <td>0</td>\n",
       "      <td>0</td>\n",
       "    </tr>\n",
       "    <tr>\n",
       "      <th>1035</th>\n",
       "      <td>929841892</td>\n",
       "      <td>1190146243656</td>\n",
       "      <td>http://meta.wikimedia.org/w/index.php?title=Me...</td>\n",
       "      <td>-</td>\n",
       "      <td>14</td>\n",
       "      <td>3</td>\n",
       "      <td>22</td>\n",
       "      <td>19</td>\n",
       "      <td>0</td>\n",
       "      <td>0</td>\n",
       "      <td>0</td>\n",
       "      <td>0</td>\n",
       "    </tr>\n",
       "  </tbody>\n",
       "</table>\n",
       "</div>"
      ],
      "text/plain": [
       "      monotonic      timestamp  \\\n",
       "1026  929841879  1190146243636   \n",
       "1027  929841880  1190146243628   \n",
       "1028  929841881  1190146243635   \n",
       "1029  929841882  1190146243645   \n",
       "1030  929841883  1190146243658   \n",
       "1031  929841885   119014624366   \n",
       "1032  929841884  1190146243652   \n",
       "1033  929841887  1190146243628   \n",
       "1034  929841890  1190146243655   \n",
       "1035  929841892  1190146243656   \n",
       "\n",
       "                                                    url flag  prefix_1  \\\n",
       "1026  http://upload.wikimedia.org/wikipedia/en/thumb...    -         1   \n",
       "1027  http://en.wikipedia.org/w/index.php?title=-&ac...    -         2   \n",
       "1028  http://upload.wikimedia.org/wikipedia/commons/...    -         1   \n",
       "1029  http://upload.wikimedia.org/wikipedia/en/thumb...    -         1   \n",
       "1030  http://upload.wikimedia.org/wikipedia/commons/...    -         1   \n",
       "1031  http://en.wikipedia.org/wiki/Florence_Nightingale    -         2   \n",
       "1032  http://upload.wikimedia.org/wikipedia/commons/...    -         1   \n",
       "1033  http://commons.wikimedia.org/w/index.php?title...    -        28   \n",
       "1034  http://en.wikipedia.org/wiki/List_of_The_4400_...    -         2   \n",
       "1035  http://meta.wikimedia.org/w/index.php?title=Me...    -        14   \n",
       "\n",
       "      prefix_2  prefix_3  prefix_4  prefix_5  prefix_6  prefix_7  prefix_8  \n",
       "1026         1         1         1         2       215       331       353  \n",
       "1027         3         4         0         0         0         0         0  \n",
       "1028         1         3         1         4       176       263       354  \n",
       "1029         1         1         1         6         5       332       355  \n",
       "1030         1         3         1        13        86       333       356  \n",
       "1031         5       165         0         0         0         0         0  \n",
       "1032         1         3         1        16        38       334       357  \n",
       "1033         3       166        32         0         0         0         0  \n",
       "1034         5       167         0         0         0         0         0  \n",
       "1035         3        22        19         0         0         0         0  "
      ]
     },
     "execution_count": 83,
     "metadata": {},
     "output_type": "execute_result"
    }
   ],
   "source": [
    "dataset.tail(10)"
   ]
  },
  {
   "cell_type": "code",
   "execution_count": 84,
   "id": "4b09489a",
   "metadata": {
    "id": "4b09489a"
   },
   "outputs": [],
   "source": [
    "cek_data = dataset[['prefix_1', 'prefix_2', 'prefix_3', 'prefix_4', 'prefix_5', 'prefix_6', 'prefix_7', 'prefix_8']]"
   ]
  },
  {
   "cell_type": "code",
   "execution_count": 85,
   "id": "6a063b7c",
   "metadata": {
    "colab": {
     "base_uri": "https://localhost:8080/",
     "height": 363
    },
    "id": "6a063b7c",
    "outputId": "174c4172-cbdf-4990-eab2-e544425d82e2"
   },
   "outputs": [
    {
     "data": {
      "text/html": [
       "<div>\n",
       "<style scoped>\n",
       "    .dataframe tbody tr th:only-of-type {\n",
       "        vertical-align: middle;\n",
       "    }\n",
       "\n",
       "    .dataframe tbody tr th {\n",
       "        vertical-align: top;\n",
       "    }\n",
       "\n",
       "    .dataframe thead th {\n",
       "        text-align: right;\n",
       "    }\n",
       "</style>\n",
       "<table border=\"1\" class=\"dataframe\">\n",
       "  <thead>\n",
       "    <tr style=\"text-align: right;\">\n",
       "      <th></th>\n",
       "      <th>prefix_1</th>\n",
       "      <th>prefix_2</th>\n",
       "      <th>prefix_3</th>\n",
       "      <th>prefix_4</th>\n",
       "      <th>prefix_5</th>\n",
       "      <th>prefix_6</th>\n",
       "      <th>prefix_7</th>\n",
       "      <th>prefix_8</th>\n",
       "    </tr>\n",
       "  </thead>\n",
       "  <tbody>\n",
       "    <tr>\n",
       "      <th>0</th>\n",
       "      <td>1</td>\n",
       "      <td>1</td>\n",
       "      <td>1</td>\n",
       "      <td>1</td>\n",
       "      <td>1</td>\n",
       "      <td>1</td>\n",
       "      <td>1</td>\n",
       "      <td>1</td>\n",
       "    </tr>\n",
       "    <tr>\n",
       "      <th>1</th>\n",
       "      <td>2</td>\n",
       "      <td>2</td>\n",
       "      <td>2</td>\n",
       "      <td>0</td>\n",
       "      <td>0</td>\n",
       "      <td>0</td>\n",
       "      <td>0</td>\n",
       "      <td>0</td>\n",
       "    </tr>\n",
       "    <tr>\n",
       "      <th>2</th>\n",
       "      <td>1</td>\n",
       "      <td>1</td>\n",
       "      <td>3</td>\n",
       "      <td>1</td>\n",
       "      <td>2</td>\n",
       "      <td>2</td>\n",
       "      <td>2</td>\n",
       "      <td>2</td>\n",
       "    </tr>\n",
       "    <tr>\n",
       "      <th>3</th>\n",
       "      <td>3</td>\n",
       "      <td>3</td>\n",
       "      <td>4</td>\n",
       "      <td>0</td>\n",
       "      <td>0</td>\n",
       "      <td>0</td>\n",
       "      <td>0</td>\n",
       "      <td>0</td>\n",
       "    </tr>\n",
       "    <tr>\n",
       "      <th>4</th>\n",
       "      <td>2</td>\n",
       "      <td>3</td>\n",
       "      <td>5</td>\n",
       "      <td>2</td>\n",
       "      <td>0</td>\n",
       "      <td>0</td>\n",
       "      <td>0</td>\n",
       "      <td>0</td>\n",
       "    </tr>\n",
       "    <tr>\n",
       "      <th>5</th>\n",
       "      <td>1</td>\n",
       "      <td>1</td>\n",
       "      <td>1</td>\n",
       "      <td>1</td>\n",
       "      <td>3</td>\n",
       "      <td>3</td>\n",
       "      <td>3</td>\n",
       "      <td>3</td>\n",
       "    </tr>\n",
       "    <tr>\n",
       "      <th>6</th>\n",
       "      <td>2</td>\n",
       "      <td>4</td>\n",
       "      <td>6</td>\n",
       "      <td>3</td>\n",
       "      <td>0</td>\n",
       "      <td>0</td>\n",
       "      <td>0</td>\n",
       "      <td>0</td>\n",
       "    </tr>\n",
       "    <tr>\n",
       "      <th>7</th>\n",
       "      <td>1</td>\n",
       "      <td>1</td>\n",
       "      <td>3</td>\n",
       "      <td>1</td>\n",
       "      <td>4</td>\n",
       "      <td>4</td>\n",
       "      <td>4</td>\n",
       "      <td>4</td>\n",
       "    </tr>\n",
       "    <tr>\n",
       "      <th>8</th>\n",
       "      <td>4</td>\n",
       "      <td>4</td>\n",
       "      <td>7</td>\n",
       "      <td>4</td>\n",
       "      <td>5</td>\n",
       "      <td>0</td>\n",
       "      <td>0</td>\n",
       "      <td>0</td>\n",
       "    </tr>\n",
       "    <tr>\n",
       "      <th>9</th>\n",
       "      <td>1</td>\n",
       "      <td>1</td>\n",
       "      <td>3</td>\n",
       "      <td>1</td>\n",
       "      <td>6</td>\n",
       "      <td>5</td>\n",
       "      <td>5</td>\n",
       "      <td>5</td>\n",
       "    </tr>\n",
       "  </tbody>\n",
       "</table>\n",
       "</div>"
      ],
      "text/plain": [
       "   prefix_1  prefix_2  prefix_3  prefix_4  prefix_5  prefix_6  prefix_7  \\\n",
       "0         1         1         1         1         1         1         1   \n",
       "1         2         2         2         0         0         0         0   \n",
       "2         1         1         3         1         2         2         2   \n",
       "3         3         3         4         0         0         0         0   \n",
       "4         2         3         5         2         0         0         0   \n",
       "5         1         1         1         1         3         3         3   \n",
       "6         2         4         6         3         0         0         0   \n",
       "7         1         1         3         1         4         4         4   \n",
       "8         4         4         7         4         5         0         0   \n",
       "9         1         1         3         1         6         5         5   \n",
       "\n",
       "   prefix_8  \n",
       "0         1  \n",
       "1         0  \n",
       "2         2  \n",
       "3         0  \n",
       "4         0  \n",
       "5         3  \n",
       "6         0  \n",
       "7         4  \n",
       "8         0  \n",
       "9         5  "
      ]
     },
     "execution_count": 85,
     "metadata": {},
     "output_type": "execute_result"
    }
   ],
   "source": [
    "cek_data.head(10)"
   ]
  },
  {
   "cell_type": "code",
   "execution_count": 86,
   "id": "4d9915f9",
   "metadata": {
    "colab": {
     "base_uri": "https://localhost:8080/",
     "height": 363
    },
    "id": "4d9915f9",
    "outputId": "9b12b78e-97df-486b-f5b9-c24aea52df06"
   },
   "outputs": [
    {
     "data": {
      "text/html": [
       "<div>\n",
       "<style scoped>\n",
       "    .dataframe tbody tr th:only-of-type {\n",
       "        vertical-align: middle;\n",
       "    }\n",
       "\n",
       "    .dataframe tbody tr th {\n",
       "        vertical-align: top;\n",
       "    }\n",
       "\n",
       "    .dataframe thead th {\n",
       "        text-align: right;\n",
       "    }\n",
       "</style>\n",
       "<table border=\"1\" class=\"dataframe\">\n",
       "  <thead>\n",
       "    <tr style=\"text-align: right;\">\n",
       "      <th></th>\n",
       "      <th>prefix_1</th>\n",
       "      <th>prefix_2</th>\n",
       "      <th>prefix_3</th>\n",
       "      <th>prefix_4</th>\n",
       "      <th>prefix_5</th>\n",
       "      <th>prefix_6</th>\n",
       "      <th>prefix_7</th>\n",
       "      <th>prefix_8</th>\n",
       "    </tr>\n",
       "  </thead>\n",
       "  <tbody>\n",
       "    <tr>\n",
       "      <th>1026</th>\n",
       "      <td>1</td>\n",
       "      <td>1</td>\n",
       "      <td>1</td>\n",
       "      <td>1</td>\n",
       "      <td>2</td>\n",
       "      <td>215</td>\n",
       "      <td>331</td>\n",
       "      <td>353</td>\n",
       "    </tr>\n",
       "    <tr>\n",
       "      <th>1027</th>\n",
       "      <td>2</td>\n",
       "      <td>3</td>\n",
       "      <td>4</td>\n",
       "      <td>0</td>\n",
       "      <td>0</td>\n",
       "      <td>0</td>\n",
       "      <td>0</td>\n",
       "      <td>0</td>\n",
       "    </tr>\n",
       "    <tr>\n",
       "      <th>1028</th>\n",
       "      <td>1</td>\n",
       "      <td>1</td>\n",
       "      <td>3</td>\n",
       "      <td>1</td>\n",
       "      <td>4</td>\n",
       "      <td>176</td>\n",
       "      <td>263</td>\n",
       "      <td>354</td>\n",
       "    </tr>\n",
       "    <tr>\n",
       "      <th>1029</th>\n",
       "      <td>1</td>\n",
       "      <td>1</td>\n",
       "      <td>1</td>\n",
       "      <td>1</td>\n",
       "      <td>6</td>\n",
       "      <td>5</td>\n",
       "      <td>332</td>\n",
       "      <td>355</td>\n",
       "    </tr>\n",
       "    <tr>\n",
       "      <th>1030</th>\n",
       "      <td>1</td>\n",
       "      <td>1</td>\n",
       "      <td>3</td>\n",
       "      <td>1</td>\n",
       "      <td>13</td>\n",
       "      <td>86</td>\n",
       "      <td>333</td>\n",
       "      <td>356</td>\n",
       "    </tr>\n",
       "    <tr>\n",
       "      <th>1031</th>\n",
       "      <td>2</td>\n",
       "      <td>5</td>\n",
       "      <td>165</td>\n",
       "      <td>0</td>\n",
       "      <td>0</td>\n",
       "      <td>0</td>\n",
       "      <td>0</td>\n",
       "      <td>0</td>\n",
       "    </tr>\n",
       "    <tr>\n",
       "      <th>1032</th>\n",
       "      <td>1</td>\n",
       "      <td>1</td>\n",
       "      <td>3</td>\n",
       "      <td>1</td>\n",
       "      <td>16</td>\n",
       "      <td>38</td>\n",
       "      <td>334</td>\n",
       "      <td>357</td>\n",
       "    </tr>\n",
       "    <tr>\n",
       "      <th>1033</th>\n",
       "      <td>28</td>\n",
       "      <td>3</td>\n",
       "      <td>166</td>\n",
       "      <td>32</td>\n",
       "      <td>0</td>\n",
       "      <td>0</td>\n",
       "      <td>0</td>\n",
       "      <td>0</td>\n",
       "    </tr>\n",
       "    <tr>\n",
       "      <th>1034</th>\n",
       "      <td>2</td>\n",
       "      <td>5</td>\n",
       "      <td>167</td>\n",
       "      <td>0</td>\n",
       "      <td>0</td>\n",
       "      <td>0</td>\n",
       "      <td>0</td>\n",
       "      <td>0</td>\n",
       "    </tr>\n",
       "    <tr>\n",
       "      <th>1035</th>\n",
       "      <td>14</td>\n",
       "      <td>3</td>\n",
       "      <td>22</td>\n",
       "      <td>19</td>\n",
       "      <td>0</td>\n",
       "      <td>0</td>\n",
       "      <td>0</td>\n",
       "      <td>0</td>\n",
       "    </tr>\n",
       "  </tbody>\n",
       "</table>\n",
       "</div>"
      ],
      "text/plain": [
       "      prefix_1  prefix_2  prefix_3  prefix_4  prefix_5  prefix_6  prefix_7  \\\n",
       "1026         1         1         1         1         2       215       331   \n",
       "1027         2         3         4         0         0         0         0   \n",
       "1028         1         1         3         1         4       176       263   \n",
       "1029         1         1         1         1         6         5       332   \n",
       "1030         1         1         3         1        13        86       333   \n",
       "1031         2         5       165         0         0         0         0   \n",
       "1032         1         1         3         1        16        38       334   \n",
       "1033        28         3       166        32         0         0         0   \n",
       "1034         2         5       167         0         0         0         0   \n",
       "1035        14         3        22        19         0         0         0   \n",
       "\n",
       "      prefix_8  \n",
       "1026       353  \n",
       "1027         0  \n",
       "1028       354  \n",
       "1029       355  \n",
       "1030       356  \n",
       "1031         0  \n",
       "1032       357  \n",
       "1033         0  \n",
       "1034         0  \n",
       "1035         0  "
      ]
     },
     "execution_count": 86,
     "metadata": {},
     "output_type": "execute_result"
    }
   ],
   "source": [
    "cek_data.tail(10)"
   ]
  },
  {
   "cell_type": "code",
   "execution_count": 87,
   "id": "b602cc55",
   "metadata": {
    "id": "b602cc55"
   },
   "outputs": [],
   "source": [
    "# cek_data.to_csv('./dataset/currenttmp.txt', index=False, sep=' ', header=None)"
   ]
  },
  {
   "cell_type": "code",
   "execution_count": 88,
   "id": "0b3dc44d",
   "metadata": {
    "colab": {
     "base_uri": "https://localhost:8080/"
    },
    "id": "0b3dc44d",
    "outputId": "806d54b2-81a9-4c08-d16d-2fcb6bf2237b"
   },
   "outputs": [
    {
     "data": {
      "text/plain": [
       "monotonic    0\n",
       "timestamp    0\n",
       "url          0\n",
       "flag         0\n",
       "prefix_1     0\n",
       "prefix_2     0\n",
       "prefix_3     0\n",
       "prefix_4     0\n",
       "prefix_5     0\n",
       "prefix_6     0\n",
       "prefix_7     0\n",
       "prefix_8     0\n",
       "dtype: int64"
      ]
     },
     "execution_count": 88,
     "metadata": {},
     "output_type": "execute_result"
    }
   ],
   "source": [
    "dataset.isnull().sum()"
   ]
  },
  {
   "cell_type": "code",
   "execution_count": 89,
   "id": "ce3742d9",
   "metadata": {
    "colab": {
     "base_uri": "https://localhost:8080/"
    },
    "id": "ce3742d9",
    "outputId": "82b36bc4-16ae-4111-86a0-928d27772e3a"
   },
   "outputs": [
    {
     "data": {
      "text/plain": [
       "monotonic     int64\n",
       "timestamp     int64\n",
       "url          object\n",
       "flag         object\n",
       "prefix_1      int64\n",
       "prefix_2      int64\n",
       "prefix_3      int64\n",
       "prefix_4      int64\n",
       "prefix_5      int64\n",
       "prefix_6      int64\n",
       "prefix_7      int64\n",
       "prefix_8      int64\n",
       "dtype: object"
      ]
     },
     "execution_count": 89,
     "metadata": {},
     "output_type": "execute_result"
    }
   ],
   "source": [
    "dataset.dtypes"
   ]
  },
  {
   "cell_type": "code",
   "execution_count": 90,
   "id": "31d88e55",
   "metadata": {
    "id": "31d88e55"
   },
   "outputs": [],
   "source": [
    "dataset['count'] = dataset.groupby(by=['url'])['url'].transform('count')"
   ]
  },
  {
   "cell_type": "code",
   "execution_count": 91,
   "id": "03b955fb",
   "metadata": {
    "colab": {
     "base_uri": "https://localhost:8080/",
     "height": 206
    },
    "id": "03b955fb",
    "outputId": "f911c8af-c422-4154-bf33-e21957f93a5d"
   },
   "outputs": [
    {
     "data": {
      "text/html": [
       "<div>\n",
       "<style scoped>\n",
       "    .dataframe tbody tr th:only-of-type {\n",
       "        vertical-align: middle;\n",
       "    }\n",
       "\n",
       "    .dataframe tbody tr th {\n",
       "        vertical-align: top;\n",
       "    }\n",
       "\n",
       "    .dataframe thead th {\n",
       "        text-align: right;\n",
       "    }\n",
       "</style>\n",
       "<table border=\"1\" class=\"dataframe\">\n",
       "  <thead>\n",
       "    <tr style=\"text-align: right;\">\n",
       "      <th></th>\n",
       "      <th>monotonic</th>\n",
       "      <th>timestamp</th>\n",
       "      <th>url</th>\n",
       "      <th>flag</th>\n",
       "      <th>prefix_1</th>\n",
       "      <th>prefix_2</th>\n",
       "      <th>prefix_3</th>\n",
       "      <th>prefix_4</th>\n",
       "      <th>prefix_5</th>\n",
       "      <th>prefix_6</th>\n",
       "      <th>prefix_7</th>\n",
       "      <th>prefix_8</th>\n",
       "      <th>count</th>\n",
       "    </tr>\n",
       "  </thead>\n",
       "  <tbody>\n",
       "    <tr>\n",
       "      <th>0</th>\n",
       "      <td>929840853</td>\n",
       "      <td>1190146243326</td>\n",
       "      <td>http://upload.wikimedia.org/wikipedia/en/thumb...</td>\n",
       "      <td>-</td>\n",
       "      <td>1</td>\n",
       "      <td>1</td>\n",
       "      <td>1</td>\n",
       "      <td>1</td>\n",
       "      <td>1</td>\n",
       "      <td>1</td>\n",
       "      <td>1</td>\n",
       "      <td>1</td>\n",
       "      <td>1</td>\n",
       "    </tr>\n",
       "    <tr>\n",
       "      <th>1</th>\n",
       "      <td>929840856</td>\n",
       "      <td>1190146243321</td>\n",
       "      <td>http://en.wikipedia.org/images/wiki-en.png</td>\n",
       "      <td>-</td>\n",
       "      <td>2</td>\n",
       "      <td>2</td>\n",
       "      <td>2</td>\n",
       "      <td>0</td>\n",
       "      <td>0</td>\n",
       "      <td>0</td>\n",
       "      <td>0</td>\n",
       "      <td>0</td>\n",
       "      <td>10</td>\n",
       "    </tr>\n",
       "    <tr>\n",
       "      <th>2</th>\n",
       "      <td>929840854</td>\n",
       "      <td>1190146243311</td>\n",
       "      <td>http://upload.wikimedia.org/wikipedia/commons/...</td>\n",
       "      <td>-</td>\n",
       "      <td>1</td>\n",
       "      <td>1</td>\n",
       "      <td>3</td>\n",
       "      <td>1</td>\n",
       "      <td>2</td>\n",
       "      <td>2</td>\n",
       "      <td>2</td>\n",
       "      <td>2</td>\n",
       "      <td>1</td>\n",
       "    </tr>\n",
       "    <tr>\n",
       "      <th>3</th>\n",
       "      <td>929840855</td>\n",
       "      <td>1190146243301</td>\n",
       "      <td>http://es.wikipedia.org/w/index.php?title=-&amp;ac...</td>\n",
       "      <td>-</td>\n",
       "      <td>3</td>\n",
       "      <td>3</td>\n",
       "      <td>4</td>\n",
       "      <td>0</td>\n",
       "      <td>0</td>\n",
       "      <td>0</td>\n",
       "      <td>0</td>\n",
       "      <td>0</td>\n",
       "      <td>3</td>\n",
       "    </tr>\n",
       "    <tr>\n",
       "      <th>4</th>\n",
       "      <td>929840857</td>\n",
       "      <td>1190146243303</td>\n",
       "      <td>http://en.wikipedia.org/w/index.php?title=Medi...</td>\n",
       "      <td>-</td>\n",
       "      <td>2</td>\n",
       "      <td>3</td>\n",
       "      <td>5</td>\n",
       "      <td>2</td>\n",
       "      <td>0</td>\n",
       "      <td>0</td>\n",
       "      <td>0</td>\n",
       "      <td>0</td>\n",
       "      <td>12</td>\n",
       "    </tr>\n",
       "  </tbody>\n",
       "</table>\n",
       "</div>"
      ],
      "text/plain": [
       "   monotonic      timestamp  \\\n",
       "0  929840853  1190146243326   \n",
       "1  929840856  1190146243321   \n",
       "2  929840854  1190146243311   \n",
       "3  929840855  1190146243301   \n",
       "4  929840857  1190146243303   \n",
       "\n",
       "                                                 url flag  prefix_1  prefix_2  \\\n",
       "0  http://upload.wikimedia.org/wikipedia/en/thumb...    -         1         1   \n",
       "1         http://en.wikipedia.org/images/wiki-en.png    -         2         2   \n",
       "2  http://upload.wikimedia.org/wikipedia/commons/...    -         1         1   \n",
       "3  http://es.wikipedia.org/w/index.php?title=-&ac...    -         3         3   \n",
       "4  http://en.wikipedia.org/w/index.php?title=Medi...    -         2         3   \n",
       "\n",
       "   prefix_3  prefix_4  prefix_5  prefix_6  prefix_7  prefix_8  count  \n",
       "0         1         1         1         1         1         1      1  \n",
       "1         2         0         0         0         0         0     10  \n",
       "2         3         1         2         2         2         2      1  \n",
       "3         4         0         0         0         0         0      3  \n",
       "4         5         2         0         0         0         0     12  "
      ]
     },
     "execution_count": 91,
     "metadata": {},
     "output_type": "execute_result"
    }
   ],
   "source": [
    "dataset.head()"
   ]
  },
  {
   "cell_type": "code",
   "execution_count": 92,
   "id": "fd00fd8f",
   "metadata": {
    "colab": {
     "base_uri": "https://localhost:8080/",
     "height": 424
    },
    "id": "fd00fd8f",
    "outputId": "14caadbd-ecc6-4a44-b381-ba850a0aa70f"
   },
   "outputs": [
    {
     "data": {
      "text/html": [
       "<div>\n",
       "<style scoped>\n",
       "    .dataframe tbody tr th:only-of-type {\n",
       "        vertical-align: middle;\n",
       "    }\n",
       "\n",
       "    .dataframe tbody tr th {\n",
       "        vertical-align: top;\n",
       "    }\n",
       "\n",
       "    .dataframe thead th {\n",
       "        text-align: right;\n",
       "    }\n",
       "</style>\n",
       "<table border=\"1\" class=\"dataframe\">\n",
       "  <thead>\n",
       "    <tr style=\"text-align: right;\">\n",
       "      <th></th>\n",
       "      <th>monotonic</th>\n",
       "      <th>timestamp</th>\n",
       "      <th>url</th>\n",
       "      <th>flag</th>\n",
       "      <th>prefix_1</th>\n",
       "      <th>prefix_2</th>\n",
       "      <th>prefix_3</th>\n",
       "      <th>prefix_4</th>\n",
       "      <th>prefix_5</th>\n",
       "      <th>prefix_6</th>\n",
       "      <th>prefix_7</th>\n",
       "      <th>prefix_8</th>\n",
       "      <th>count</th>\n",
       "    </tr>\n",
       "  </thead>\n",
       "  <tbody>\n",
       "    <tr>\n",
       "      <th>518</th>\n",
       "      <td>929841370</td>\n",
       "      <td>1190146243483</td>\n",
       "      <td>http://upload.wikimedia.org/wikipedia/en/1/18/...</td>\n",
       "      <td>-</td>\n",
       "      <td>1</td>\n",
       "      <td>1</td>\n",
       "      <td>1</td>\n",
       "      <td>16</td>\n",
       "      <td>22</td>\n",
       "      <td>34</td>\n",
       "      <td>0</td>\n",
       "      <td>0</td>\n",
       "      <td>19</td>\n",
       "    </tr>\n",
       "    <tr>\n",
       "      <th>507</th>\n",
       "      <td>929841361</td>\n",
       "      <td>1190146243482</td>\n",
       "      <td>http://upload.wikimedia.org/wikipedia/en/1/18/...</td>\n",
       "      <td>-</td>\n",
       "      <td>1</td>\n",
       "      <td>1</td>\n",
       "      <td>1</td>\n",
       "      <td>16</td>\n",
       "      <td>22</td>\n",
       "      <td>34</td>\n",
       "      <td>0</td>\n",
       "      <td>0</td>\n",
       "      <td>19</td>\n",
       "    </tr>\n",
       "    <tr>\n",
       "      <th>698</th>\n",
       "      <td>929841550</td>\n",
       "      <td>1190146243541</td>\n",
       "      <td>http://upload.wikimedia.org/wikipedia/en/1/18/...</td>\n",
       "      <td>-</td>\n",
       "      <td>1</td>\n",
       "      <td>1</td>\n",
       "      <td>1</td>\n",
       "      <td>16</td>\n",
       "      <td>22</td>\n",
       "      <td>34</td>\n",
       "      <td>0</td>\n",
       "      <td>0</td>\n",
       "      <td>19</td>\n",
       "    </tr>\n",
       "    <tr>\n",
       "      <th>338</th>\n",
       "      <td>929841190</td>\n",
       "      <td>1190146243429</td>\n",
       "      <td>http://upload.wikimedia.org/wikipedia/en/1/18/...</td>\n",
       "      <td>-</td>\n",
       "      <td>1</td>\n",
       "      <td>1</td>\n",
       "      <td>1</td>\n",
       "      <td>16</td>\n",
       "      <td>22</td>\n",
       "      <td>34</td>\n",
       "      <td>0</td>\n",
       "      <td>0</td>\n",
       "      <td>19</td>\n",
       "    </tr>\n",
       "    <tr>\n",
       "      <th>208</th>\n",
       "      <td>929841061</td>\n",
       "      <td>1190146243388</td>\n",
       "      <td>http://upload.wikimedia.org/wikipedia/en/1/18/...</td>\n",
       "      <td>-</td>\n",
       "      <td>1</td>\n",
       "      <td>1</td>\n",
       "      <td>1</td>\n",
       "      <td>16</td>\n",
       "      <td>22</td>\n",
       "      <td>34</td>\n",
       "      <td>0</td>\n",
       "      <td>0</td>\n",
       "      <td>19</td>\n",
       "    </tr>\n",
       "    <tr>\n",
       "      <th>...</th>\n",
       "      <td>...</td>\n",
       "      <td>...</td>\n",
       "      <td>...</td>\n",
       "      <td>...</td>\n",
       "      <td>...</td>\n",
       "      <td>...</td>\n",
       "      <td>...</td>\n",
       "      <td>...</td>\n",
       "      <td>...</td>\n",
       "      <td>...</td>\n",
       "      <td>...</td>\n",
       "      <td>...</td>\n",
       "      <td>...</td>\n",
       "    </tr>\n",
       "    <tr>\n",
       "      <th>468</th>\n",
       "      <td>929841321</td>\n",
       "      <td>1190146243455</td>\n",
       "      <td>http://upload.wikimedia.org/wikipedia/commons/...</td>\n",
       "      <td>-</td>\n",
       "      <td>1</td>\n",
       "      <td>1</td>\n",
       "      <td>3</td>\n",
       "      <td>1</td>\n",
       "      <td>13</td>\n",
       "      <td>26</td>\n",
       "      <td>165</td>\n",
       "      <td>172</td>\n",
       "      <td>1</td>\n",
       "    </tr>\n",
       "    <tr>\n",
       "      <th>470</th>\n",
       "      <td>929841323</td>\n",
       "      <td>1190146243454</td>\n",
       "      <td>http://nl.wikipedia.org/skins-1.5/monobook/mai...</td>\n",
       "      <td>-</td>\n",
       "      <td>30</td>\n",
       "      <td>4</td>\n",
       "      <td>6</td>\n",
       "      <td>9</td>\n",
       "      <td>0</td>\n",
       "      <td>0</td>\n",
       "      <td>0</td>\n",
       "      <td>0</td>\n",
       "      <td>1</td>\n",
       "    </tr>\n",
       "    <tr>\n",
       "      <th>471</th>\n",
       "      <td>929841324</td>\n",
       "      <td>119014624347</td>\n",
       "      <td>http://upload.wikimedia.org/wikipedia/en/d/d5/...</td>\n",
       "      <td>-</td>\n",
       "      <td>1</td>\n",
       "      <td>1</td>\n",
       "      <td>1</td>\n",
       "      <td>7</td>\n",
       "      <td>48</td>\n",
       "      <td>152</td>\n",
       "      <td>0</td>\n",
       "      <td>0</td>\n",
       "      <td>1</td>\n",
       "    </tr>\n",
       "    <tr>\n",
       "      <th>472</th>\n",
       "      <td>929841325</td>\n",
       "      <td>1190146243467</td>\n",
       "      <td>http://upload.wikimedia.org/wikipedia/en/thumb...</td>\n",
       "      <td>-</td>\n",
       "      <td>1</td>\n",
       "      <td>1</td>\n",
       "      <td>1</td>\n",
       "      <td>1</td>\n",
       "      <td>24</td>\n",
       "      <td>153</td>\n",
       "      <td>166</td>\n",
       "      <td>173</td>\n",
       "      <td>1</td>\n",
       "    </tr>\n",
       "    <tr>\n",
       "      <th>0</th>\n",
       "      <td>929840853</td>\n",
       "      <td>1190146243326</td>\n",
       "      <td>http://upload.wikimedia.org/wikipedia/en/thumb...</td>\n",
       "      <td>-</td>\n",
       "      <td>1</td>\n",
       "      <td>1</td>\n",
       "      <td>1</td>\n",
       "      <td>1</td>\n",
       "      <td>1</td>\n",
       "      <td>1</td>\n",
       "      <td>1</td>\n",
       "      <td>1</td>\n",
       "      <td>1</td>\n",
       "    </tr>\n",
       "  </tbody>\n",
       "</table>\n",
       "<p>1036 rows × 13 columns</p>\n",
       "</div>"
      ],
      "text/plain": [
       "     monotonic      timestamp  \\\n",
       "518  929841370  1190146243483   \n",
       "507  929841361  1190146243482   \n",
       "698  929841550  1190146243541   \n",
       "338  929841190  1190146243429   \n",
       "208  929841061  1190146243388   \n",
       "..         ...            ...   \n",
       "468  929841321  1190146243455   \n",
       "470  929841323  1190146243454   \n",
       "471  929841324   119014624347   \n",
       "472  929841325  1190146243467   \n",
       "0    929840853  1190146243326   \n",
       "\n",
       "                                                   url flag  prefix_1  \\\n",
       "518  http://upload.wikimedia.org/wikipedia/en/1/18/...    -         1   \n",
       "507  http://upload.wikimedia.org/wikipedia/en/1/18/...    -         1   \n",
       "698  http://upload.wikimedia.org/wikipedia/en/1/18/...    -         1   \n",
       "338  http://upload.wikimedia.org/wikipedia/en/1/18/...    -         1   \n",
       "208  http://upload.wikimedia.org/wikipedia/en/1/18/...    -         1   \n",
       "..                                                 ...  ...       ...   \n",
       "468  http://upload.wikimedia.org/wikipedia/commons/...    -         1   \n",
       "470  http://nl.wikipedia.org/skins-1.5/monobook/mai...    -        30   \n",
       "471  http://upload.wikimedia.org/wikipedia/en/d/d5/...    -         1   \n",
       "472  http://upload.wikimedia.org/wikipedia/en/thumb...    -         1   \n",
       "0    http://upload.wikimedia.org/wikipedia/en/thumb...    -         1   \n",
       "\n",
       "     prefix_2  prefix_3  prefix_4  prefix_5  prefix_6  prefix_7  prefix_8  \\\n",
       "518         1         1        16        22        34         0         0   \n",
       "507         1         1        16        22        34         0         0   \n",
       "698         1         1        16        22        34         0         0   \n",
       "338         1         1        16        22        34         0         0   \n",
       "208         1         1        16        22        34         0         0   \n",
       "..        ...       ...       ...       ...       ...       ...       ...   \n",
       "468         1         3         1        13        26       165       172   \n",
       "470         4         6         9         0         0         0         0   \n",
       "471         1         1         7        48       152         0         0   \n",
       "472         1         1         1        24       153       166       173   \n",
       "0           1         1         1         1         1         1         1   \n",
       "\n",
       "     count  \n",
       "518     19  \n",
       "507     19  \n",
       "698     19  \n",
       "338     19  \n",
       "208     19  \n",
       "..     ...  \n",
       "468      1  \n",
       "470      1  \n",
       "471      1  \n",
       "472      1  \n",
       "0        1  \n",
       "\n",
       "[1036 rows x 13 columns]"
      ]
     },
     "execution_count": 92,
     "metadata": {},
     "output_type": "execute_result"
    }
   ],
   "source": [
    "dataset.sort_values(by='count', ascending=False)"
   ]
  },
  {
   "cell_type": "code",
   "execution_count": 93,
   "id": "607b9617",
   "metadata": {
    "id": "607b9617"
   },
   "outputs": [],
   "source": [
    "dataset.drop(columns=['monotonic', 'timestamp', 'flag'], inplace=True)"
   ]
  },
  {
   "cell_type": "code",
   "execution_count": 94,
   "id": "d4118de0",
   "metadata": {
    "colab": {
     "base_uri": "https://localhost:8080/",
     "height": 206
    },
    "id": "d4118de0",
    "outputId": "fe781a71-68a7-4d24-c3c8-ae8da1d634f5"
   },
   "outputs": [
    {
     "data": {
      "text/html": [
       "<div>\n",
       "<style scoped>\n",
       "    .dataframe tbody tr th:only-of-type {\n",
       "        vertical-align: middle;\n",
       "    }\n",
       "\n",
       "    .dataframe tbody tr th {\n",
       "        vertical-align: top;\n",
       "    }\n",
       "\n",
       "    .dataframe thead th {\n",
       "        text-align: right;\n",
       "    }\n",
       "</style>\n",
       "<table border=\"1\" class=\"dataframe\">\n",
       "  <thead>\n",
       "    <tr style=\"text-align: right;\">\n",
       "      <th></th>\n",
       "      <th>url</th>\n",
       "      <th>prefix_1</th>\n",
       "      <th>prefix_2</th>\n",
       "      <th>prefix_3</th>\n",
       "      <th>prefix_4</th>\n",
       "      <th>prefix_5</th>\n",
       "      <th>prefix_6</th>\n",
       "      <th>prefix_7</th>\n",
       "      <th>prefix_8</th>\n",
       "      <th>count</th>\n",
       "    </tr>\n",
       "  </thead>\n",
       "  <tbody>\n",
       "    <tr>\n",
       "      <th>0</th>\n",
       "      <td>http://upload.wikimedia.org/wikipedia/en/thumb...</td>\n",
       "      <td>1</td>\n",
       "      <td>1</td>\n",
       "      <td>1</td>\n",
       "      <td>1</td>\n",
       "      <td>1</td>\n",
       "      <td>1</td>\n",
       "      <td>1</td>\n",
       "      <td>1</td>\n",
       "      <td>1</td>\n",
       "    </tr>\n",
       "    <tr>\n",
       "      <th>1</th>\n",
       "      <td>http://en.wikipedia.org/images/wiki-en.png</td>\n",
       "      <td>2</td>\n",
       "      <td>2</td>\n",
       "      <td>2</td>\n",
       "      <td>0</td>\n",
       "      <td>0</td>\n",
       "      <td>0</td>\n",
       "      <td>0</td>\n",
       "      <td>0</td>\n",
       "      <td>10</td>\n",
       "    </tr>\n",
       "    <tr>\n",
       "      <th>2</th>\n",
       "      <td>http://upload.wikimedia.org/wikipedia/commons/...</td>\n",
       "      <td>1</td>\n",
       "      <td>1</td>\n",
       "      <td>3</td>\n",
       "      <td>1</td>\n",
       "      <td>2</td>\n",
       "      <td>2</td>\n",
       "      <td>2</td>\n",
       "      <td>2</td>\n",
       "      <td>1</td>\n",
       "    </tr>\n",
       "    <tr>\n",
       "      <th>3</th>\n",
       "      <td>http://es.wikipedia.org/w/index.php?title=-&amp;ac...</td>\n",
       "      <td>3</td>\n",
       "      <td>3</td>\n",
       "      <td>4</td>\n",
       "      <td>0</td>\n",
       "      <td>0</td>\n",
       "      <td>0</td>\n",
       "      <td>0</td>\n",
       "      <td>0</td>\n",
       "      <td>3</td>\n",
       "    </tr>\n",
       "    <tr>\n",
       "      <th>4</th>\n",
       "      <td>http://en.wikipedia.org/w/index.php?title=Medi...</td>\n",
       "      <td>2</td>\n",
       "      <td>3</td>\n",
       "      <td>5</td>\n",
       "      <td>2</td>\n",
       "      <td>0</td>\n",
       "      <td>0</td>\n",
       "      <td>0</td>\n",
       "      <td>0</td>\n",
       "      <td>12</td>\n",
       "    </tr>\n",
       "  </tbody>\n",
       "</table>\n",
       "</div>"
      ],
      "text/plain": [
       "                                                 url  prefix_1  prefix_2  \\\n",
       "0  http://upload.wikimedia.org/wikipedia/en/thumb...         1         1   \n",
       "1         http://en.wikipedia.org/images/wiki-en.png         2         2   \n",
       "2  http://upload.wikimedia.org/wikipedia/commons/...         1         1   \n",
       "3  http://es.wikipedia.org/w/index.php?title=-&ac...         3         3   \n",
       "4  http://en.wikipedia.org/w/index.php?title=Medi...         2         3   \n",
       "\n",
       "   prefix_3  prefix_4  prefix_5  prefix_6  prefix_7  prefix_8  count  \n",
       "0         1         1         1         1         1         1      1  \n",
       "1         2         0         0         0         0         0     10  \n",
       "2         3         1         2         2         2         2      1  \n",
       "3         4         0         0         0         0         0      3  \n",
       "4         5         2         0         0         0         0     12  "
      ]
     },
     "execution_count": 94,
     "metadata": {},
     "output_type": "execute_result"
    }
   ],
   "source": [
    "dataset.head()"
   ]
  },
  {
   "cell_type": "code",
   "execution_count": 95,
   "id": "a7527d9c",
   "metadata": {
    "colab": {
     "base_uri": "https://localhost:8080/"
    },
    "id": "a7527d9c",
    "outputId": "818fc51e-42cb-4914-8f5f-aabc5e619579"
   },
   "outputs": [
    {
     "data": {
      "text/plain": [
       "281"
      ]
     },
     "execution_count": 95,
     "metadata": {},
     "output_type": "execute_result"
    }
   ],
   "source": [
    "dataset.duplicated().sum()"
   ]
  },
  {
   "cell_type": "code",
   "execution_count": 96,
   "id": "36bc5c53",
   "metadata": {
    "colab": {
     "base_uri": "https://localhost:8080/"
    },
    "id": "36bc5c53",
    "outputId": "8de39816-b3e3-41d6-f807-5aa1223216be"
   },
   "outputs": [
    {
     "data": {
      "text/plain": [
       "1036"
      ]
     },
     "execution_count": 96,
     "metadata": {},
     "output_type": "execute_result"
    }
   ],
   "source": [
    "len(dataset)"
   ]
  },
  {
   "cell_type": "code",
   "execution_count": 97,
   "id": "2a5fd32d",
   "metadata": {
    "id": "2a5fd32d"
   },
   "outputs": [],
   "source": [
    "dataset.rename(columns={'count': 'popularity'}, inplace=True)"
   ]
  },
  {
   "cell_type": "code",
   "execution_count": 98,
   "id": "477784c6",
   "metadata": {
    "colab": {
     "base_uri": "https://localhost:8080/",
     "height": 424
    },
    "id": "477784c6",
    "outputId": "9ce96a80-b5c5-4d11-bea6-327306b4cb9d"
   },
   "outputs": [
    {
     "data": {
      "text/html": [
       "<div>\n",
       "<style scoped>\n",
       "    .dataframe tbody tr th:only-of-type {\n",
       "        vertical-align: middle;\n",
       "    }\n",
       "\n",
       "    .dataframe tbody tr th {\n",
       "        vertical-align: top;\n",
       "    }\n",
       "\n",
       "    .dataframe thead th {\n",
       "        text-align: right;\n",
       "    }\n",
       "</style>\n",
       "<table border=\"1\" class=\"dataframe\">\n",
       "  <thead>\n",
       "    <tr style=\"text-align: right;\">\n",
       "      <th></th>\n",
       "      <th>url</th>\n",
       "      <th>prefix_1</th>\n",
       "      <th>prefix_2</th>\n",
       "      <th>prefix_3</th>\n",
       "      <th>prefix_4</th>\n",
       "      <th>prefix_5</th>\n",
       "      <th>prefix_6</th>\n",
       "      <th>prefix_7</th>\n",
       "      <th>prefix_8</th>\n",
       "      <th>popularity</th>\n",
       "    </tr>\n",
       "  </thead>\n",
       "  <tbody>\n",
       "    <tr>\n",
       "      <th>0</th>\n",
       "      <td>http://upload.wikimedia.org/wikipedia/en/thumb...</td>\n",
       "      <td>1</td>\n",
       "      <td>1</td>\n",
       "      <td>1</td>\n",
       "      <td>1</td>\n",
       "      <td>1</td>\n",
       "      <td>1</td>\n",
       "      <td>1</td>\n",
       "      <td>1</td>\n",
       "      <td>1</td>\n",
       "    </tr>\n",
       "    <tr>\n",
       "      <th>1</th>\n",
       "      <td>http://en.wikipedia.org/images/wiki-en.png</td>\n",
       "      <td>2</td>\n",
       "      <td>2</td>\n",
       "      <td>2</td>\n",
       "      <td>0</td>\n",
       "      <td>0</td>\n",
       "      <td>0</td>\n",
       "      <td>0</td>\n",
       "      <td>0</td>\n",
       "      <td>10</td>\n",
       "    </tr>\n",
       "    <tr>\n",
       "      <th>2</th>\n",
       "      <td>http://upload.wikimedia.org/wikipedia/commons/...</td>\n",
       "      <td>1</td>\n",
       "      <td>1</td>\n",
       "      <td>3</td>\n",
       "      <td>1</td>\n",
       "      <td>2</td>\n",
       "      <td>2</td>\n",
       "      <td>2</td>\n",
       "      <td>2</td>\n",
       "      <td>1</td>\n",
       "    </tr>\n",
       "    <tr>\n",
       "      <th>3</th>\n",
       "      <td>http://es.wikipedia.org/w/index.php?title=-&amp;ac...</td>\n",
       "      <td>3</td>\n",
       "      <td>3</td>\n",
       "      <td>4</td>\n",
       "      <td>0</td>\n",
       "      <td>0</td>\n",
       "      <td>0</td>\n",
       "      <td>0</td>\n",
       "      <td>0</td>\n",
       "      <td>3</td>\n",
       "    </tr>\n",
       "    <tr>\n",
       "      <th>4</th>\n",
       "      <td>http://en.wikipedia.org/w/index.php?title=Medi...</td>\n",
       "      <td>2</td>\n",
       "      <td>3</td>\n",
       "      <td>5</td>\n",
       "      <td>2</td>\n",
       "      <td>0</td>\n",
       "      <td>0</td>\n",
       "      <td>0</td>\n",
       "      <td>0</td>\n",
       "      <td>12</td>\n",
       "    </tr>\n",
       "    <tr>\n",
       "      <th>...</th>\n",
       "      <td>...</td>\n",
       "      <td>...</td>\n",
       "      <td>...</td>\n",
       "      <td>...</td>\n",
       "      <td>...</td>\n",
       "      <td>...</td>\n",
       "      <td>...</td>\n",
       "      <td>...</td>\n",
       "      <td>...</td>\n",
       "      <td>...</td>\n",
       "    </tr>\n",
       "    <tr>\n",
       "      <th>1031</th>\n",
       "      <td>http://en.wikipedia.org/wiki/Florence_Nightingale</td>\n",
       "      <td>2</td>\n",
       "      <td>5</td>\n",
       "      <td>165</td>\n",
       "      <td>0</td>\n",
       "      <td>0</td>\n",
       "      <td>0</td>\n",
       "      <td>0</td>\n",
       "      <td>0</td>\n",
       "      <td>1</td>\n",
       "    </tr>\n",
       "    <tr>\n",
       "      <th>1032</th>\n",
       "      <td>http://upload.wikimedia.org/wikipedia/commons/...</td>\n",
       "      <td>1</td>\n",
       "      <td>1</td>\n",
       "      <td>3</td>\n",
       "      <td>1</td>\n",
       "      <td>16</td>\n",
       "      <td>38</td>\n",
       "      <td>334</td>\n",
       "      <td>357</td>\n",
       "      <td>1</td>\n",
       "    </tr>\n",
       "    <tr>\n",
       "      <th>1033</th>\n",
       "      <td>http://commons.wikimedia.org/w/index.php?title...</td>\n",
       "      <td>28</td>\n",
       "      <td>3</td>\n",
       "      <td>166</td>\n",
       "      <td>32</td>\n",
       "      <td>0</td>\n",
       "      <td>0</td>\n",
       "      <td>0</td>\n",
       "      <td>0</td>\n",
       "      <td>1</td>\n",
       "    </tr>\n",
       "    <tr>\n",
       "      <th>1034</th>\n",
       "      <td>http://en.wikipedia.org/wiki/List_of_The_4400_...</td>\n",
       "      <td>2</td>\n",
       "      <td>5</td>\n",
       "      <td>167</td>\n",
       "      <td>0</td>\n",
       "      <td>0</td>\n",
       "      <td>0</td>\n",
       "      <td>0</td>\n",
       "      <td>0</td>\n",
       "      <td>1</td>\n",
       "    </tr>\n",
       "    <tr>\n",
       "      <th>1035</th>\n",
       "      <td>http://meta.wikimedia.org/w/index.php?title=Me...</td>\n",
       "      <td>14</td>\n",
       "      <td>3</td>\n",
       "      <td>22</td>\n",
       "      <td>19</td>\n",
       "      <td>0</td>\n",
       "      <td>0</td>\n",
       "      <td>0</td>\n",
       "      <td>0</td>\n",
       "      <td>15</td>\n",
       "    </tr>\n",
       "  </tbody>\n",
       "</table>\n",
       "<p>1036 rows × 10 columns</p>\n",
       "</div>"
      ],
      "text/plain": [
       "                                                    url  prefix_1  prefix_2  \\\n",
       "0     http://upload.wikimedia.org/wikipedia/en/thumb...         1         1   \n",
       "1            http://en.wikipedia.org/images/wiki-en.png         2         2   \n",
       "2     http://upload.wikimedia.org/wikipedia/commons/...         1         1   \n",
       "3     http://es.wikipedia.org/w/index.php?title=-&ac...         3         3   \n",
       "4     http://en.wikipedia.org/w/index.php?title=Medi...         2         3   \n",
       "...                                                 ...       ...       ...   \n",
       "1031  http://en.wikipedia.org/wiki/Florence_Nightingale         2         5   \n",
       "1032  http://upload.wikimedia.org/wikipedia/commons/...         1         1   \n",
       "1033  http://commons.wikimedia.org/w/index.php?title...        28         3   \n",
       "1034  http://en.wikipedia.org/wiki/List_of_The_4400_...         2         5   \n",
       "1035  http://meta.wikimedia.org/w/index.php?title=Me...        14         3   \n",
       "\n",
       "      prefix_3  prefix_4  prefix_5  prefix_6  prefix_7  prefix_8  popularity  \n",
       "0            1         1         1         1         1         1           1  \n",
       "1            2         0         0         0         0         0          10  \n",
       "2            3         1         2         2         2         2           1  \n",
       "3            4         0         0         0         0         0           3  \n",
       "4            5         2         0         0         0         0          12  \n",
       "...        ...       ...       ...       ...       ...       ...         ...  \n",
       "1031       165         0         0         0         0         0           1  \n",
       "1032         3         1        16        38       334       357           1  \n",
       "1033       166        32         0         0         0         0           1  \n",
       "1034       167         0         0         0         0         0           1  \n",
       "1035        22        19         0         0         0         0          15  \n",
       "\n",
       "[1036 rows x 10 columns]"
      ]
     },
     "execution_count": 98,
     "metadata": {},
     "output_type": "execute_result"
    }
   ],
   "source": [
    "dataset"
   ]
  },
  {
   "cell_type": "code",
   "execution_count": 99,
   "id": "801d9bec",
   "metadata": {
    "colab": {
     "base_uri": "https://localhost:8080/"
    },
    "id": "801d9bec",
    "outputId": "91237ad2-b494-4a07-8d77-759070cfc2b1"
   },
   "outputs": [
    {
     "data": {
      "text/plain": [
       "19"
      ]
     },
     "execution_count": 99,
     "metadata": {},
     "output_type": "execute_result"
    }
   ],
   "source": [
    "dataset.popularity.max()"
   ]
  },
  {
   "cell_type": "code",
   "execution_count": 100,
   "id": "7cc4fdf2",
   "metadata": {
    "id": "7cc4fdf2"
   },
   "outputs": [],
   "source": [
    "dataset.drop_duplicates(inplace=True)"
   ]
  },
  {
   "cell_type": "code",
   "execution_count": 101,
   "id": "a2113a7f",
   "metadata": {
    "colab": {
     "base_uri": "https://localhost:8080/"
    },
    "id": "a2113a7f",
    "outputId": "f79f195d-0588-4618-9ca6-b0e89b171706"
   },
   "outputs": [
    {
     "data": {
      "text/plain": [
       "0"
      ]
     },
     "execution_count": 101,
     "metadata": {},
     "output_type": "execute_result"
    }
   ],
   "source": [
    "dataset.duplicated().sum()"
   ]
  },
  {
   "cell_type": "code",
   "execution_count": 102,
   "id": "f4bfec4b",
   "metadata": {
    "colab": {
     "base_uri": "https://localhost:8080/",
     "height": 677
    },
    "id": "f4bfec4b",
    "outputId": "6a2ecfac-368b-46e0-edd6-08ba5c58a160"
   },
   "outputs": [
    {
     "data": {
      "text/html": [
       "<div>\n",
       "<style scoped>\n",
       "    .dataframe tbody tr th:only-of-type {\n",
       "        vertical-align: middle;\n",
       "    }\n",
       "\n",
       "    .dataframe tbody tr th {\n",
       "        vertical-align: top;\n",
       "    }\n",
       "\n",
       "    .dataframe thead th {\n",
       "        text-align: right;\n",
       "    }\n",
       "</style>\n",
       "<table border=\"1\" class=\"dataframe\">\n",
       "  <thead>\n",
       "    <tr style=\"text-align: right;\">\n",
       "      <th></th>\n",
       "      <th>url</th>\n",
       "      <th>prefix_1</th>\n",
       "      <th>prefix_2</th>\n",
       "      <th>prefix_3</th>\n",
       "      <th>prefix_4</th>\n",
       "      <th>prefix_5</th>\n",
       "      <th>prefix_6</th>\n",
       "      <th>prefix_7</th>\n",
       "      <th>prefix_8</th>\n",
       "      <th>popularity</th>\n",
       "    </tr>\n",
       "  </thead>\n",
       "  <tbody>\n",
       "    <tr>\n",
       "      <th>86</th>\n",
       "      <td>http://upload.wikimedia.org/wikipedia/en/1/18/...</td>\n",
       "      <td>1</td>\n",
       "      <td>1</td>\n",
       "      <td>1</td>\n",
       "      <td>16</td>\n",
       "      <td>22</td>\n",
       "      <td>34</td>\n",
       "      <td>0</td>\n",
       "      <td>0</td>\n",
       "      <td>19</td>\n",
       "    </tr>\n",
       "    <tr>\n",
       "      <th>46</th>\n",
       "      <td>http://en.wikipedia.org/w/index.php?title=Medi...</td>\n",
       "      <td>2</td>\n",
       "      <td>3</td>\n",
       "      <td>13</td>\n",
       "      <td>2</td>\n",
       "      <td>0</td>\n",
       "      <td>0</td>\n",
       "      <td>0</td>\n",
       "      <td>0</td>\n",
       "      <td>17</td>\n",
       "    </tr>\n",
       "    <tr>\n",
       "      <th>35</th>\n",
       "      <td>http://en.wikipedia.org/skins-1.5/common/share...</td>\n",
       "      <td>2</td>\n",
       "      <td>4</td>\n",
       "      <td>7</td>\n",
       "      <td>11</td>\n",
       "      <td>0</td>\n",
       "      <td>0</td>\n",
       "      <td>0</td>\n",
       "      <td>0</td>\n",
       "      <td>15</td>\n",
       "    </tr>\n",
       "    <tr>\n",
       "      <th>78</th>\n",
       "      <td>http://meta.wikimedia.org/w/index.php?title=Me...</td>\n",
       "      <td>14</td>\n",
       "      <td>3</td>\n",
       "      <td>22</td>\n",
       "      <td>19</td>\n",
       "      <td>0</td>\n",
       "      <td>0</td>\n",
       "      <td>0</td>\n",
       "      <td>0</td>\n",
       "      <td>15</td>\n",
       "    </tr>\n",
       "    <tr>\n",
       "      <th>127</th>\n",
       "      <td>http://en.wikipedia.org/w/index.php?title=-&amp;ac...</td>\n",
       "      <td>2</td>\n",
       "      <td>3</td>\n",
       "      <td>4</td>\n",
       "      <td>0</td>\n",
       "      <td>0</td>\n",
       "      <td>0</td>\n",
       "      <td>0</td>\n",
       "      <td>0</td>\n",
       "      <td>14</td>\n",
       "    </tr>\n",
       "    <tr>\n",
       "      <th>4</th>\n",
       "      <td>http://en.wikipedia.org/w/index.php?title=Medi...</td>\n",
       "      <td>2</td>\n",
       "      <td>3</td>\n",
       "      <td>5</td>\n",
       "      <td>2</td>\n",
       "      <td>0</td>\n",
       "      <td>0</td>\n",
       "      <td>0</td>\n",
       "      <td>0</td>\n",
       "      <td>12</td>\n",
       "    </tr>\n",
       "    <tr>\n",
       "      <th>157</th>\n",
       "      <td>http://en.wikipedia.org/skins-1.5/common/commo...</td>\n",
       "      <td>2</td>\n",
       "      <td>4</td>\n",
       "      <td>7</td>\n",
       "      <td>5</td>\n",
       "      <td>0</td>\n",
       "      <td>0</td>\n",
       "      <td>0</td>\n",
       "      <td>0</td>\n",
       "      <td>10</td>\n",
       "    </tr>\n",
       "    <tr>\n",
       "      <th>1</th>\n",
       "      <td>http://en.wikipedia.org/images/wiki-en.png</td>\n",
       "      <td>2</td>\n",
       "      <td>2</td>\n",
       "      <td>2</td>\n",
       "      <td>0</td>\n",
       "      <td>0</td>\n",
       "      <td>0</td>\n",
       "      <td>0</td>\n",
       "      <td>0</td>\n",
       "      <td>10</td>\n",
       "    </tr>\n",
       "    <tr>\n",
       "      <th>101</th>\n",
       "      <td>http://en.wikipedia.org/w/index.php?title=-&amp;ac...</td>\n",
       "      <td>2</td>\n",
       "      <td>3</td>\n",
       "      <td>12</td>\n",
       "      <td>0</td>\n",
       "      <td>0</td>\n",
       "      <td>0</td>\n",
       "      <td>0</td>\n",
       "      <td>0</td>\n",
       "      <td>10</td>\n",
       "    </tr>\n",
       "    <tr>\n",
       "      <th>88</th>\n",
       "      <td>http://en.wikipedia.org/skins-1.5/monobook/use...</td>\n",
       "      <td>2</td>\n",
       "      <td>4</td>\n",
       "      <td>6</td>\n",
       "      <td>13</td>\n",
       "      <td>0</td>\n",
       "      <td>0</td>\n",
       "      <td>0</td>\n",
       "      <td>0</td>\n",
       "      <td>9</td>\n",
       "    </tr>\n",
       "    <tr>\n",
       "      <th>59</th>\n",
       "      <td>http://en.wikipedia.org/skins-1.5/monobook/mai...</td>\n",
       "      <td>2</td>\n",
       "      <td>4</td>\n",
       "      <td>6</td>\n",
       "      <td>9</td>\n",
       "      <td>0</td>\n",
       "      <td>0</td>\n",
       "      <td>0</td>\n",
       "      <td>0</td>\n",
       "      <td>7</td>\n",
       "    </tr>\n",
       "    <tr>\n",
       "      <th>87</th>\n",
       "      <td>http://en.wikipedia.org/skins-1.5/common/image...</td>\n",
       "      <td>2</td>\n",
       "      <td>4</td>\n",
       "      <td>7</td>\n",
       "      <td>4</td>\n",
       "      <td>5</td>\n",
       "      <td>0</td>\n",
       "      <td>0</td>\n",
       "      <td>0</td>\n",
       "      <td>7</td>\n",
       "    </tr>\n",
       "    <tr>\n",
       "      <th>575</th>\n",
       "      <td>http://en.wikipedia.org/favicon.ico</td>\n",
       "      <td>2</td>\n",
       "      <td>6</td>\n",
       "      <td>0</td>\n",
       "      <td>0</td>\n",
       "      <td>0</td>\n",
       "      <td>0</td>\n",
       "      <td>0</td>\n",
       "      <td>0</td>\n",
       "      <td>7</td>\n",
       "    </tr>\n",
       "    <tr>\n",
       "      <th>16</th>\n",
       "      <td>http://en.wikipedia.org/skins-1.5/monobook/hea...</td>\n",
       "      <td>2</td>\n",
       "      <td>4</td>\n",
       "      <td>6</td>\n",
       "      <td>8</td>\n",
       "      <td>0</td>\n",
       "      <td>0</td>\n",
       "      <td>0</td>\n",
       "      <td>0</td>\n",
       "      <td>6</td>\n",
       "    </tr>\n",
       "    <tr>\n",
       "      <th>41</th>\n",
       "      <td>http://en.wikipedia.org/skins-1.5/common/ajax....</td>\n",
       "      <td>2</td>\n",
       "      <td>4</td>\n",
       "      <td>7</td>\n",
       "      <td>10</td>\n",
       "      <td>0</td>\n",
       "      <td>0</td>\n",
       "      <td>0</td>\n",
       "      <td>0</td>\n",
       "      <td>6</td>\n",
       "    </tr>\n",
       "    <tr>\n",
       "      <th>105</th>\n",
       "      <td>http://upload.wikimedia.org/wikipedia/de/b/bc/...</td>\n",
       "      <td>1</td>\n",
       "      <td>1</td>\n",
       "      <td>27</td>\n",
       "      <td>21</td>\n",
       "      <td>26</td>\n",
       "      <td>44</td>\n",
       "      <td>0</td>\n",
       "      <td>0</td>\n",
       "      <td>6</td>\n",
       "    </tr>\n",
       "    <tr>\n",
       "      <th>44</th>\n",
       "      <td>http://en.wikipedia.org/w/opensearch_desc.php</td>\n",
       "      <td>2</td>\n",
       "      <td>3</td>\n",
       "      <td>15</td>\n",
       "      <td>0</td>\n",
       "      <td>0</td>\n",
       "      <td>0</td>\n",
       "      <td>0</td>\n",
       "      <td>0</td>\n",
       "      <td>6</td>\n",
       "    </tr>\n",
       "    <tr>\n",
       "      <th>196</th>\n",
       "      <td>http://en.wikipedia.org/images/wikimedia-butto...</td>\n",
       "      <td>2</td>\n",
       "      <td>2</td>\n",
       "      <td>39</td>\n",
       "      <td>0</td>\n",
       "      <td>0</td>\n",
       "      <td>0</td>\n",
       "      <td>0</td>\n",
       "      <td>0</td>\n",
       "      <td>5</td>\n",
       "    </tr>\n",
       "    <tr>\n",
       "      <th>275</th>\n",
       "      <td>http://es.wikipedia.org/w/index.php?title=Medi...</td>\n",
       "      <td>3</td>\n",
       "      <td>3</td>\n",
       "      <td>59</td>\n",
       "      <td>32</td>\n",
       "      <td>0</td>\n",
       "      <td>0</td>\n",
       "      <td>0</td>\n",
       "      <td>0</td>\n",
       "      <td>5</td>\n",
       "    </tr>\n",
       "    <tr>\n",
       "      <th>132</th>\n",
       "      <td>http://en.wikipedia.org/skins-1.5/common/wikib...</td>\n",
       "      <td>2</td>\n",
       "      <td>4</td>\n",
       "      <td>7</td>\n",
       "      <td>24</td>\n",
       "      <td>0</td>\n",
       "      <td>0</td>\n",
       "      <td>0</td>\n",
       "      <td>0</td>\n",
       "      <td>5</td>\n",
       "    </tr>\n",
       "  </tbody>\n",
       "</table>\n",
       "</div>"
      ],
      "text/plain": [
       "                                                   url  prefix_1  prefix_2  \\\n",
       "86   http://upload.wikimedia.org/wikipedia/en/1/18/...         1         1   \n",
       "46   http://en.wikipedia.org/w/index.php?title=Medi...         2         3   \n",
       "35   http://en.wikipedia.org/skins-1.5/common/share...         2         4   \n",
       "78   http://meta.wikimedia.org/w/index.php?title=Me...        14         3   \n",
       "127  http://en.wikipedia.org/w/index.php?title=-&ac...         2         3   \n",
       "4    http://en.wikipedia.org/w/index.php?title=Medi...         2         3   \n",
       "157  http://en.wikipedia.org/skins-1.5/common/commo...         2         4   \n",
       "1           http://en.wikipedia.org/images/wiki-en.png         2         2   \n",
       "101  http://en.wikipedia.org/w/index.php?title=-&ac...         2         3   \n",
       "88   http://en.wikipedia.org/skins-1.5/monobook/use...         2         4   \n",
       "59   http://en.wikipedia.org/skins-1.5/monobook/mai...         2         4   \n",
       "87   http://en.wikipedia.org/skins-1.5/common/image...         2         4   \n",
       "575                http://en.wikipedia.org/favicon.ico         2         6   \n",
       "16   http://en.wikipedia.org/skins-1.5/monobook/hea...         2         4   \n",
       "41   http://en.wikipedia.org/skins-1.5/common/ajax....         2         4   \n",
       "105  http://upload.wikimedia.org/wikipedia/de/b/bc/...         1         1   \n",
       "44       http://en.wikipedia.org/w/opensearch_desc.php         2         3   \n",
       "196  http://en.wikipedia.org/images/wikimedia-butto...         2         2   \n",
       "275  http://es.wikipedia.org/w/index.php?title=Medi...         3         3   \n",
       "132  http://en.wikipedia.org/skins-1.5/common/wikib...         2         4   \n",
       "\n",
       "     prefix_3  prefix_4  prefix_5  prefix_6  prefix_7  prefix_8  popularity  \n",
       "86          1        16        22        34         0         0          19  \n",
       "46         13         2         0         0         0         0          17  \n",
       "35          7        11         0         0         0         0          15  \n",
       "78         22        19         0         0         0         0          15  \n",
       "127         4         0         0         0         0         0          14  \n",
       "4           5         2         0         0         0         0          12  \n",
       "157         7         5         0         0         0         0          10  \n",
       "1           2         0         0         0         0         0          10  \n",
       "101        12         0         0         0         0         0          10  \n",
       "88          6        13         0         0         0         0           9  \n",
       "59          6         9         0         0         0         0           7  \n",
       "87          7         4         5         0         0         0           7  \n",
       "575         0         0         0         0         0         0           7  \n",
       "16          6         8         0         0         0         0           6  \n",
       "41          7        10         0         0         0         0           6  \n",
       "105        27        21        26        44         0         0           6  \n",
       "44         15         0         0         0         0         0           6  \n",
       "196        39         0         0         0         0         0           5  \n",
       "275        59        32         0         0         0         0           5  \n",
       "132         7        24         0         0         0         0           5  "
      ]
     },
     "execution_count": 102,
     "metadata": {},
     "output_type": "execute_result"
    }
   ],
   "source": [
    "dataset.sort_values(by='popularity', ascending=False)[:20]"
   ]
  },
  {
   "cell_type": "code",
   "execution_count": 103,
   "id": "cd2721ae",
   "metadata": {
    "colab": {
     "base_uri": "https://localhost:8080/",
     "height": 802
    },
    "id": "cd2721ae",
    "outputId": "3eba1a55-de80-4bb2-eb16-b4def077dde0"
   },
   "outputs": [
    {
     "data": {
      "text/html": [
       "<div>\n",
       "<style scoped>\n",
       "    .dataframe tbody tr th:only-of-type {\n",
       "        vertical-align: middle;\n",
       "    }\n",
       "\n",
       "    .dataframe tbody tr th {\n",
       "        vertical-align: top;\n",
       "    }\n",
       "\n",
       "    .dataframe thead th {\n",
       "        text-align: right;\n",
       "    }\n",
       "</style>\n",
       "<table border=\"1\" class=\"dataframe\">\n",
       "  <thead>\n",
       "    <tr style=\"text-align: right;\">\n",
       "      <th></th>\n",
       "      <th>url</th>\n",
       "      <th>prefix_1</th>\n",
       "      <th>prefix_2</th>\n",
       "      <th>prefix_3</th>\n",
       "      <th>prefix_4</th>\n",
       "      <th>prefix_5</th>\n",
       "      <th>prefix_6</th>\n",
       "      <th>prefix_7</th>\n",
       "      <th>prefix_8</th>\n",
       "      <th>popularity</th>\n",
       "    </tr>\n",
       "  </thead>\n",
       "  <tbody>\n",
       "    <tr>\n",
       "      <th>86</th>\n",
       "      <td>http://upload.wikimedia.org/wikipedia/en/1/18/...</td>\n",
       "      <td>1</td>\n",
       "      <td>1</td>\n",
       "      <td>1</td>\n",
       "      <td>16</td>\n",
       "      <td>22</td>\n",
       "      <td>34</td>\n",
       "      <td>0</td>\n",
       "      <td>0</td>\n",
       "      <td>19</td>\n",
       "    </tr>\n",
       "    <tr>\n",
       "      <th>46</th>\n",
       "      <td>http://en.wikipedia.org/w/index.php?title=Medi...</td>\n",
       "      <td>2</td>\n",
       "      <td>3</td>\n",
       "      <td>13</td>\n",
       "      <td>2</td>\n",
       "      <td>0</td>\n",
       "      <td>0</td>\n",
       "      <td>0</td>\n",
       "      <td>0</td>\n",
       "      <td>17</td>\n",
       "    </tr>\n",
       "    <tr>\n",
       "      <th>78</th>\n",
       "      <td>http://meta.wikimedia.org/w/index.php?title=Me...</td>\n",
       "      <td>14</td>\n",
       "      <td>3</td>\n",
       "      <td>22</td>\n",
       "      <td>19</td>\n",
       "      <td>0</td>\n",
       "      <td>0</td>\n",
       "      <td>0</td>\n",
       "      <td>0</td>\n",
       "      <td>15</td>\n",
       "    </tr>\n",
       "    <tr>\n",
       "      <th>35</th>\n",
       "      <td>http://en.wikipedia.org/skins-1.5/common/share...</td>\n",
       "      <td>2</td>\n",
       "      <td>4</td>\n",
       "      <td>7</td>\n",
       "      <td>11</td>\n",
       "      <td>0</td>\n",
       "      <td>0</td>\n",
       "      <td>0</td>\n",
       "      <td>0</td>\n",
       "      <td>15</td>\n",
       "    </tr>\n",
       "    <tr>\n",
       "      <th>127</th>\n",
       "      <td>http://en.wikipedia.org/w/index.php?title=-&amp;ac...</td>\n",
       "      <td>2</td>\n",
       "      <td>3</td>\n",
       "      <td>4</td>\n",
       "      <td>0</td>\n",
       "      <td>0</td>\n",
       "      <td>0</td>\n",
       "      <td>0</td>\n",
       "      <td>0</td>\n",
       "      <td>14</td>\n",
       "    </tr>\n",
       "    <tr>\n",
       "      <th>4</th>\n",
       "      <td>http://en.wikipedia.org/w/index.php?title=Medi...</td>\n",
       "      <td>2</td>\n",
       "      <td>3</td>\n",
       "      <td>5</td>\n",
       "      <td>2</td>\n",
       "      <td>0</td>\n",
       "      <td>0</td>\n",
       "      <td>0</td>\n",
       "      <td>0</td>\n",
       "      <td>12</td>\n",
       "    </tr>\n",
       "    <tr>\n",
       "      <th>1</th>\n",
       "      <td>http://en.wikipedia.org/images/wiki-en.png</td>\n",
       "      <td>2</td>\n",
       "      <td>2</td>\n",
       "      <td>2</td>\n",
       "      <td>0</td>\n",
       "      <td>0</td>\n",
       "      <td>0</td>\n",
       "      <td>0</td>\n",
       "      <td>0</td>\n",
       "      <td>10</td>\n",
       "    </tr>\n",
       "    <tr>\n",
       "      <th>157</th>\n",
       "      <td>http://en.wikipedia.org/skins-1.5/common/commo...</td>\n",
       "      <td>2</td>\n",
       "      <td>4</td>\n",
       "      <td>7</td>\n",
       "      <td>5</td>\n",
       "      <td>0</td>\n",
       "      <td>0</td>\n",
       "      <td>0</td>\n",
       "      <td>0</td>\n",
       "      <td>10</td>\n",
       "    </tr>\n",
       "    <tr>\n",
       "      <th>101</th>\n",
       "      <td>http://en.wikipedia.org/w/index.php?title=-&amp;ac...</td>\n",
       "      <td>2</td>\n",
       "      <td>3</td>\n",
       "      <td>12</td>\n",
       "      <td>0</td>\n",
       "      <td>0</td>\n",
       "      <td>0</td>\n",
       "      <td>0</td>\n",
       "      <td>0</td>\n",
       "      <td>10</td>\n",
       "    </tr>\n",
       "    <tr>\n",
       "      <th>88</th>\n",
       "      <td>http://en.wikipedia.org/skins-1.5/monobook/use...</td>\n",
       "      <td>2</td>\n",
       "      <td>4</td>\n",
       "      <td>6</td>\n",
       "      <td>13</td>\n",
       "      <td>0</td>\n",
       "      <td>0</td>\n",
       "      <td>0</td>\n",
       "      <td>0</td>\n",
       "      <td>9</td>\n",
       "    </tr>\n",
       "    <tr>\n",
       "      <th>87</th>\n",
       "      <td>http://en.wikipedia.org/skins-1.5/common/image...</td>\n",
       "      <td>2</td>\n",
       "      <td>4</td>\n",
       "      <td>7</td>\n",
       "      <td>4</td>\n",
       "      <td>5</td>\n",
       "      <td>0</td>\n",
       "      <td>0</td>\n",
       "      <td>0</td>\n",
       "      <td>7</td>\n",
       "    </tr>\n",
       "    <tr>\n",
       "      <th>59</th>\n",
       "      <td>http://en.wikipedia.org/skins-1.5/monobook/mai...</td>\n",
       "      <td>2</td>\n",
       "      <td>4</td>\n",
       "      <td>6</td>\n",
       "      <td>9</td>\n",
       "      <td>0</td>\n",
       "      <td>0</td>\n",
       "      <td>0</td>\n",
       "      <td>0</td>\n",
       "      <td>7</td>\n",
       "    </tr>\n",
       "    <tr>\n",
       "      <th>575</th>\n",
       "      <td>http://en.wikipedia.org/favicon.ico</td>\n",
       "      <td>2</td>\n",
       "      <td>6</td>\n",
       "      <td>0</td>\n",
       "      <td>0</td>\n",
       "      <td>0</td>\n",
       "      <td>0</td>\n",
       "      <td>0</td>\n",
       "      <td>0</td>\n",
       "      <td>7</td>\n",
       "    </tr>\n",
       "    <tr>\n",
       "      <th>44</th>\n",
       "      <td>http://en.wikipedia.org/w/opensearch_desc.php</td>\n",
       "      <td>2</td>\n",
       "      <td>3</td>\n",
       "      <td>15</td>\n",
       "      <td>0</td>\n",
       "      <td>0</td>\n",
       "      <td>0</td>\n",
       "      <td>0</td>\n",
       "      <td>0</td>\n",
       "      <td>6</td>\n",
       "    </tr>\n",
       "    <tr>\n",
       "      <th>41</th>\n",
       "      <td>http://en.wikipedia.org/skins-1.5/common/ajax....</td>\n",
       "      <td>2</td>\n",
       "      <td>4</td>\n",
       "      <td>7</td>\n",
       "      <td>10</td>\n",
       "      <td>0</td>\n",
       "      <td>0</td>\n",
       "      <td>0</td>\n",
       "      <td>0</td>\n",
       "      <td>6</td>\n",
       "    </tr>\n",
       "    <tr>\n",
       "      <th>16</th>\n",
       "      <td>http://en.wikipedia.org/skins-1.5/monobook/hea...</td>\n",
       "      <td>2</td>\n",
       "      <td>4</td>\n",
       "      <td>6</td>\n",
       "      <td>8</td>\n",
       "      <td>0</td>\n",
       "      <td>0</td>\n",
       "      <td>0</td>\n",
       "      <td>0</td>\n",
       "      <td>6</td>\n",
       "    </tr>\n",
       "    <tr>\n",
       "      <th>105</th>\n",
       "      <td>http://upload.wikimedia.org/wikipedia/de/b/bc/...</td>\n",
       "      <td>1</td>\n",
       "      <td>1</td>\n",
       "      <td>27</td>\n",
       "      <td>21</td>\n",
       "      <td>26</td>\n",
       "      <td>44</td>\n",
       "      <td>0</td>\n",
       "      <td>0</td>\n",
       "      <td>6</td>\n",
       "    </tr>\n",
       "    <tr>\n",
       "      <th>14</th>\n",
       "      <td>http://en.wikipedia.org/skins-1.5/common/image...</td>\n",
       "      <td>2</td>\n",
       "      <td>4</td>\n",
       "      <td>7</td>\n",
       "      <td>4</td>\n",
       "      <td>8</td>\n",
       "      <td>0</td>\n",
       "      <td>0</td>\n",
       "      <td>0</td>\n",
       "      <td>5</td>\n",
       "    </tr>\n",
       "    <tr>\n",
       "      <th>132</th>\n",
       "      <td>http://en.wikipedia.org/skins-1.5/common/wikib...</td>\n",
       "      <td>2</td>\n",
       "      <td>4</td>\n",
       "      <td>7</td>\n",
       "      <td>24</td>\n",
       "      <td>0</td>\n",
       "      <td>0</td>\n",
       "      <td>0</td>\n",
       "      <td>0</td>\n",
       "      <td>5</td>\n",
       "    </tr>\n",
       "    <tr>\n",
       "      <th>6</th>\n",
       "      <td>http://en.wikipedia.org/skins-1.5/monobook/IE6...</td>\n",
       "      <td>2</td>\n",
       "      <td>4</td>\n",
       "      <td>6</td>\n",
       "      <td>3</td>\n",
       "      <td>0</td>\n",
       "      <td>0</td>\n",
       "      <td>0</td>\n",
       "      <td>0</td>\n",
       "      <td>5</td>\n",
       "    </tr>\n",
       "    <tr>\n",
       "      <th>172</th>\n",
       "      <td>http://en.wikipedia.org/skins-1.5/monobook/ext...</td>\n",
       "      <td>2</td>\n",
       "      <td>4</td>\n",
       "      <td>6</td>\n",
       "      <td>12</td>\n",
       "      <td>0</td>\n",
       "      <td>0</td>\n",
       "      <td>0</td>\n",
       "      <td>0</td>\n",
       "      <td>5</td>\n",
       "    </tr>\n",
       "    <tr>\n",
       "      <th>196</th>\n",
       "      <td>http://en.wikipedia.org/images/wikimedia-butto...</td>\n",
       "      <td>2</td>\n",
       "      <td>2</td>\n",
       "      <td>39</td>\n",
       "      <td>0</td>\n",
       "      <td>0</td>\n",
       "      <td>0</td>\n",
       "      <td>0</td>\n",
       "      <td>0</td>\n",
       "      <td>5</td>\n",
       "    </tr>\n",
       "    <tr>\n",
       "      <th>268</th>\n",
       "      <td>http://es.wikipedia.org/w/index.php?title=Medi...</td>\n",
       "      <td>3</td>\n",
       "      <td>3</td>\n",
       "      <td>5</td>\n",
       "      <td>2</td>\n",
       "      <td>0</td>\n",
       "      <td>0</td>\n",
       "      <td>0</td>\n",
       "      <td>0</td>\n",
       "      <td>5</td>\n",
       "    </tr>\n",
       "    <tr>\n",
       "      <th>275</th>\n",
       "      <td>http://es.wikipedia.org/w/index.php?title=Medi...</td>\n",
       "      <td>3</td>\n",
       "      <td>3</td>\n",
       "      <td>59</td>\n",
       "      <td>32</td>\n",
       "      <td>0</td>\n",
       "      <td>0</td>\n",
       "      <td>0</td>\n",
       "      <td>0</td>\n",
       "      <td>5</td>\n",
       "    </tr>\n",
       "  </tbody>\n",
       "</table>\n",
       "</div>"
      ],
      "text/plain": [
       "                                                   url  prefix_1  prefix_2  \\\n",
       "86   http://upload.wikimedia.org/wikipedia/en/1/18/...         1         1   \n",
       "46   http://en.wikipedia.org/w/index.php?title=Medi...         2         3   \n",
       "78   http://meta.wikimedia.org/w/index.php?title=Me...        14         3   \n",
       "35   http://en.wikipedia.org/skins-1.5/common/share...         2         4   \n",
       "127  http://en.wikipedia.org/w/index.php?title=-&ac...         2         3   \n",
       "4    http://en.wikipedia.org/w/index.php?title=Medi...         2         3   \n",
       "1           http://en.wikipedia.org/images/wiki-en.png         2         2   \n",
       "157  http://en.wikipedia.org/skins-1.5/common/commo...         2         4   \n",
       "101  http://en.wikipedia.org/w/index.php?title=-&ac...         2         3   \n",
       "88   http://en.wikipedia.org/skins-1.5/monobook/use...         2         4   \n",
       "87   http://en.wikipedia.org/skins-1.5/common/image...         2         4   \n",
       "59   http://en.wikipedia.org/skins-1.5/monobook/mai...         2         4   \n",
       "575                http://en.wikipedia.org/favicon.ico         2         6   \n",
       "44       http://en.wikipedia.org/w/opensearch_desc.php         2         3   \n",
       "41   http://en.wikipedia.org/skins-1.5/common/ajax....         2         4   \n",
       "16   http://en.wikipedia.org/skins-1.5/monobook/hea...         2         4   \n",
       "105  http://upload.wikimedia.org/wikipedia/de/b/bc/...         1         1   \n",
       "14   http://en.wikipedia.org/skins-1.5/common/image...         2         4   \n",
       "132  http://en.wikipedia.org/skins-1.5/common/wikib...         2         4   \n",
       "6    http://en.wikipedia.org/skins-1.5/monobook/IE6...         2         4   \n",
       "172  http://en.wikipedia.org/skins-1.5/monobook/ext...         2         4   \n",
       "196  http://en.wikipedia.org/images/wikimedia-butto...         2         2   \n",
       "268  http://es.wikipedia.org/w/index.php?title=Medi...         3         3   \n",
       "275  http://es.wikipedia.org/w/index.php?title=Medi...         3         3   \n",
       "\n",
       "     prefix_3  prefix_4  prefix_5  prefix_6  prefix_7  prefix_8  popularity  \n",
       "86          1        16        22        34         0         0          19  \n",
       "46         13         2         0         0         0         0          17  \n",
       "78         22        19         0         0         0         0          15  \n",
       "35          7        11         0         0         0         0          15  \n",
       "127         4         0         0         0         0         0          14  \n",
       "4           5         2         0         0         0         0          12  \n",
       "1           2         0         0         0         0         0          10  \n",
       "157         7         5         0         0         0         0          10  \n",
       "101        12         0         0         0         0         0          10  \n",
       "88          6        13         0         0         0         0           9  \n",
       "87          7         4         5         0         0         0           7  \n",
       "59          6         9         0         0         0         0           7  \n",
       "575         0         0         0         0         0         0           7  \n",
       "44         15         0         0         0         0         0           6  \n",
       "41          7        10         0         0         0         0           6  \n",
       "16          6         8         0         0         0         0           6  \n",
       "105        27        21        26        44         0         0           6  \n",
       "14          7         4         8         0         0         0           5  \n",
       "132         7        24         0         0         0         0           5  \n",
       "6           6         3         0         0         0         0           5  \n",
       "172         6        12         0         0         0         0           5  \n",
       "196        39         0         0         0         0         0           5  \n",
       "268         5         2         0         0         0         0           5  \n",
       "275        59        32         0         0         0         0           5  "
      ]
     },
     "execution_count": 103,
     "metadata": {},
     "output_type": "execute_result"
    }
   ],
   "source": [
    "dataset[dataset['popularity'] >= 5].sort_values(by='popularity', ascending=False)"
   ]
  },
  {
   "cell_type": "code",
   "execution_count": 104,
   "id": "c47d8fed",
   "metadata": {
    "id": "c47d8fed"
   },
   "outputs": [],
   "source": [
    "dataset['popularity'] = dataset['popularity'].apply(lambda x: 1 if x >= 5 else 0)"
   ]
  },
  {
   "cell_type": "code",
   "execution_count": 105,
   "id": "1682543d",
   "metadata": {
    "colab": {
     "base_uri": "https://localhost:8080/",
     "height": 206
    },
    "id": "1682543d",
    "outputId": "52da5b28-5f31-491a-8180-56dc864c5388"
   },
   "outputs": [
    {
     "data": {
      "text/html": [
       "<div>\n",
       "<style scoped>\n",
       "    .dataframe tbody tr th:only-of-type {\n",
       "        vertical-align: middle;\n",
       "    }\n",
       "\n",
       "    .dataframe tbody tr th {\n",
       "        vertical-align: top;\n",
       "    }\n",
       "\n",
       "    .dataframe thead th {\n",
       "        text-align: right;\n",
       "    }\n",
       "</style>\n",
       "<table border=\"1\" class=\"dataframe\">\n",
       "  <thead>\n",
       "    <tr style=\"text-align: right;\">\n",
       "      <th></th>\n",
       "      <th>url</th>\n",
       "      <th>prefix_1</th>\n",
       "      <th>prefix_2</th>\n",
       "      <th>prefix_3</th>\n",
       "      <th>prefix_4</th>\n",
       "      <th>prefix_5</th>\n",
       "      <th>prefix_6</th>\n",
       "      <th>prefix_7</th>\n",
       "      <th>prefix_8</th>\n",
       "      <th>popularity</th>\n",
       "    </tr>\n",
       "  </thead>\n",
       "  <tbody>\n",
       "    <tr>\n",
       "      <th>0</th>\n",
       "      <td>http://upload.wikimedia.org/wikipedia/en/thumb...</td>\n",
       "      <td>1</td>\n",
       "      <td>1</td>\n",
       "      <td>1</td>\n",
       "      <td>1</td>\n",
       "      <td>1</td>\n",
       "      <td>1</td>\n",
       "      <td>1</td>\n",
       "      <td>1</td>\n",
       "      <td>0</td>\n",
       "    </tr>\n",
       "    <tr>\n",
       "      <th>1</th>\n",
       "      <td>http://en.wikipedia.org/images/wiki-en.png</td>\n",
       "      <td>2</td>\n",
       "      <td>2</td>\n",
       "      <td>2</td>\n",
       "      <td>0</td>\n",
       "      <td>0</td>\n",
       "      <td>0</td>\n",
       "      <td>0</td>\n",
       "      <td>0</td>\n",
       "      <td>1</td>\n",
       "    </tr>\n",
       "    <tr>\n",
       "      <th>2</th>\n",
       "      <td>http://upload.wikimedia.org/wikipedia/commons/...</td>\n",
       "      <td>1</td>\n",
       "      <td>1</td>\n",
       "      <td>3</td>\n",
       "      <td>1</td>\n",
       "      <td>2</td>\n",
       "      <td>2</td>\n",
       "      <td>2</td>\n",
       "      <td>2</td>\n",
       "      <td>0</td>\n",
       "    </tr>\n",
       "    <tr>\n",
       "      <th>3</th>\n",
       "      <td>http://es.wikipedia.org/w/index.php?title=-&amp;ac...</td>\n",
       "      <td>3</td>\n",
       "      <td>3</td>\n",
       "      <td>4</td>\n",
       "      <td>0</td>\n",
       "      <td>0</td>\n",
       "      <td>0</td>\n",
       "      <td>0</td>\n",
       "      <td>0</td>\n",
       "      <td>0</td>\n",
       "    </tr>\n",
       "    <tr>\n",
       "      <th>4</th>\n",
       "      <td>http://en.wikipedia.org/w/index.php?title=Medi...</td>\n",
       "      <td>2</td>\n",
       "      <td>3</td>\n",
       "      <td>5</td>\n",
       "      <td>2</td>\n",
       "      <td>0</td>\n",
       "      <td>0</td>\n",
       "      <td>0</td>\n",
       "      <td>0</td>\n",
       "      <td>1</td>\n",
       "    </tr>\n",
       "  </tbody>\n",
       "</table>\n",
       "</div>"
      ],
      "text/plain": [
       "                                                 url  prefix_1  prefix_2  \\\n",
       "0  http://upload.wikimedia.org/wikipedia/en/thumb...         1         1   \n",
       "1         http://en.wikipedia.org/images/wiki-en.png         2         2   \n",
       "2  http://upload.wikimedia.org/wikipedia/commons/...         1         1   \n",
       "3  http://es.wikipedia.org/w/index.php?title=-&ac...         3         3   \n",
       "4  http://en.wikipedia.org/w/index.php?title=Medi...         2         3   \n",
       "\n",
       "   prefix_3  prefix_4  prefix_5  prefix_6  prefix_7  prefix_8  popularity  \n",
       "0         1         1         1         1         1         1           0  \n",
       "1         2         0         0         0         0         0           1  \n",
       "2         3         1         2         2         2         2           0  \n",
       "3         4         0         0         0         0         0           0  \n",
       "4         5         2         0         0         0         0           1  "
      ]
     },
     "execution_count": 105,
     "metadata": {},
     "output_type": "execute_result"
    }
   ],
   "source": [
    "dataset.head()"
   ]
  },
  {
   "cell_type": "code",
   "execution_count": 106,
   "id": "736cb3a1",
   "metadata": {
    "colab": {
     "base_uri": "https://localhost:8080/",
     "height": 112
    },
    "id": "736cb3a1",
    "outputId": "92a65ac7-239f-49bc-b3cd-e5c7f91893db"
   },
   "outputs": [
    {
     "data": {
      "text/html": [
       "<div>\n",
       "<style scoped>\n",
       "    .dataframe tbody tr th:only-of-type {\n",
       "        vertical-align: middle;\n",
       "    }\n",
       "\n",
       "    .dataframe tbody tr th {\n",
       "        vertical-align: top;\n",
       "    }\n",
       "\n",
       "    .dataframe thead th {\n",
       "        text-align: right;\n",
       "    }\n",
       "</style>\n",
       "<table border=\"1\" class=\"dataframe\">\n",
       "  <thead>\n",
       "    <tr style=\"text-align: right;\">\n",
       "      <th></th>\n",
       "      <th>popularity</th>\n",
       "    </tr>\n",
       "  </thead>\n",
       "  <tbody>\n",
       "    <tr>\n",
       "      <th>0</th>\n",
       "      <td>731</td>\n",
       "    </tr>\n",
       "    <tr>\n",
       "      <th>1</th>\n",
       "      <td>24</td>\n",
       "    </tr>\n",
       "  </tbody>\n",
       "</table>\n",
       "</div>"
      ],
      "text/plain": [
       "   popularity\n",
       "0         731\n",
       "1          24"
      ]
     },
     "execution_count": 106,
     "metadata": {},
     "output_type": "execute_result"
    }
   ],
   "source": [
    "dataset.popularity.value_counts().to_frame()"
   ]
  },
  {
   "cell_type": "code",
   "execution_count": 107,
   "id": "778ad60b",
   "metadata": {
    "id": "778ad60b"
   },
   "outputs": [],
   "source": [
    "# dataset.to_csv('./dataset/prefix_wikipedia.csv', index=False)"
   ]
  },
  {
   "cell_type": "code",
   "execution_count": 108,
   "id": "7e68e5b0",
   "metadata": {
    "colab": {
     "base_uri": "https://localhost:8080/",
     "height": 449
    },
    "id": "7e68e5b0",
    "outputId": "73abae4a-14ae-4eb4-8de6-39c7d7d05c79"
   },
   "outputs": [
    {
     "data": {
      "image/png": "[encoded data removed]",
      "text/plain": [
       "<Figure size 640x480 with 1 Axes>"
      ]
     },
     "metadata": {},
     "output_type": "display_data"
    }
   ],
   "source": [
    "sns.countplot(x=dataset['popularity']);"
   ]
  },
  {
   "cell_type": "code",
   "execution_count": 109,
   "id": "a4036c95",
   "metadata": {
    "id": "a4036c95"
   },
   "outputs": [],
   "source": [
    "dataset = dataset.drop(columns='url', axis=1)"
   ]
  },
  {
   "cell_type": "code",
   "execution_count": 110,
   "id": "6b6edd4a",
   "metadata": {
    "colab": {
     "base_uri": "https://localhost:8080/",
     "height": 424
    },
    "id": "6b6edd4a",
    "outputId": "fb58c303-1c5e-4903-e2fa-519dfce9ca0b"
   },
   "outputs": [
    {
     "data": {
      "text/html": [
       "<div>\n",
       "<style scoped>\n",
       "    .dataframe tbody tr th:only-of-type {\n",
       "        vertical-align: middle;\n",
       "    }\n",
       "\n",
       "    .dataframe tbody tr th {\n",
       "        vertical-align: top;\n",
       "    }\n",
       "\n",
       "    .dataframe thead th {\n",
       "        text-align: right;\n",
       "    }\n",
       "</style>\n",
       "<table border=\"1\" class=\"dataframe\">\n",
       "  <thead>\n",
       "    <tr style=\"text-align: right;\">\n",
       "      <th></th>\n",
       "      <th>prefix_1</th>\n",
       "      <th>prefix_2</th>\n",
       "      <th>prefix_3</th>\n",
       "      <th>prefix_4</th>\n",
       "      <th>prefix_5</th>\n",
       "      <th>prefix_6</th>\n",
       "      <th>prefix_7</th>\n",
       "      <th>prefix_8</th>\n",
       "      <th>popularity</th>\n",
       "    </tr>\n",
       "  </thead>\n",
       "  <tbody>\n",
       "    <tr>\n",
       "      <th>0</th>\n",
       "      <td>1</td>\n",
       "      <td>1</td>\n",
       "      <td>1</td>\n",
       "      <td>1</td>\n",
       "      <td>1</td>\n",
       "      <td>1</td>\n",
       "      <td>1</td>\n",
       "      <td>1</td>\n",
       "      <td>0</td>\n",
       "    </tr>\n",
       "    <tr>\n",
       "      <th>1</th>\n",
       "      <td>2</td>\n",
       "      <td>2</td>\n",
       "      <td>2</td>\n",
       "      <td>0</td>\n",
       "      <td>0</td>\n",
       "      <td>0</td>\n",
       "      <td>0</td>\n",
       "      <td>0</td>\n",
       "      <td>1</td>\n",
       "    </tr>\n",
       "    <tr>\n",
       "      <th>2</th>\n",
       "      <td>1</td>\n",
       "      <td>1</td>\n",
       "      <td>3</td>\n",
       "      <td>1</td>\n",
       "      <td>2</td>\n",
       "      <td>2</td>\n",
       "      <td>2</td>\n",
       "      <td>2</td>\n",
       "      <td>0</td>\n",
       "    </tr>\n",
       "    <tr>\n",
       "      <th>3</th>\n",
       "      <td>3</td>\n",
       "      <td>3</td>\n",
       "      <td>4</td>\n",
       "      <td>0</td>\n",
       "      <td>0</td>\n",
       "      <td>0</td>\n",
       "      <td>0</td>\n",
       "      <td>0</td>\n",
       "      <td>0</td>\n",
       "    </tr>\n",
       "    <tr>\n",
       "      <th>4</th>\n",
       "      <td>2</td>\n",
       "      <td>3</td>\n",
       "      <td>5</td>\n",
       "      <td>2</td>\n",
       "      <td>0</td>\n",
       "      <td>0</td>\n",
       "      <td>0</td>\n",
       "      <td>0</td>\n",
       "      <td>1</td>\n",
       "    </tr>\n",
       "    <tr>\n",
       "      <th>...</th>\n",
       "      <td>...</td>\n",
       "      <td>...</td>\n",
       "      <td>...</td>\n",
       "      <td>...</td>\n",
       "      <td>...</td>\n",
       "      <td>...</td>\n",
       "      <td>...</td>\n",
       "      <td>...</td>\n",
       "      <td>...</td>\n",
       "    </tr>\n",
       "    <tr>\n",
       "      <th>1030</th>\n",
       "      <td>1</td>\n",
       "      <td>1</td>\n",
       "      <td>3</td>\n",
       "      <td>1</td>\n",
       "      <td>13</td>\n",
       "      <td>86</td>\n",
       "      <td>333</td>\n",
       "      <td>356</td>\n",
       "      <td>0</td>\n",
       "    </tr>\n",
       "    <tr>\n",
       "      <th>1031</th>\n",
       "      <td>2</td>\n",
       "      <td>5</td>\n",
       "      <td>165</td>\n",
       "      <td>0</td>\n",
       "      <td>0</td>\n",
       "      <td>0</td>\n",
       "      <td>0</td>\n",
       "      <td>0</td>\n",
       "      <td>0</td>\n",
       "    </tr>\n",
       "    <tr>\n",
       "      <th>1032</th>\n",
       "      <td>1</td>\n",
       "      <td>1</td>\n",
       "      <td>3</td>\n",
       "      <td>1</td>\n",
       "      <td>16</td>\n",
       "      <td>38</td>\n",
       "      <td>334</td>\n",
       "      <td>357</td>\n",
       "      <td>0</td>\n",
       "    </tr>\n",
       "    <tr>\n",
       "      <th>1033</th>\n",
       "      <td>28</td>\n",
       "      <td>3</td>\n",
       "      <td>166</td>\n",
       "      <td>32</td>\n",
       "      <td>0</td>\n",
       "      <td>0</td>\n",
       "      <td>0</td>\n",
       "      <td>0</td>\n",
       "      <td>0</td>\n",
       "    </tr>\n",
       "    <tr>\n",
       "      <th>1034</th>\n",
       "      <td>2</td>\n",
       "      <td>5</td>\n",
       "      <td>167</td>\n",
       "      <td>0</td>\n",
       "      <td>0</td>\n",
       "      <td>0</td>\n",
       "      <td>0</td>\n",
       "      <td>0</td>\n",
       "      <td>0</td>\n",
       "    </tr>\n",
       "  </tbody>\n",
       "</table>\n",
       "<p>755 rows × 9 columns</p>\n",
       "</div>"
      ],
      "text/plain": [
       "      prefix_1  prefix_2  prefix_3  prefix_4  prefix_5  prefix_6  prefix_7  \\\n",
       "0            1         1         1         1         1         1         1   \n",
       "1            2         2         2         0         0         0         0   \n",
       "2            1         1         3         1         2         2         2   \n",
       "3            3         3         4         0         0         0         0   \n",
       "4            2         3         5         2         0         0         0   \n",
       "...        ...       ...       ...       ...       ...       ...       ...   \n",
       "1030         1         1         3         1        13        86       333   \n",
       "1031         2         5       165         0         0         0         0   \n",
       "1032         1         1         3         1        16        38       334   \n",
       "1033        28         3       166        32         0         0         0   \n",
       "1034         2         5       167         0         0         0         0   \n",
       "\n",
       "      prefix_8  popularity  \n",
       "0            1           0  \n",
       "1            0           1  \n",
       "2            2           0  \n",
       "3            0           0  \n",
       "4            0           1  \n",
       "...        ...         ...  \n",
       "1030       356           0  \n",
       "1031         0           0  \n",
       "1032       357           0  \n",
       "1033         0           0  \n",
       "1034         0           0  \n",
       "\n",
       "[755 rows x 9 columns]"
      ]
     },
     "execution_count": 110,
     "metadata": {},
     "output_type": "execute_result"
    }
   ],
   "source": [
    "dataset"
   ]
  },
  {
   "cell_type": "code",
   "execution_count": 111,
   "id": "b13ab93e",
   "metadata": {
    "id": "b13ab93e"
   },
   "outputs": [],
   "source": [
    "X = dataset.drop('popularity', axis=1)\n",
    "y = dataset['popularity']"
   ]
  },
  {
   "cell_type": "code",
   "execution_count": 112,
   "id": "98e332e5",
   "metadata": {
    "colab": {
     "base_uri": "https://localhost:8080/",
     "height": 424
    },
    "id": "98e332e5",
    "outputId": "46b8ea3e-51d4-4ad2-9638-cf43bdcee70a"
   },
   "outputs": [
    {
     "data": {
      "text/html": [
       "<div>\n",
       "<style scoped>\n",
       "    .dataframe tbody tr th:only-of-type {\n",
       "        vertical-align: middle;\n",
       "    }\n",
       "\n",
       "    .dataframe tbody tr th {\n",
       "        vertical-align: top;\n",
       "    }\n",
       "\n",
       "    .dataframe thead th {\n",
       "        text-align: right;\n",
       "    }\n",
       "</style>\n",
       "<table border=\"1\" class=\"dataframe\">\n",
       "  <thead>\n",
       "    <tr style=\"text-align: right;\">\n",
       "      <th></th>\n",
       "      <th>prefix_1</th>\n",
       "      <th>prefix_2</th>\n",
       "      <th>prefix_3</th>\n",
       "      <th>prefix_4</th>\n",
       "      <th>prefix_5</th>\n",
       "      <th>prefix_6</th>\n",
       "      <th>prefix_7</th>\n",
       "      <th>prefix_8</th>\n",
       "    </tr>\n",
       "  </thead>\n",
       "  <tbody>\n",
       "    <tr>\n",
       "      <th>0</th>\n",
       "      <td>1</td>\n",
       "      <td>1</td>\n",
       "      <td>1</td>\n",
       "      <td>1</td>\n",
       "      <td>1</td>\n",
       "      <td>1</td>\n",
       "      <td>1</td>\n",
       "      <td>1</td>\n",
       "    </tr>\n",
       "    <tr>\n",
       "      <th>1</th>\n",
       "      <td>2</td>\n",
       "      <td>2</td>\n",
       "      <td>2</td>\n",
       "      <td>0</td>\n",
       "      <td>0</td>\n",
       "      <td>0</td>\n",
       "      <td>0</td>\n",
       "      <td>0</td>\n",
       "    </tr>\n",
       "    <tr>\n",
       "      <th>2</th>\n",
       "      <td>1</td>\n",
       "      <td>1</td>\n",
       "      <td>3</td>\n",
       "      <td>1</td>\n",
       "      <td>2</td>\n",
       "      <td>2</td>\n",
       "      <td>2</td>\n",
       "      <td>2</td>\n",
       "    </tr>\n",
       "    <tr>\n",
       "      <th>3</th>\n",
       "      <td>3</td>\n",
       "      <td>3</td>\n",
       "      <td>4</td>\n",
       "      <td>0</td>\n",
       "      <td>0</td>\n",
       "      <td>0</td>\n",
       "      <td>0</td>\n",
       "      <td>0</td>\n",
       "    </tr>\n",
       "    <tr>\n",
       "      <th>4</th>\n",
       "      <td>2</td>\n",
       "      <td>3</td>\n",
       "      <td>5</td>\n",
       "      <td>2</td>\n",
       "      <td>0</td>\n",
       "      <td>0</td>\n",
       "      <td>0</td>\n",
       "      <td>0</td>\n",
       "    </tr>\n",
       "    <tr>\n",
       "      <th>...</th>\n",
       "      <td>...</td>\n",
       "      <td>...</td>\n",
       "      <td>...</td>\n",
       "      <td>...</td>\n",
       "      <td>...</td>\n",
       "      <td>...</td>\n",
       "      <td>...</td>\n",
       "      <td>...</td>\n",
       "    </tr>\n",
       "    <tr>\n",
       "      <th>1030</th>\n",
       "      <td>1</td>\n",
       "      <td>1</td>\n",
       "      <td>3</td>\n",
       "      <td>1</td>\n",
       "      <td>13</td>\n",
       "      <td>86</td>\n",
       "      <td>333</td>\n",
       "      <td>356</td>\n",
       "    </tr>\n",
       "    <tr>\n",
       "      <th>1031</th>\n",
       "      <td>2</td>\n",
       "      <td>5</td>\n",
       "      <td>165</td>\n",
       "      <td>0</td>\n",
       "      <td>0</td>\n",
       "      <td>0</td>\n",
       "      <td>0</td>\n",
       "      <td>0</td>\n",
       "    </tr>\n",
       "    <tr>\n",
       "      <th>1032</th>\n",
       "      <td>1</td>\n",
       "      <td>1</td>\n",
       "      <td>3</td>\n",
       "      <td>1</td>\n",
       "      <td>16</td>\n",
       "      <td>38</td>\n",
       "      <td>334</td>\n",
       "      <td>357</td>\n",
       "    </tr>\n",
       "    <tr>\n",
       "      <th>1033</th>\n",
       "      <td>28</td>\n",
       "      <td>3</td>\n",
       "      <td>166</td>\n",
       "      <td>32</td>\n",
       "      <td>0</td>\n",
       "      <td>0</td>\n",
       "      <td>0</td>\n",
       "      <td>0</td>\n",
       "    </tr>\n",
       "    <tr>\n",
       "      <th>1034</th>\n",
       "      <td>2</td>\n",
       "      <td>5</td>\n",
       "      <td>167</td>\n",
       "      <td>0</td>\n",
       "      <td>0</td>\n",
       "      <td>0</td>\n",
       "      <td>0</td>\n",
       "      <td>0</td>\n",
       "    </tr>\n",
       "  </tbody>\n",
       "</table>\n",
       "<p>755 rows × 8 columns</p>\n",
       "</div>"
      ],
      "text/plain": [
       "      prefix_1  prefix_2  prefix_3  prefix_4  prefix_5  prefix_6  prefix_7  \\\n",
       "0            1         1         1         1         1         1         1   \n",
       "1            2         2         2         0         0         0         0   \n",
       "2            1         1         3         1         2         2         2   \n",
       "3            3         3         4         0         0         0         0   \n",
       "4            2         3         5         2         0         0         0   \n",
       "...        ...       ...       ...       ...       ...       ...       ...   \n",
       "1030         1         1         3         1        13        86       333   \n",
       "1031         2         5       165         0         0         0         0   \n",
       "1032         1         1         3         1        16        38       334   \n",
       "1033        28         3       166        32         0         0         0   \n",
       "1034         2         5       167         0         0         0         0   \n",
       "\n",
       "      prefix_8  \n",
       "0            1  \n",
       "1            0  \n",
       "2            2  \n",
       "3            0  \n",
       "4            0  \n",
       "...        ...  \n",
       "1030       356  \n",
       "1031         0  \n",
       "1032       357  \n",
       "1033         0  \n",
       "1034         0  \n",
       "\n",
       "[755 rows x 8 columns]"
      ]
     },
     "execution_count": 112,
     "metadata": {},
     "output_type": "execute_result"
    }
   ],
   "source": [
    "X"
   ]
  },
  {
   "cell_type": "code",
   "execution_count": 113,
   "id": "fc2916ce",
   "metadata": {
    "colab": {
     "base_uri": "https://localhost:8080/"
    },
    "id": "fc2916ce",
    "outputId": "a58e0ec9-928a-4e99-bb2e-dbd49dcb0f19"
   },
   "outputs": [
    {
     "data": {
      "text/plain": [
       "0       0\n",
       "1       1\n",
       "2       0\n",
       "3       0\n",
       "4       1\n",
       "       ..\n",
       "1030    0\n",
       "1031    0\n",
       "1032    0\n",
       "1033    0\n",
       "1034    0\n",
       "Name: popularity, Length: 755, dtype: int64"
      ]
     },
     "execution_count": 113,
     "metadata": {},
     "output_type": "execute_result"
    }
   ],
   "source": [
    "y"
   ]
  },
  {
   "cell_type": "code",
   "execution_count": 115,
   "id": "ba2dfa2f",
   "metadata": {},
   "outputs": [
    {
     "name": "stdout",
     "output_type": "stream",
     "text": [
      "Collecting sklearn\n",
      "  Downloading sklearn-0.0.post5.tar.gz (3.7 kB)\n",
      "  Preparing metadata (setup.py) ... \u001b[?25ldone\n",
      "\u001b[?25hBuilding wheels for collected packages: sklearn\n",
      "  Building wheel for sklearn (setup.py) ... \u001b[?25ldone\n",
      "\u001b[?25h  Created wheel for sklearn: filename=sklearn-0.0.post5-py3-none-any.whl size=2951 sha256=426c5f215f44b0fb63a8adada1954035a39befe64d31bed50c624418dc79e1f2\n",
      "  Stored in directory: /home/lutfianto/.cache/pip/wheels/44/08/18/d0b86f591e929e063b3134b126c8a77b3758e527fe1a3f6fb8\n",
      "Successfully built sklearn\n",
      "Installing collected packages: sklearn\n",
      "Successfully installed sklearn-0.0.post5\n"
     ]
    }
   ],
   "source": [
    "!pip install sklearn"
   ]
  },
  {
   "cell_type": "code",
   "execution_count": 114,
   "id": "026281bd",
   "metadata": {
    "id": "026281bd"
   },
   "outputs": [
    {
     "ename": "ModuleNotFoundError",
     "evalue": "No module named 'sklearn'",
     "output_type": "error",
     "traceback": [
      "\u001b[0;31m---------------------------------------------------------------------------\u001b[0m",
      "\u001b[0;31mModuleNotFoundError\u001b[0m                       Traceback (most recent call last)",
      "Cell \u001b[0;32mIn[114], line 1\u001b[0m\n\u001b[0;32m----> 1\u001b[0m \u001b[38;5;28;01mfrom\u001b[39;00m \u001b[38;5;21;01msklearn\u001b[39;00m\u001b[38;5;21;01m.\u001b[39;00m\u001b[38;5;21;01mmodel_selection\u001b[39;00m \u001b[38;5;28;01mimport\u001b[39;00m train_test_split\n",
      "\u001b[0;31mModuleNotFoundError\u001b[0m: No module named 'sklearn'"
     ]
    }
   ],
   "source": [
    "from sklearn.model_selection import train_test_split"
   ]
  },
  {
   "cell_type": "code",
   "execution_count": null,
   "id": "338d8eb4",
   "metadata": {
    "id": "338d8eb4"
   },
   "outputs": [],
   "source": [
    "X_train, X_test, y_train, y_test = train_test_split(X, y, random_state=42, test_size=0.2)"
   ]
  },
  {
   "cell_type": "code",
   "execution_count": null,
   "id": "7d37b4a3",
   "metadata": {
    "colab": {
     "base_uri": "https://localhost:8080/"
    },
    "id": "7d37b4a3",
    "outputId": "e6195f52-09ec-4549-a25e-aeb01e75173d"
   },
   "outputs": [],
   "source": [
    "from collections import Counter\n",
    "print(f'Before Oversampling: {Counter(y_train)} ')"
   ]
  },
  {
   "cell_type": "code",
   "execution_count": null,
   "id": "5395a2e2",
   "metadata": {
    "id": "5395a2e2"
   },
   "outputs": [],
   "source": [
    "# !pip3 install imbalanced-learn --upgrade"
   ]
  },
  {
   "cell_type": "code",
   "execution_count": null,
   "id": "d1a9d2f0",
   "metadata": {
    "id": "d1a9d2f0"
   },
   "outputs": [],
   "source": [
    "from imblearn.over_sampling import SMOTE\n"
   ]
  },
  {
   "cell_type": "code",
   "execution_count": null,
   "id": "a4b79b86",
   "metadata": {
    "id": "a4b79b86"
   },
   "outputs": [],
   "source": [
    "smote = SMOTE()\n",
    "\n",
    "X_train_smote, y_train_smote = smote.fit_resample(X_train, y_train)"
   ]
  },
  {
   "cell_type": "code",
   "execution_count": null,
   "id": "9d743c66",
   "metadata": {
    "colab": {
     "base_uri": "https://localhost:8080/"
    },
    "id": "9d743c66",
    "outputId": "37b4511b-0e46-44eb-c430-688d21108351"
   },
   "outputs": [],
   "source": [
    "print(f'After Oversampling: {Counter(y_train_smote)}')"
   ]
  },
  {
   "cell_type": "code",
   "execution_count": null,
   "id": "a8035b81",
   "metadata": {
    "colab": {
     "base_uri": "https://localhost:8080/",
     "height": 75
    },
    "id": "a8035b81",
    "outputId": "c948c149-0286-479a-d5d8-199b7f1d0496"
   },
   "outputs": [],
   "source": [
    "from sklearn.linear_model import LogisticRegression\n",
    "from sklearn.neighbors import KNeighborsClassifier\n",
    "from sklearn.svm import SVC\n",
    "from sklearn.tree import DecisionTreeClassifier\n",
    "from sklearn.ensemble import RandomForestClassifier\n",
    "from sklearn.ensemble import GradientBoostingClassifier\n",
    "\n",
    "lr = LogisticRegression()\n",
    "lr.fit(X_train_smote, y_train_smote)\n",
    "\n",
    "knn = KNeighborsClassifier()\n",
    "knn.fit(X_train_smote, y_train_smote)\n",
    "\n",
    "svc = SVC()\n",
    "svc.fit(X_train_smote, y_train_smote)\n",
    "\n",
    "dtc = DecisionTreeClassifier()\n",
    "dtc.fit(X_train_smote, y_train_smote)\n",
    "\n",
    "rfc = RandomForestClassifier()\n",
    "rfc.fit(X_train_smote, y_train_smote)\n",
    "\n",
    "gbc = GradientBoostingClassifier()\n",
    "gbc.fit(X_train_smote, y_train_smote)"
   ]
  },
  {
   "cell_type": "code",
   "execution_count": null,
   "id": "7fc1a101",
   "metadata": {
    "id": "7fc1a101"
   },
   "outputs": [],
   "source": [
    "y_pred1 = lr.predict(X_test)\n",
    "y_pred2 = knn.predict(X_test)\n",
    "y_pred3 = svc.predict(X_test)\n",
    "y_pred4 = dtc.predict(X_test)\n",
    "y_pred5 = rfc.predict(X_test)\n",
    "y_pred6 = gbc.predict(X_test)"
   ]
  },
  {
   "cell_type": "code",
   "execution_count": null,
   "id": "f0006e72",
   "metadata": {
    "colab": {
     "base_uri": "https://localhost:8080/"
    },
    "id": "f0006e72",
    "outputId": "6a20cca1-a6c5-4c36-e26a-7db60853e998"
   },
   "outputs": [],
   "source": [
    "from sklearn.metrics import roc_auc_score, classification_report, accuracy_score\n",
    "\n",
    "print(f'ROC AUC for Logistic Regression {roc_auc_score(y_test, y_pred1)}')\n",
    "print(f'ROC AUC for KNeighbors Classifier {roc_auc_score(y_test, y_pred2)}')\n",
    "print(f'ROC AUC for SVC {roc_auc_score(y_test, y_pred3)}')\n",
    "print(f'ROC AUC for Decision Tree Classifier {roc_auc_score(y_test, y_pred4)}')\n",
    "print(f'ROC AUC for Random Forest Classifier {roc_auc_score(y_test, y_pred5)}')\n",
    "print(f'ROC AUC for Gradient Boosting Classifier {roc_auc_score(y_test, y_pred6)}')"
   ]
  },
  {
   "cell_type": "code",
   "execution_count": null,
   "id": "97f615ba",
   "metadata": {
    "colab": {
     "base_uri": "https://localhost:8080/"
    },
    "id": "97f615ba",
    "outputId": "17b870a2-0009-47fe-fb50-767cd7c9a089"
   },
   "outputs": [],
   "source": [
    "print(f'ACC for Logistic Regression {accuracy_score(y_test, y_pred1)}')\n",
    "print(f'ACC for KNeighbors Classifier {accuracy_score(y_test, y_pred2)}')\n",
    "print(f'ACC for SVC {accuracy_score(y_test, y_pred3)}')\n",
    "print(f'ACC for Decision Tree Classifier {accuracy_score(y_test, y_pred4)}')\n",
    "print(f'ACC for Random Forest Classifier {accuracy_score(y_test, y_pred5)}')\n",
    "print(f'ACC for Gradient Boosting Classifier {accuracy_score(y_test, y_pred6)}')"
   ]
  },
  {
   "cell_type": "code",
   "execution_count": null,
   "id": "7b50f0ca",
   "metadata": {
    "colab": {
     "base_uri": "https://localhost:8080/"
    },
    "id": "7b50f0ca",
    "outputId": "990f1303-82e2-46ed-deda-958e0655c48f"
   },
   "outputs": [],
   "source": [
    "ex1 = lr.predict([[2, 5, 336, 0, 0, 0, 0, 0]])"
   ]
  },
  {
   "cell_type": "code",
   "execution_count": null,
   "id": "05a6b74d",
   "metadata": {
    "colab": {
     "base_uri": "https://localhost:8080/"
    },
    "id": "05a6b74d",
    "outputId": "eb7fe432-8e66-44ee-b418-1f43ff5b6685"
   },
   "outputs": [],
   "source": [
    "if ex1 == 1:\n",
    "    print('populer')\n",
    "else:\n",
    "    print('unpopuler')"
   ]
  },
  {
   "cell_type": "code",
   "execution_count": null,
   "id": "46876e09",
   "metadata": {
    "colab": {
     "base_uri": "https://localhost:8080/"
    },
    "id": "46876e09",
    "outputId": "211f10fb-8697-4d57-aa42-302c43378323"
   },
   "outputs": [],
   "source": [
    "ex2 = knn.predict([[2, 5, 336, 0, 0, 0, 0, 0]])\n",
    "ex3 = svc.predict([[2, 5, 336, 0, 0, 0, 0, 0]])\n",
    "ex4 = dtc.predict([[2, 5, 336, 0, 0, 0, 0, 0]])\n",
    "ex5 = rfc.predict([[2, 5, 336, 0, 0, 0, 0, 0]])\n",
    "ex6 = gbc.predict([[2, 5, 336, 0, 0, 0, 0, 0]])"
   ]
  },
  {
   "cell_type": "code",
   "execution_count": null,
   "id": "1ac971d0",
   "metadata": {
    "colab": {
     "base_uri": "https://localhost:8080/"
    },
    "id": "1ac971d0",
    "outputId": "1323b1ff-1d6c-4c86-d16f-aa6589e9c0bc"
   },
   "outputs": [],
   "source": [
    "print(ex2)\n",
    "print(ex3)\n",
    "print(ex4)\n",
    "print(ex5)\n",
    "print(ex6)"
   ]
  },
  {
   "cell_type": "code",
   "execution_count": null,
   "id": "c48021d6",
   "metadata": {
    "id": "c48021d6"
   },
   "outputs": [],
   "source": [
    "result = pd.DataFrame({'Models': ['LR', 'KNN', 'SVC', 'DTC', 'RFC', 'GBC'],\n",
    "                      'AUC': [roc_auc_score(y_test, y_pred1) * 100,\n",
    "                             roc_auc_score(y_test, y_pred2) * 100,\n",
    "                             roc_auc_score(y_test, y_pred3) * 100,\n",
    "                             roc_auc_score(y_test, y_pred4) * 100,\n",
    "                             roc_auc_score(y_test, y_pred5) * 100,\n",
    "                             roc_auc_score(y_test, y_pred6) * 100],\n",
    "                      'ACC': [accuracy_score(y_test, y_pred1) * 100,\n",
    "                             accuracy_score(y_test, y_pred2) * 100,\n",
    "                             accuracy_score(y_test, y_pred3) * 100,\n",
    "                             accuracy_score(y_test, y_pred4) * 100,\n",
    "                             accuracy_score(y_test, y_pred5) * 100,\n",
    "                             accuracy_score(y_test, y_pred6) * 100]})"
   ]
  },
  {
   "cell_type": "code",
   "execution_count": null,
   "id": "0f929644",
   "metadata": {
    "colab": {
     "base_uri": "https://localhost:8080/",
     "height": 238
    },
    "id": "0f929644",
    "outputId": "2868829c-fd1f-4b44-fbfa-18f6e34b8fbb"
   },
   "outputs": [],
   "source": [
    "result"
   ]
  },
  {
   "cell_type": "code",
   "execution_count": null,
   "id": "7f381629",
   "metadata": {
    "colab": {
     "base_uri": "https://localhost:8080/"
    },
    "id": "7f381629",
    "outputId": "c4077f9a-b066-4592-d791-b4f445b98a39"
   },
   "outputs": [],
   "source": [
    "result.sort_values(by='AUC', ascending=False).index"
   ]
  },
  {
   "cell_type": "code",
   "execution_count": null,
   "id": "2cdf439f",
   "metadata": {
    "colab": {
     "base_uri": "https://localhost:8080/",
     "height": 487
    },
    "id": "2cdf439f",
    "outputId": "b4c6a1fa-cca0-4fef-cbf7-544a8f248b0e"
   },
   "outputs": [],
   "source": [
    "plt.figure(figsize=(5, 5))\n",
    "\n",
    "sns.barplot(x=result['Models'], y=result['AUC'])\n",
    "\n",
    "plt.title('Area Under the Curve')\n",
    "\n",
    "plt.show()"
   ]
  },
  {
   "cell_type": "code",
   "execution_count": null,
   "id": "ce1adfcb",
   "metadata": {
    "colab": {
     "base_uri": "https://localhost:8080/",
     "height": 487
    },
    "id": "ce1adfcb",
    "outputId": "3ef59e5b-6652-45b3-8692-077a078f83f6"
   },
   "outputs": [],
   "source": [
    "plt.figure(figsize=(5, 5))\n",
    "\n",
    "sns.barplot(x=result['Models'], y=result['ACC'])\n",
    "\n",
    "plt.title('Accuracy')\n",
    "\n",
    "plt.show()"
   ]
  },
  {
   "cell_type": "code",
   "execution_count": null,
   "id": "cacb1178",
   "metadata": {
    "id": "cacb1178"
   },
   "outputs": [],
   "source": [
    "import joblib"
   ]
  },
  {
   "cell_type": "code",
   "execution_count": null,
   "id": "55bd85b2",
   "metadata": {
    "id": "55bd85b2"
   },
   "outputs": [],
   "source": [
    "joblib.dump(lr, 'wikipedia_classification')"
   ]
  },
  {
   "cell_type": "code",
   "execution_count": null,
   "id": "e86a442e",
   "metadata": {
    "id": "e86a442e"
   },
   "outputs": [],
   "source": [
    "# model_lr = joblib.load('./wikipedia_classification')"
   ]
  },
  {
   "cell_type": "code",
   "execution_count": null,
   "id": "e713e38a",
   "metadata": {
    "id": "e713e38a"
   },
   "outputs": [],
   "source": [
    "# model_lr.predict([[2, 5, 336, 0, 0, 0, 0, 0]])"
   ]
  },
  {
   "cell_type": "code",
   "execution_count": null,
   "id": "2e230c2f",
   "metadata": {
    "id": "2e230c2f"
   },
   "outputs": [],
   "source": []
  }
 ],
 "metadata": {
  "colab": {
   "provenance": []
  },
  "kernelspec": {
   "display_name": "Python 3 (ipykernel)",
   "language": "python",
   "name": "python3"
  },
  "language_info": {
   "codemirror_mode": {
    "name": "ipython",
    "version": 3
   },
   "file_extension": ".py",
   "mimetype": "text/x-python",
   "name": "python",
   "nbconvert_exporter": "python",
   "pygments_lexer": "ipython3",
   "version": "3.8.16"
  }
 },
 "nbformat": 4,
 "nbformat_minor": 5
}
