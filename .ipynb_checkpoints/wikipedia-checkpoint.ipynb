{
 "cells": [
  {
   "cell_type": "code",
   "execution_count": 1,
   "id": "8f986bd6",
   "metadata": {},
   "outputs": [],
   "source": [
    "import pandas as pd\n",
    "import numpy as np \n",
    "import matplotlib.pyplot as plt\n",
    "import seaborn as sns"
   ]
  },
  {
   "cell_type": "code",
   "execution_count": 11,
   "id": "2e595ed7",
   "metadata": {},
   "outputs": [
    {
     "data": {
      "text/html": [
       "<div>\n",
       "<style scoped>\n",
       "    .dataframe tbody tr th:only-of-type {\n",
       "        vertical-align: middle;\n",
       "    }\n",
       "\n",
       "    .dataframe tbody tr th {\n",
       "        vertical-align: top;\n",
       "    }\n",
       "\n",
       "    .dataframe thead th {\n",
       "        text-align: right;\n",
       "    }\n",
       "</style>\n",
       "<table border=\"1\" class=\"dataframe\">\n",
       "  <thead>\n",
       "    <tr style=\"text-align: right;\">\n",
       "      <th></th>\n",
       "      <th>0</th>\n",
       "      <th>1</th>\n",
       "      <th>2</th>\n",
       "      <th>3</th>\n",
       "      <th>4</th>\n",
       "      <th>5</th>\n",
       "      <th>6</th>\n",
       "      <th>7</th>\n",
       "      <th>8</th>\n",
       "      <th>9</th>\n",
       "      <th>10</th>\n",
       "      <th>11</th>\n",
       "    </tr>\n",
       "  </thead>\n",
       "  <tbody>\n",
       "    <tr>\n",
       "      <th>0</th>\n",
       "      <td>monotonic</td>\n",
       "      <td>timestamp</td>\n",
       "      <td>url</td>\n",
       "      <td>flag</td>\n",
       "      <td>prefix_1</td>\n",
       "      <td>prefix_2</td>\n",
       "      <td>prefix_3</td>\n",
       "      <td>prefix_4</td>\n",
       "      <td>prefix_5</td>\n",
       "      <td>prefix_6</td>\n",
       "      <td>prefix_7</td>\n",
       "      <td>prefix_8</td>\n",
       "    </tr>\n",
       "    <tr>\n",
       "      <th>1</th>\n",
       "      <td>929840853</td>\n",
       "      <td>1190146243.326</td>\n",
       "      <td>http://upload.wikimedia.org/wikipedia/en/thumb...</td>\n",
       "      <td>-</td>\n",
       "      <td>http://upload.wikimedia.org</td>\n",
       "      <td>wikipedia</td>\n",
       "      <td>en</td>\n",
       "      <td>thumb</td>\n",
       "      <td>e</td>\n",
       "      <td>e4</td>\n",
       "      <td>James_Johnson.jpg</td>\n",
       "      <td>200px-James_Johnson.jpg</td>\n",
       "    </tr>\n",
       "    <tr>\n",
       "      <th>2</th>\n",
       "      <td>929840856</td>\n",
       "      <td>1190146243.321</td>\n",
       "      <td>http://en.wikipedia.org/images/wiki-en.png</td>\n",
       "      <td>-</td>\n",
       "      <td>http://en.wikipedia.org</td>\n",
       "      <td>images</td>\n",
       "      <td>wiki-en.png</td>\n",
       "      <td>NaN</td>\n",
       "      <td>NaN</td>\n",
       "      <td>NaN</td>\n",
       "      <td>NaN</td>\n",
       "      <td>NaN</td>\n",
       "    </tr>\n",
       "    <tr>\n",
       "      <th>3</th>\n",
       "      <td>929840854</td>\n",
       "      <td>1190146243.311</td>\n",
       "      <td>http://upload.wikimedia.org/wikipedia/commons/...</td>\n",
       "      <td>-</td>\n",
       "      <td>http://upload.wikimedia.org</td>\n",
       "      <td>wikipedia</td>\n",
       "      <td>commons</td>\n",
       "      <td>thumb</td>\n",
       "      <td>b</td>\n",
       "      <td>b9</td>\n",
       "      <td>Flag_of_Australia.svg</td>\n",
       "      <td>22px-Flag_of_Australia.svg.png</td>\n",
       "    </tr>\n",
       "    <tr>\n",
       "      <th>4</th>\n",
       "      <td>929840855</td>\n",
       "      <td>1190146243.301</td>\n",
       "      <td>http://es.wikipedia.org/w/index.php?title=-&amp;ac...</td>\n",
       "      <td>-</td>\n",
       "      <td>http://es.wikipedia.org</td>\n",
       "      <td>w</td>\n",
       "      <td>index.php?title=-&amp;action=raw&amp;gen=js&amp;useskin=mo...</td>\n",
       "      <td>NaN</td>\n",
       "      <td>NaN</td>\n",
       "      <td>NaN</td>\n",
       "      <td>NaN</td>\n",
       "      <td>NaN</td>\n",
       "    </tr>\n",
       "  </tbody>\n",
       "</table>\n",
       "</div>"
      ],
      "text/plain": [
       "          0               1   \\\n",
       "0  monotonic       timestamp   \n",
       "1  929840853  1190146243.326   \n",
       "2  929840856  1190146243.321   \n",
       "3  929840854  1190146243.311   \n",
       "4  929840855  1190146243.301   \n",
       "\n",
       "                                                  2     3   \\\n",
       "0                                                url  flag   \n",
       "1  http://upload.wikimedia.org/wikipedia/en/thumb...     -   \n",
       "2         http://en.wikipedia.org/images/wiki-en.png     -   \n",
       "3  http://upload.wikimedia.org/wikipedia/commons/...     -   \n",
       "4  http://es.wikipedia.org/w/index.php?title=-&ac...     -   \n",
       "\n",
       "                            4          5   \\\n",
       "0                     prefix_1   prefix_2   \n",
       "1  http://upload.wikimedia.org  wikipedia   \n",
       "2      http://en.wikipedia.org     images   \n",
       "3  http://upload.wikimedia.org  wikipedia   \n",
       "4      http://es.wikipedia.org          w   \n",
       "\n",
       "                                                  6         7         8   \\\n",
       "0                                           prefix_3  prefix_4  prefix_5   \n",
       "1                                                 en     thumb         e   \n",
       "2                                        wiki-en.png       NaN       NaN   \n",
       "3                                            commons     thumb         b   \n",
       "4  index.php?title=-&action=raw&gen=js&useskin=mo...       NaN       NaN   \n",
       "\n",
       "         9                      10                              11  \n",
       "0  prefix_6               prefix_7                        prefix_8  \n",
       "1        e4      James_Johnson.jpg         200px-James_Johnson.jpg  \n",
       "2       NaN                    NaN                             NaN  \n",
       "3        b9  Flag_of_Australia.svg  22px-Flag_of_Australia.svg.png  \n",
       "4       NaN                    NaN                             NaN  "
      ]
     },
     "execution_count": 11,
     "metadata": {},
     "output_type": "execute_result"
    }
   ],
   "source": [
    "df = pd.read_csv('./dataset/wikipedia_trace.csv', on_bad_lines='skip', header=None, sep=',', encoding='latin-1')\n",
    "df.head()"
   ]
  },
  {
   "cell_type": "code",
   "execution_count": 5,
   "id": "c287ba6f",
   "metadata": {},
   "outputs": [],
   "source": [
    "df.drop(columns=4, inplace=True)"
   ]
  },
  {
   "cell_type": "code",
   "execution_count": 6,
   "id": "6dd9e58f",
   "metadata": {},
   "outputs": [
    {
     "data": {
      "text/html": [
       "<div>\n",
       "<style scoped>\n",
       "    .dataframe tbody tr th:only-of-type {\n",
       "        vertical-align: middle;\n",
       "    }\n",
       "\n",
       "    .dataframe tbody tr th {\n",
       "        vertical-align: top;\n",
       "    }\n",
       "\n",
       "    .dataframe thead th {\n",
       "        text-align: right;\n",
       "    }\n",
       "</style>\n",
       "<table border=\"1\" class=\"dataframe\">\n",
       "  <thead>\n",
       "    <tr style=\"text-align: right;\">\n",
       "      <th></th>\n",
       "      <th>0</th>\n",
       "      <th>1</th>\n",
       "      <th>2</th>\n",
       "      <th>3</th>\n",
       "      <th>5</th>\n",
       "      <th>6</th>\n",
       "      <th>7</th>\n",
       "      <th>8</th>\n",
       "      <th>9</th>\n",
       "      <th>10</th>\n",
       "      <th>11</th>\n",
       "    </tr>\n",
       "  </thead>\n",
       "  <tbody>\n",
       "    <tr>\n",
       "      <th>0</th>\n",
       "      <td>monotonic</td>\n",
       "      <td>timestamp</td>\n",
       "      <td>url</td>\n",
       "      <td>flag</td>\n",
       "      <td>prefix_2</td>\n",
       "      <td>prefix_3</td>\n",
       "      <td>prefix_4</td>\n",
       "      <td>prefix_5</td>\n",
       "      <td>prefix_6</td>\n",
       "      <td>prefix_7</td>\n",
       "      <td>prefix_8</td>\n",
       "    </tr>\n",
       "    <tr>\n",
       "      <th>1</th>\n",
       "      <td>929840853</td>\n",
       "      <td>1190146243.326</td>\n",
       "      <td>http://upload.wikimedia.org/wikipedia/en/thumb...</td>\n",
       "      <td>-</td>\n",
       "      <td>wikipedia</td>\n",
       "      <td>en</td>\n",
       "      <td>thumb</td>\n",
       "      <td>e</td>\n",
       "      <td>e4</td>\n",
       "      <td>James_Johnson.jpg</td>\n",
       "      <td>200px-James_Johnson.jpg</td>\n",
       "    </tr>\n",
       "    <tr>\n",
       "      <th>2</th>\n",
       "      <td>929840856</td>\n",
       "      <td>1190146243.321</td>\n",
       "      <td>http://en.wikipedia.org/images/wiki-en.png</td>\n",
       "      <td>-</td>\n",
       "      <td>images</td>\n",
       "      <td>wiki-en.png</td>\n",
       "      <td>NaN</td>\n",
       "      <td>NaN</td>\n",
       "      <td>NaN</td>\n",
       "      <td>NaN</td>\n",
       "      <td>NaN</td>\n",
       "    </tr>\n",
       "    <tr>\n",
       "      <th>3</th>\n",
       "      <td>929840854</td>\n",
       "      <td>1190146243.311</td>\n",
       "      <td>http://upload.wikimedia.org/wikipedia/commons/...</td>\n",
       "      <td>-</td>\n",
       "      <td>wikipedia</td>\n",
       "      <td>commons</td>\n",
       "      <td>thumb</td>\n",
       "      <td>b</td>\n",
       "      <td>b9</td>\n",
       "      <td>Flag_of_Australia.svg</td>\n",
       "      <td>22px-Flag_of_Australia.svg.png</td>\n",
       "    </tr>\n",
       "    <tr>\n",
       "      <th>4</th>\n",
       "      <td>929840855</td>\n",
       "      <td>1190146243.301</td>\n",
       "      <td>http://es.wikipedia.org/w/index.php?title=-&amp;ac...</td>\n",
       "      <td>-</td>\n",
       "      <td>w</td>\n",
       "      <td>index.php?title=-&amp;action=raw&amp;gen=js&amp;useskin=mo...</td>\n",
       "      <td>NaN</td>\n",
       "      <td>NaN</td>\n",
       "      <td>NaN</td>\n",
       "      <td>NaN</td>\n",
       "      <td>NaN</td>\n",
       "    </tr>\n",
       "  </tbody>\n",
       "</table>\n",
       "</div>"
      ],
      "text/plain": [
       "          0               1   \\\n",
       "0  monotonic       timestamp   \n",
       "1  929840853  1190146243.326   \n",
       "2  929840856  1190146243.321   \n",
       "3  929840854  1190146243.311   \n",
       "4  929840855  1190146243.301   \n",
       "\n",
       "                                                  2     3          5   \\\n",
       "0                                                url  flag   prefix_2   \n",
       "1  http://upload.wikimedia.org/wikipedia/en/thumb...     -  wikipedia   \n",
       "2         http://en.wikipedia.org/images/wiki-en.png     -     images   \n",
       "3  http://upload.wikimedia.org/wikipedia/commons/...     -  wikipedia   \n",
       "4  http://es.wikipedia.org/w/index.php?title=-&ac...     -          w   \n",
       "\n",
       "                                                  6         7         8   \\\n",
       "0                                           prefix_3  prefix_4  prefix_5   \n",
       "1                                                 en     thumb         e   \n",
       "2                                        wiki-en.png       NaN       NaN   \n",
       "3                                            commons     thumb         b   \n",
       "4  index.php?title=-&action=raw&gen=js&useskin=mo...       NaN       NaN   \n",
       "\n",
       "         9                      10                              11  \n",
       "0  prefix_6               prefix_7                        prefix_8  \n",
       "1        e4      James_Johnson.jpg         200px-James_Johnson.jpg  \n",
       "2       NaN                    NaN                             NaN  \n",
       "3        b9  Flag_of_Australia.svg  22px-Flag_of_Australia.svg.png  \n",
       "4       NaN                    NaN                             NaN  "
      ]
     },
     "execution_count": 6,
     "metadata": {},
     "output_type": "execute_result"
    }
   ],
   "source": [
    "df.head()"
   ]
  },
  {
   "cell_type": "code",
   "execution_count": 7,
   "id": "b4336c04",
   "metadata": {},
   "outputs": [
    {
     "ename": "ValueError",
     "evalue": "Length mismatch: Expected axis has 11 elements, new values have 4 elements",
     "output_type": "error",
     "traceback": [
      "\u001b[0;31m---------------------------------------------------------------------------\u001b[0m",
      "\u001b[0;31mValueError\u001b[0m                                Traceback (most recent call last)",
      "Cell \u001b[0;32mIn[7], line 1\u001b[0m\n\u001b[0;32m----> 1\u001b[0m df\u001b[38;5;241m.\u001b[39mcolumns \u001b[38;5;241m=\u001b[39m [\u001b[38;5;124m'\u001b[39m\u001b[38;5;124mmonotonic\u001b[39m\u001b[38;5;124m'\u001b[39m, \u001b[38;5;124m'\u001b[39m\u001b[38;5;124mtimestamp\u001b[39m\u001b[38;5;124m'\u001b[39m, \u001b[38;5;124m'\u001b[39m\u001b[38;5;124murl\u001b[39m\u001b[38;5;124m'\u001b[39m, \u001b[38;5;124m'\u001b[39m\u001b[38;5;124mflag\u001b[39m\u001b[38;5;124m'\u001b[39m]\n",
      "File \u001b[0;32m~/.local/lib/python3.8/site-packages/pandas/core/generic.py:5920\u001b[0m, in \u001b[0;36mNDFrame.__setattr__\u001b[0;34m(self, name, value)\u001b[0m\n\u001b[1;32m   5918\u001b[0m \u001b[38;5;28;01mtry\u001b[39;00m:\n\u001b[1;32m   5919\u001b[0m     \u001b[38;5;28mobject\u001b[39m\u001b[38;5;241m.\u001b[39m\u001b[38;5;21m__getattribute__\u001b[39m(\u001b[38;5;28mself\u001b[39m, name)\n\u001b[0;32m-> 5920\u001b[0m     \u001b[38;5;28;01mreturn\u001b[39;00m \u001b[38;5;28;43mobject\u001b[39;49m\u001b[38;5;241;43m.\u001b[39;49m\u001b[38;5;21;43m__setattr__\u001b[39;49m\u001b[43m(\u001b[49m\u001b[38;5;28;43mself\u001b[39;49m\u001b[43m,\u001b[49m\u001b[43m \u001b[49m\u001b[43mname\u001b[49m\u001b[43m,\u001b[49m\u001b[43m \u001b[49m\u001b[43mvalue\u001b[49m\u001b[43m)\u001b[49m\n\u001b[1;32m   5921\u001b[0m \u001b[38;5;28;01mexcept\u001b[39;00m \u001b[38;5;167;01mAttributeError\u001b[39;00m:\n\u001b[1;32m   5922\u001b[0m     \u001b[38;5;28;01mpass\u001b[39;00m\n",
      "File \u001b[0;32m~/.local/lib/python3.8/site-packages/pandas/_libs/properties.pyx:69\u001b[0m, in \u001b[0;36mpandas._libs.properties.AxisProperty.__set__\u001b[0;34m()\u001b[0m\n",
      "File \u001b[0;32m~/.local/lib/python3.8/site-packages/pandas/core/generic.py:822\u001b[0m, in \u001b[0;36mNDFrame._set_axis\u001b[0;34m(self, axis, labels)\u001b[0m\n\u001b[1;32m    820\u001b[0m \u001b[38;5;28;01mdef\u001b[39;00m \u001b[38;5;21m_set_axis\u001b[39m(\u001b[38;5;28mself\u001b[39m, axis: \u001b[38;5;28mint\u001b[39m, labels: AnyArrayLike \u001b[38;5;241m|\u001b[39m \u001b[38;5;28mlist\u001b[39m) \u001b[38;5;241m-\u001b[39m\u001b[38;5;241m>\u001b[39m \u001b[38;5;28;01mNone\u001b[39;00m:\n\u001b[1;32m    821\u001b[0m     labels \u001b[38;5;241m=\u001b[39m ensure_index(labels)\n\u001b[0;32m--> 822\u001b[0m     \u001b[38;5;28;43mself\u001b[39;49m\u001b[38;5;241;43m.\u001b[39;49m\u001b[43m_mgr\u001b[49m\u001b[38;5;241;43m.\u001b[39;49m\u001b[43mset_axis\u001b[49m\u001b[43m(\u001b[49m\u001b[43maxis\u001b[49m\u001b[43m,\u001b[49m\u001b[43m \u001b[49m\u001b[43mlabels\u001b[49m\u001b[43m)\u001b[49m\n\u001b[1;32m    823\u001b[0m     \u001b[38;5;28mself\u001b[39m\u001b[38;5;241m.\u001b[39m_clear_item_cache()\n",
      "File \u001b[0;32m~/.local/lib/python3.8/site-packages/pandas/core/internals/managers.py:228\u001b[0m, in \u001b[0;36mBaseBlockManager.set_axis\u001b[0;34m(self, axis, new_labels)\u001b[0m\n\u001b[1;32m    226\u001b[0m \u001b[38;5;28;01mdef\u001b[39;00m \u001b[38;5;21mset_axis\u001b[39m(\u001b[38;5;28mself\u001b[39m, axis: \u001b[38;5;28mint\u001b[39m, new_labels: Index) \u001b[38;5;241m-\u001b[39m\u001b[38;5;241m>\u001b[39m \u001b[38;5;28;01mNone\u001b[39;00m:\n\u001b[1;32m    227\u001b[0m     \u001b[38;5;66;03m# Caller is responsible for ensuring we have an Index object.\u001b[39;00m\n\u001b[0;32m--> 228\u001b[0m     \u001b[38;5;28;43mself\u001b[39;49m\u001b[38;5;241;43m.\u001b[39;49m\u001b[43m_validate_set_axis\u001b[49m\u001b[43m(\u001b[49m\u001b[43maxis\u001b[49m\u001b[43m,\u001b[49m\u001b[43m \u001b[49m\u001b[43mnew_labels\u001b[49m\u001b[43m)\u001b[49m\n\u001b[1;32m    229\u001b[0m     \u001b[38;5;28mself\u001b[39m\u001b[38;5;241m.\u001b[39maxes[axis] \u001b[38;5;241m=\u001b[39m new_labels\n",
      "File \u001b[0;32m~/.local/lib/python3.8/site-packages/pandas/core/internals/base.py:70\u001b[0m, in \u001b[0;36mDataManager._validate_set_axis\u001b[0;34m(self, axis, new_labels)\u001b[0m\n\u001b[1;32m     67\u001b[0m     \u001b[38;5;28;01mpass\u001b[39;00m\n\u001b[1;32m     69\u001b[0m \u001b[38;5;28;01melif\u001b[39;00m new_len \u001b[38;5;241m!=\u001b[39m old_len:\n\u001b[0;32m---> 70\u001b[0m     \u001b[38;5;28;01mraise\u001b[39;00m \u001b[38;5;167;01mValueError\u001b[39;00m(\n\u001b[1;32m     71\u001b[0m         \u001b[38;5;124mf\u001b[39m\u001b[38;5;124m\"\u001b[39m\u001b[38;5;124mLength mismatch: Expected axis has \u001b[39m\u001b[38;5;132;01m{\u001b[39;00mold_len\u001b[38;5;132;01m}\u001b[39;00m\u001b[38;5;124m elements, new \u001b[39m\u001b[38;5;124m\"\u001b[39m\n\u001b[1;32m     72\u001b[0m         \u001b[38;5;124mf\u001b[39m\u001b[38;5;124m\"\u001b[39m\u001b[38;5;124mvalues have \u001b[39m\u001b[38;5;132;01m{\u001b[39;00mnew_len\u001b[38;5;132;01m}\u001b[39;00m\u001b[38;5;124m elements\u001b[39m\u001b[38;5;124m\"\u001b[39m\n\u001b[1;32m     73\u001b[0m     )\n",
      "\u001b[0;31mValueError\u001b[0m: Length mismatch: Expected axis has 11 elements, new values have 4 elements"
     ]
    }
   ],
   "source": [
    "df.columns = ['monotonic', 'timestamp', 'url', 'flag']"
   ]
  },
  {
   "cell_type": "code",
   "execution_count": null,
   "id": "a9911e0d",
   "metadata": {},
   "outputs": [],
   "source": [
    "df.head()"
   ]
  },
  {
   "cell_type": "code",
   "execution_count": null,
   "id": "6e1494f6",
   "metadata": {},
   "outputs": [],
   "source": [
    "df.shape"
   ]
  },
  {
   "cell_type": "code",
   "execution_count": null,
   "id": "6a66d85b",
   "metadata": {},
   "outputs": [],
   "source": [
    "df.url.nunique()"
   ]
  },
  {
   "cell_type": "code",
   "execution_count": null,
   "id": "ea81d325",
   "metadata": {},
   "outputs": [],
   "source": [
    "df.flag.unique()"
   ]
  },
  {
   "cell_type": "code",
   "execution_count": null,
   "id": "894ab717",
   "metadata": {},
   "outputs": [],
   "source": [
    "df.sort_values(by=['monotonic'])"
   ]
  },
  {
   "cell_type": "code",
   "execution_count": null,
   "id": "81adf09f",
   "metadata": {},
   "outputs": [],
   "source": [
    "upload = df[df.url.str.contains('upload')]"
   ]
  },
  {
   "cell_type": "code",
   "execution_count": null,
   "id": "78ea8608",
   "metadata": {},
   "outputs": [],
   "source": [
    "upload.head()"
   ]
  },
  {
   "cell_type": "code",
   "execution_count": null,
   "id": "cbaba989",
   "metadata": {},
   "outputs": [],
   "source": [
    "upload.shape"
   ]
  },
  {
   "cell_type": "code",
   "execution_count": null,
   "id": "f30bec45",
   "metadata": {},
   "outputs": [],
   "source": [
    "upload.url.nunique()"
   ]
  },
  {
   "cell_type": "code",
   "execution_count": null,
   "id": "a401cc7c",
   "metadata": {},
   "outputs": [],
   "source": [
    "upload.url.value_counts()"
   ]
  },
  {
   "cell_type": "code",
   "execution_count": null,
   "id": "6266f732",
   "metadata": {},
   "outputs": [],
   "source": [
    "value = upload.pivot_table(columns=['url'], aggfunc='size')"
   ]
  },
  {
   "cell_type": "code",
   "execution_count": null,
   "id": "2bc114f3",
   "metadata": {},
   "outputs": [],
   "source": [
    "print(value)"
   ]
  },
  {
   "cell_type": "code",
   "execution_count": null,
   "id": "1264b645",
   "metadata": {},
   "outputs": [],
   "source": [
    "upload['count'] = upload.groupby(['url'])['url'].transform('count')"
   ]
  },
  {
   "cell_type": "code",
   "execution_count": null,
   "id": "f605d0ea",
   "metadata": {},
   "outputs": [],
   "source": [
    "upload.head()"
   ]
  },
  {
   "cell_type": "code",
   "execution_count": null,
   "id": "9033ba61",
   "metadata": {},
   "outputs": [],
   "source": [
    "upload.sort_values(by='count', ascending=False)"
   ]
  },
  {
   "cell_type": "code",
   "execution_count": null,
   "id": "2ba5b044",
   "metadata": {},
   "outputs": [],
   "source": [
    "upload['timestamp'] = pd.to_datetime(upload['timestamp'], unit='ms')"
   ]
  },
  {
   "cell_type": "code",
   "execution_count": null,
   "id": "2b01eaf3",
   "metadata": {},
   "outputs": [],
   "source": [
    "upload.head()"
   ]
  },
  {
   "cell_type": "code",
   "execution_count": null,
   "id": "f004bdc2",
   "metadata": {},
   "outputs": [],
   "source": [
    "upload.url.iloc[0]"
   ]
  },
  {
   "cell_type": "code",
   "execution_count": null,
   "id": "77b4f4f9",
   "metadata": {},
   "outputs": [],
   "source": [
    "upload.url.str.split('/', expand=True)"
   ]
  },
  {
   "cell_type": "code",
   "execution_count": null,
   "id": "a01a1b4c",
   "metadata": {},
   "outputs": [],
   "source": []
  },
  {
   "cell_type": "code",
   "execution_count": null,
   "id": "636f54c5",
   "metadata": {},
   "outputs": [],
   "source": []
  },
  {
   "cell_type": "code",
   "execution_count": null,
   "id": "9b1a80dd",
   "metadata": {},
   "outputs": [],
   "source": []
  },
  {
   "cell_type": "code",
   "execution_count": null,
   "id": "49822005",
   "metadata": {},
   "outputs": [],
   "source": [
    "wiki = df[df.url.str.contains('upload') == False]"
   ]
  },
  {
   "cell_type": "code",
   "execution_count": null,
   "id": "97e85176",
   "metadata": {},
   "outputs": [],
   "source": [
    "wiki.head()"
   ]
  },
  {
   "cell_type": "code",
   "execution_count": null,
   "id": "eda78ba4",
   "metadata": {},
   "outputs": [],
   "source": [
    "wiki.shape"
   ]
  },
  {
   "cell_type": "code",
   "execution_count": null,
   "id": "a09ad245",
   "metadata": {},
   "outputs": [],
   "source": [
    "wiki.url.nunique()"
   ]
  },
  {
   "cell_type": "code",
   "execution_count": null,
   "id": "98104f1d",
   "metadata": {},
   "outputs": [],
   "source": [
    "# wiki_value = wiki['url'].value_counts().reset_index(name='value').query('value > 1')"
   ]
  },
  {
   "cell_type": "code",
   "execution_count": null,
   "id": "380c0783",
   "metadata": {},
   "outputs": [],
   "source": [
    "# wiki_value.head()"
   ]
  },
  {
   "cell_type": "code",
   "execution_count": null,
   "id": "c0cc9e45",
   "metadata": {},
   "outputs": [],
   "source": [
    "wiki.head()"
   ]
  },
  {
   "cell_type": "code",
   "execution_count": null,
   "id": "6e30ca30",
   "metadata": {},
   "outputs": [],
   "source": [
    "wiki['count'] = wiki.groupby(['url'])['url'].transform('count')"
   ]
  },
  {
   "cell_type": "code",
   "execution_count": null,
   "id": "8cfb3d9e",
   "metadata": {},
   "outputs": [],
   "source": [
    "wiki.head()"
   ]
  },
  {
   "cell_type": "code",
   "execution_count": null,
   "id": "3d5ffcf0",
   "metadata": {},
   "outputs": [],
   "source": [
    "wiki['url'].iloc[2]"
   ]
  },
  {
   "cell_type": "code",
   "execution_count": null,
   "id": "88301695",
   "metadata": {},
   "outputs": [],
   "source": [
    "wiki.sort_values(by=['count'], ascending=False)"
   ]
  },
  {
   "cell_type": "code",
   "execution_count": null,
   "id": "3d2f8ac3",
   "metadata": {},
   "outputs": [],
   "source": [
    "wiki['timestamp'] = pd.to_datetime(wiki['timestamp'], unit='ms')"
   ]
  },
  {
   "cell_type": "code",
   "execution_count": null,
   "id": "8345b14f",
   "metadata": {},
   "outputs": [],
   "source": [
    "wiki.head(2)"
   ]
  },
  {
   "cell_type": "code",
   "execution_count": null,
   "id": "08d85ee9",
   "metadata": {},
   "outputs": [],
   "source": [
    "wiki.url.unique()"
   ]
  },
  {
   "cell_type": "code",
   "execution_count": null,
   "id": "c9a3c23b",
   "metadata": {},
   "outputs": [],
   "source": [
    "wiki.url.str[7:9].value_counts()"
   ]
  },
  {
   "cell_type": "code",
   "execution_count": null,
   "id": "38718007",
   "metadata": {},
   "outputs": [],
   "source": [
    "wiki[wiki.url.str.contains('.jpg')]"
   ]
  },
  {
   "cell_type": "code",
   "execution_count": null,
   "id": "4ec6fff6",
   "metadata": {},
   "outputs": [],
   "source": [
    "wiki[wiki.url.str.contains('/wiki/')]"
   ]
  },
  {
   "cell_type": "code",
   "execution_count": null,
   "id": "9ad2d95d",
   "metadata": {},
   "outputs": [],
   "source": [
    "wiki.url.str.split('/', expand=True)"
   ]
  },
  {
   "cell_type": "code",
   "execution_count": null,
   "id": "eef0104d",
   "metadata": {},
   "outputs": [],
   "source": [
    "wiki"
   ]
  },
  {
   "cell_type": "code",
   "execution_count": null,
   "id": "bd9f4228",
   "metadata": {},
   "outputs": [],
   "source": [
    "wiki.loc[4][2]"
   ]
  },
  {
   "cell_type": "code",
   "execution_count": null,
   "id": "2e68df9e",
   "metadata": {},
   "outputs": [],
   "source": []
  }
 ],
 "metadata": {
  "kernelspec": {
   "display_name": "Python 3 (ipykernel)",
   "language": "python",
   "name": "python3"
  },
  "language_info": {
   "codemirror_mode": {
    "name": "ipython",
    "version": 3
   },
   "file_extension": ".py",
   "mimetype": "text/x-python",
   "name": "python",
   "nbconvert_exporter": "python",
   "pygments_lexer": "ipython3",
   "version": "3.8.16"
  }
 },
 "nbformat": 4,
 "nbformat_minor": 5
}
